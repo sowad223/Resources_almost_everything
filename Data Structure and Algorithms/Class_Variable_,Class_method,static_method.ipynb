{
  "nbformat": 4,
  "nbformat_minor": 0,
  "metadata": {
    "colab": {
      "provenance": [],
      "authorship_tag": "ABX9TyPFIL2EYZ/MDN804HfU7JTh",
      "include_colab_link": true
    },
    "kernelspec": {
      "name": "python3",
      "display_name": "Python 3"
    },
    "language_info": {
      "name": "python"
    }
  },
  "cells": [
    {
      "cell_type": "markdown",
      "metadata": {
        "id": "view-in-github",
        "colab_type": "text"
      },
      "source": [
        "<a href=\"https://colab.research.google.com/github/showrin20/100-days-of-Python/blob/main/Class_Variable_%2CClass_method%2Cstatic_method.ipynb\" target=\"_parent\"><img src=\"https://colab.research.google.com/assets/colab-badge.svg\" alt=\"Open In Colab\"/></a>"
      ]
    },
    {
      "cell_type": "code",
      "source": [
        "class Assassin:\n",
        "  T_Assassin=0\n",
        "  def __init__(self,name,rate):\n",
        "    self.name=name\n",
        "    self.rate=rate\n",
        "    Assassin.T_Assassin+=1\n",
        "  def printDetails(self):\n",
        "    print(f\"Name: {self.name}\\nrate:{self.rate}%\\nTotal number of Assassin:{Assassin.T_Assassin} \")\n",
        "  @classmethod\n",
        "  def failureRate(cls,name,f_rate):\n",
        "      rate2=100-f_rate\n",
        "      return Assassin(name,rate2)\n",
        "  @classmethod\n",
        "  def failurePercentage(cls,name,percent):\n",
        "    rate3=100-int(percent[0:2])\n",
        "    return Assassin(name,rate3)\n",
        "  \n",
        "    \n",
        "\n",
        "    \n",
        "\n",
        "\n",
        "\n",
        "    \n",
        "\n",
        "\n",
        "john_wick = Assassin('John Wick', 100)\n",
        "john_wick.printDetails()\n",
        "print('================================')\n",
        "nagisa = Assassin.failureRate(\"Nagisa\", 20)\n",
        "nagisa.printDetails()\n",
        "print('================================')\n",
        "akabane = Assassin.failurePercentage(\"Akabane\", \"10%\")\n",
        "akabane.printDetails()\n"
      ],
      "metadata": {
        "id": "wGtf_gdfwAlw",
        "colab": {
          "base_uri": "https://localhost:8080/"
        },
        "outputId": "77f62cab-bb47-41ea-96e3-bbb42187c4f0"
      },
      "execution_count": null,
      "outputs": [
        {
          "output_type": "stream",
          "name": "stdout",
          "text": [
            "Name: John Wick\n",
            "rate:100%\n",
            "Total number of Assassin:1 \n",
            "================================\n",
            "Name: Nagisa\n",
            "rate:80%\n",
            "Total number of Assassin:2 \n",
            "================================\n",
            "Name: Akabane\n",
            "rate:90%\n",
            "Total number of Assassin:3 \n"
          ]
        }
      ]
    },
    {
      "cell_type": "code",
      "execution_count": null,
      "metadata": {
        "colab": {
          "base_uri": "https://localhost:8080/"
        },
        "id": "z_FHeF5SgD--",
        "outputId": "64a77cc6-57fe-427d-d350-fda7093c3e18"
      },
      "outputs": [
        {
          "output_type": "stream",
          "name": "stdout",
          "text": [
            "ID: 1\n",
            "Name: Samin\n",
            "Department: CSE\n",
            "Age: 21\n",
            "CGPA: 3.91\n",
            "-----------------------\n",
            "ID: 2\n",
            "Name: Fahim\n",
            "Department: CSE\n",
            "Age: 21\n",
            "CGPA: 3.85\n",
            "-----------------------\n",
            "ID: 3\n",
            "Name: Tahura\n",
            "Department: CSE\n",
            "Age: 22\n",
            "CGPA: 3.01\n",
            "-----------------------\n",
            "ID: 4\n",
            "Name: Sumaiya\n",
            "Department: CSE\n",
            "Age: 23\n",
            "CGPA: 3.96\n"
          ]
        }
      ],
      "source": [
        "class Student:\n",
        "  Id=0\n",
        "  def __init__(self,name,dep,age,cg):\n",
        "    self.name=name\n",
        "    self.dep=dep\n",
        "    self.age=age\n",
        "    self.cg=cg\n",
        "    Student.Id+=1\n",
        "  def showDetails(self):\n",
        "    print(f\"ID: {Student.Id}\\nName: {self.name}\\nDepartment: CSE\\nAge: {self.age}\\nCGPA: {self.cg}\")\n",
        "  @classmethod\n",
        "  def from_String(cls,string2):\n",
        "    string1=string2.split(\"-\")\n",
        "    return Student(string1[0],string1[1],string1[2],string1[3])\n",
        "\n",
        "\n",
        "\n",
        "\n",
        "\n",
        "s1 = Student(\"Samin\", \"CSE\", 21, 3.91)\n",
        "s1.showDetails()\n",
        "print(\"-----------------------\")\n",
        "s2 = Student(\"Fahim\", \"ECE\", 21, 3.85)\n",
        "s2.showDetails()\n",
        "print(\"-----------------------\")\n",
        "s3 = Student(\"Tahura\", \"EEE\", 22, 3.01)\n",
        "s3.showDetails() \n",
        "print(\"-----------------------\")\n",
        "s4 = Student.from_String(\"Sumaiya-BBA-23-3.96\")\n",
        "s4.showDetails() \n"
      ]
    },
    {
      "cell_type": "code",
      "source": [
        "class Passenger:\n",
        "  count=0\n",
        "  def __init__(self,name):\n",
        "    self.name=name\n",
        "    self.fare=0\n",
        "    Passenger.count+=1\n",
        "  def set_bag_weight(self,weight):\n",
        "    if weight>50:\n",
        "      self.fare=450+100\n",
        "    elif weight>20 or weight<51:\n",
        "      self.fare=450+50\n",
        "    else:\n",
        "      self.fare=450\n",
        "  \n",
        "  def printDetail(self):\n",
        "    print(f\"Name: {self.name}\\nBus Fare:{self.fare} taka\")\n",
        "\n",
        "\n",
        "\n",
        "\n",
        "\n",
        "\n",
        "\n",
        "print(\"Total Passenger:\", Passenger.count)\n",
        "p1 = Passenger(\"Jack\")\n",
        "p1.set_bag_weight(90)\n",
        "p2 = Passenger(\"Carol\")\n",
        "p2.set_bag_weight(10)\n",
        "p3 = Passenger(\"Mike\")\n",
        "p3.set_bag_weight(25)\n",
        "print(\"=========================\")\n",
        "p1.printDetail()\n",
        "print(\"=========================\")\n",
        "p2.printDetail()\n",
        "print(\"=========================\")\n",
        "p3.printDetail()\n",
        "print(\"=========================\")\n",
        "print(\"Total Passenger:\", Passenger.count)\n"
      ],
      "metadata": {
        "colab": {
          "base_uri": "https://localhost:8080/"
        },
        "id": "JRLCygsUq9nv",
        "outputId": "7f410567-a748-4bbd-930f-3f7cc8a1de60"
      },
      "execution_count": null,
      "outputs": [
        {
          "output_type": "stream",
          "name": "stdout",
          "text": [
            "Total Passenger: 0\n",
            "=========================\n",
            "Name: Jack\n",
            "Bus Fare:550 taka\n",
            "=========================\n",
            "Name: Carol\n",
            "Bus Fare:500 taka\n",
            "=========================\n",
            "Name: Mike\n",
            "Bus Fare:500 taka\n",
            "=========================\n",
            "Total Passenger: 3\n"
          ]
        }
      ]
    },
    {
      "cell_type": "code",
      "source": [
        "class Travel:\n",
        "  count=0\n",
        "  def __init__(self,city=\"Dhaka\",city2=None):\n",
        "    self.city=city\n",
        "    self.city2=city2\n",
        "    Travel.count+=1\n",
        "    self.time=1.00\n",
        "  def display_travel_info(self):\n",
        "    return f\"Source: {self.city}\\nDestination:{self.city2}\\nFlight Time:{self.time:.2f}\"\n",
        "  def set_time(self,time):\n",
        "    self.time=time\n",
        "  def set_source(self,source):\n",
        "    self.city=source\n",
        "  def set_destination(self,dest):\n",
        "    self.city2=dest\n",
        "\n",
        "\n",
        "print(\"No. of Traveller =\", Travel.count)\n",
        "print(\"=======================\")\n",
        "t1 = Travel(\"Dhaka\",\"India\")\n",
        "print(t1.display_travel_info())\n",
        "print(\"=======================\")\n",
        "t2 = Travel(\"Kuala Lampur\",\"Dhaka\")\n",
        "t2.set_time(23)\n",
        "print(t2.display_travel_info())\n",
        "print(\"=======================\")\n",
        "t3 = Travel(\"Dhaka\",\"New_Zealand\")\n",
        "t3.set_time(15)\n",
        "t3.set_destination(\"Germany\")\n",
        "print(t3.display_travel_info())\n",
        "print(\"=======================\")\n",
        "t4 = Travel(\"Dhaka\",\"India\")\n",
        "t4.set_time(9)\n",
        "t4.set_source(\"Malaysia\")\n",
        "t4.set_destination(\"Canada\")\n",
        "print(t4.display_travel_info())\n",
        "print(\"=======================\")\n",
        "print(\"No. of Traveller =\", Travel.count)"
      ],
      "metadata": {
        "colab": {
          "base_uri": "https://localhost:8080/"
        },
        "id": "F-9AtjqQ6xRB",
        "outputId": "49e4c76f-db69-4a0c-8658-38b833c242b1"
      },
      "execution_count": null,
      "outputs": [
        {
          "output_type": "stream",
          "name": "stdout",
          "text": [
            "No. of Traveller = 0\n",
            "=======================\n",
            "Source: Dhaka\n",
            "Destination:India\n",
            "Flight Time:1.00\n",
            "=======================\n",
            "Source: Kuala Lampur\n",
            "Destination:Dhaka\n",
            "Flight Time:23.00\n",
            "=======================\n",
            "Source: Dhaka\n",
            "Destination:Germany\n",
            "Flight Time:15.00\n",
            "=======================\n",
            "Source: Malaysia\n",
            "Destination:Canada\n",
            "Flight Time:9.00\n",
            "=======================\n",
            "No. of Traveller = 4\n"
          ]
        }
      ]
    },
    {
      "cell_type": "code",
      "source": [
        "class Employee:\n",
        "  def __init__(self,name,workingPeriod):\n",
        "    self.name=name\n",
        "    self.workingPeriod=workingPeriod\n",
        "  @classmethod\n",
        "  def employeeByJoiningYear(cls,name,year):\n",
        "      Period=2022-year\n",
        "      return Employee(name,Period)\n",
        "  @staticmethod\n",
        "  def  experienceCheck(experience,gender):\n",
        "    if gender==\"male\":\n",
        "      if experience<3:\n",
        "        return(\"He is not experienced\")\n",
        "      else:\n",
        "        return(\"He is experienced\")\n",
        "    else:\n",
        "      if gender==\"female\":\n",
        "        if experience<3:\n",
        "          return(\"She is not experienced\")\n",
        "        else:\n",
        "          return(\"She is experienced\")    \n",
        "\n",
        "employee1 = Employee('Dororo', 3)\n",
        "employee2 = Employee.employeeByJoiningYear('Harry', 2016)\n",
        "print(employee1.workingPeriod)\n",
        "print(employee2.workingPeriod)\n",
        "print(employee1.name)\n",
        "print(employee2.name)\n",
        "print(Employee.experienceCheck(2, \"male\"))\n",
        "print(Employee.experienceCheck(3, \"female\"))"
      ],
      "metadata": {
        "id": "T4im7RCOUzSS",
        "colab": {
          "base_uri": "https://localhost:8080/"
        },
        "outputId": "bc9e718b-310a-4d8e-fb31-a3c63d61679b"
      },
      "execution_count": 5,
      "outputs": [
        {
          "output_type": "stream",
          "name": "stdout",
          "text": [
            "3\n",
            "6\n",
            "Dororo\n",
            "Harry\n",
            "He is not experienced\n",
            "She is experienced\n"
          ]
        }
      ]
    },
    {
      "cell_type": "code",
      "source": [
        "class Laptop:\n",
        "  laptopCount=0\n",
        "  def __init__(self,name,count):\n",
        "    self.name=name\n",
        "    self.count=count\n",
        "    Laptop.laptopCount+=1\n",
        "  @classmethod\n",
        "  def advantage(cls):\n",
        "    print(\"Laptops are portable\")\n",
        "  @classmethod \n",
        "  def resetCount(cls):\n",
        "    Laptop.laptopCount=0\n",
        "\n",
        "\n",
        "\n",
        "lenovo = Laptop(\"Lenovo\", 5);\n",
        "dell = Laptop(\"Dell\", 7);\n",
        "print(lenovo.name, lenovo.count)\n",
        "print(dell.name, dell.count)\n",
        "print(\"Total number of Laptops\", Laptop.laptopCount)\n",
        "Laptop.advantage()\n",
        "Laptop.resetCount()\n",
        "print(\"Total number of Laptops\", Laptop.laptopCount) "
      ],
      "metadata": {
        "colab": {
          "base_uri": "https://localhost:8080/"
        },
        "id": "dUZglnaFobgF",
        "outputId": "7cb6cdb0-d415-4b45-b30c-a64d625673ce"
      },
      "execution_count": 7,
      "outputs": [
        {
          "output_type": "stream",
          "name": "stdout",
          "text": [
            "Lenovo 5\n",
            "Dell 7\n",
            "Total number of Laptops 2\n",
            "Laptops are portable\n",
            "Total number of Laptops 0\n"
          ]
        }
      ]
    },
    {
      "cell_type": "markdown",
      "source": [],
      "metadata": {
        "id": "ciM02bmkttIw"
      }
    },
    {
      "cell_type": "code",
      "source": [
        "class Cat:\n",
        "  Number_of_cats=0\n",
        "  def __init__(self,firstparameter,secondparameter):\n",
        "    self.firstparameter=firstparameter\n",
        "    self.secondparameter=secondparameter \n",
        "  @classmethod\n",
        "  def no_parameter(cls):\n",
        "    c=\"White\"\n",
        "    a=\"Sitting\"\n",
        "    return Cat(c,a)\n",
        "  @classmethod\n",
        "  def first_parameter(cls,c=\"White\"):\n",
        "    a=\"sitting\"\n",
        "    cls.c=c\n",
        "    return Cat(c,a)\n",
        "  @classmethod\n",
        "  def second_parameter(cls,a=\"sitting\"):\n",
        "    cls.a=a\n",
        "    c=\"White\"\n",
        "    return Cat(c,a)\n",
        "  def printCat(self):\n",
        "    print(f\"{self.firstparameter} cat is {self.secondparameter}\")\n",
        "  def changeColor(self,color):\n",
        "    self.firstparameter=color\n",
        "\n",
        "\n",
        "print(\"Total number of cats:\", Cat.Number_of_cats)\n",
        "c1 = Cat.no_parameter()\n",
        "c2 = Cat.first_parameter(\"Black\")\n",
        "c3 = Cat(\"Brown\", \"jumping\")\n",
        "c4 = Cat(\"Red\", \"purring\")\n",
        "c5 = Cat.second_parameter(\"playing\")\n",
        "print(\"=======================\")\n",
        "c1.printCat()\n",
        "c2.printCat()\n",
        "c3.printCat()\n",
        "c4.printCat()\n",
        "c5.printCat()\n",
        "c1.changeColor(\"Blue\")\n",
        "c3.changeColor(\"Purple\")\n",
        "c1.printCat()\n",
        "c3.printCat()\n",
        "print(\"=======================\")\n",
        "print(\"Total number of cats:\", Cat.Number_of_cats)\n"
      ],
      "metadata": {
        "colab": {
          "base_uri": "https://localhost:8080/"
        },
        "id": "klvouP_VoblB",
        "outputId": "4532ce4b-73b6-4a9d-98ff-d7f0ada22f6f"
      },
      "execution_count": 14,
      "outputs": [
        {
          "output_type": "stream",
          "name": "stdout",
          "text": [
            "Total number of cats: 0\n",
            "=======================\n",
            "White cat is Sitting\n",
            "Black cat is sitting\n",
            "Brown cat is jumping\n",
            "Red cat is purring\n",
            "White cat is playing\n",
            "Blue cat is Sitting\n",
            "Purple cat is jumping\n",
            "=======================\n",
            "Total number of cats: 0\n"
          ]
        }
      ]
    },
    {
      "cell_type": "code",
      "source": [
        "class Cylinder:\n",
        "  def __init__(self,radius,height):\n",
        "    self.radius=radius\n",
        "    self.height=height\n",
        "  \n",
        "\n",
        "\n",
        "c1 = Cylinder(0,0)\n",
        "Cylinder.area(c1.radius,c1.height)\n",
        "Cylinder.volume(c1.radius,c1.height)\n",
        "print(\"===============================\")\n",
        "c2 = Cylinder.swap(8,3)\n",
        "c2.area(c2.radius,c2.height)\n",
        "c2.volume(c2.radius,c2.height)\n",
        "print(\"===============================\")\n",
        "c3 = Cylinder.changeFormat(\"7-13\")\n",
        "c3.area(c3.radius,c3.height)\n",
        "c3.volume(c3.radius,c3.height)\n",
        "print(\"===============================\")\n",
        "Cylinder(0.3,5.56).area(Cylinder.radius,Cylinder.height)\n",
        "print(\"===============================\")\n",
        "Cylinder(3,5).volume(Cylinder.radius,Cylinder.height)\n"
      ],
      "metadata": {
        "id": "EqT-slBAobok"
      },
      "execution_count": null,
      "outputs": []
    },
    {
      "cell_type": "code",
      "source": [
        "class FinalT6A:\n",
        "    temp = 3\n",
        " \n",
        "    def __init__(self, x, p):\n",
        "        self.sum, self.y = 0, 2\n",
        "        FinalT6A.temp += 3\n",
        "        self.y = self.temp - p\n",
        "        self.sum = self.temp + x\n",
        "        print(x, self.y, self.sum)\n",
        "    \n",
        "    def methodA(self):\n",
        "        x, y = 0, 0\n",
        "        y = y + self.y\n",
        "        x = self.y + 2 + self.temp\n",
        "        self.sum = x + y + self.methodB(self.temp, y)\n",
        "        print(x, y, self.sum)\n",
        "    \n",
        "    def methodB(self, temp, n):\n",
        "        x = 0\n",
        "        FinalT6A.temp += 1\n",
        "        self.y = self.y + (FinalT6A.temp)\n",
        "        FinalT6A.temp -= 1\n",
        "        x = x + 2 + n\n",
        "        self.sum = self.sum + x + self.y\n",
        "        print(x, self.y, self.sum)\n",
        "        return self.sum\n",
        "\n",
        "q1 = FinalT6A(2,1)\n",
        "q1.methodA()\n",
        "q1.methodA()\n"
      ],
      "metadata": {
        "colab": {
          "base_uri": "https://localhost:8080/"
        },
        "id": "GRJwLDHL1rm1",
        "outputId": "5eda6c4a-0511-4bf2-c073-676f71f184cb"
      },
      "execution_count": null,
      "outputs": [
        {
          "output_type": "stream",
          "name": "stdout",
          "text": [
            "2 5 8\n",
            "7 12 27\n",
            "13 5 45\n",
            "14 19 78\n",
            "20 12 110\n"
          ]
        }
      ]
    },
    {
      "cell_type": "code",
      "source": [
        "class A:\n",
        "    temp = 4\n",
        "    def __init__(self):\n",
        "        self.y = self.temp - 2\n",
        "        self.sum = self.temp + 1\n",
        "        A.temp -= 2\n",
        "        self.methodA(3, 4)\n",
        "    def methodA(self, m, n):\n",
        "        x = 0\n",
        "        self.y = self.y + m + (self.temp)\n",
        "        A.temp += 1\n",
        "        x = x + 1 + n\n",
        "        self.sum = self.sum + x + self.y\n",
        "        print(x, self.y, self.sum)\n",
        "    \n",
        "class B:\n",
        "    x = 0\n",
        "    def __init__(self, b = None):\n",
        "        self.y, self.temp, self.sum = 5, -5, 2\n",
        " \n",
        "        if b == None:\n",
        "            self.y = self.temp + 3\n",
        "            self.sum = 3 + self.temp + 2\n",
        "            self.temp -= 2\n",
        "        else:\n",
        "            self.sum = b.sum\n",
        "            B.x = b.x\n",
        "            b.methodB(2, 3)\n",
        "    def methodA(self, m, n):\n",
        "        x = 2\n",
        "        self.y = self.y + m + (self.temp)\n",
        "        self.temp += 1\n",
        "        x = x + 5 + n\n",
        "        self.sum = self.sum + x + self.y\n",
        "        print(x, self.y, self.sum)\n",
        "    def methodB(self, m, n):\n",
        "        y = 0\n",
        "        y = y + self.y\n",
        "        B.x = self.y + 2 + self.temp\n",
        "        self.methodA(self.x, y)\n",
        "        self.sum = self.x + y + self.sum\n",
        "        print(self.x, y, self.sum)\n",
        "\n",
        "a=A()\n",
        "b1=B()\n",
        "b2=B(b1)\n",
        "b1.methodA(1,2)\n",
        "b2.methodB(3,2)"
      ],
      "metadata": {
        "id": "qQss9ARM2CQE",
        "colab": {
          "base_uri": "https://localhost:8080/"
        },
        "outputId": "0c5a4f3a-5dd4-417c-e807-cbc968df3d47"
      },
      "execution_count": null,
      "outputs": [
        {
          "output_type": "stream",
          "name": "stdout",
          "text": [
            "5 7 17\n",
            "5 -16 -11\n",
            "-7 -2 -20\n",
            "9 -21 -32\n",
            "12 2 14\n",
            "2 5 21\n"
          ]
        }
      ]
    },
    {
      "cell_type": "code",
      "source": [
        "class Puzzle:\n",
        "    x = 0\n",
        "    def methodA(self):\n",
        "        Puzzle.x = 5 \n",
        "        z = Puzzle.x + self.methodB(Puzzle.x)\n",
        "        print(Puzzle.x, z)\n",
        "        z = self.methodB(z + 2) + Puzzle.x\n",
        "        print(Puzzle.x, z)\n",
        "        self.methodB(Puzzle.x, z)\n",
        "        print(Puzzle.x, z)\n",
        "    def methodB(self, *args):\n",
        "        if len(args) == 1:\n",
        "            y = args[0]\n",
        "            Puzzle.x = y + Puzzle.x\n",
        "            print(Puzzle.x, y)\n",
        "            return Puzzle.x + 3\n",
        "        else:\n",
        "            z, x = args\n",
        "            z = z + 1\n",
        "            x = x + 1\n",
        "            print(z, x)\n",
        "\n",
        "p = Puzzle()\n",
        "p.methodA()\n",
        "p.methodA()\n",
        "p = Puzzle()\n",
        "p.methodA()\n",
        "p.methodB(7)"
      ],
      "metadata": {
        "id": "o08h_EVA1sCK",
        "colab": {
          "base_uri": "https://localhost:8080/"
        },
        "outputId": "4ee4b31a-3f55-4b27-ac20-50b9c07d70ba"
      },
      "execution_count": null,
      "outputs": [
        {
          "output_type": "stream",
          "name": "stdout",
          "text": [
            "10 5\n",
            "10 18\n",
            "30 20\n",
            "30 63\n",
            "31 64\n",
            "30 63\n",
            "10 5\n",
            "10 18\n",
            "30 20\n",
            "30 63\n",
            "31 64\n",
            "30 63\n",
            "10 5\n",
            "10 18\n",
            "30 20\n",
            "30 63\n",
            "31 64\n",
            "30 63\n",
            "37 7\n"
          ]
        },
        {
          "output_type": "execute_result",
          "data": {
            "text/plain": [
              "40"
            ]
          },
          "metadata": {},
          "execution_count": 1
        }
      ]
    },
    {
      "cell_type": "code",
      "source": [],
      "metadata": {
        "id": "25Ra8cIZ1sKk"
      },
      "execution_count": null,
      "outputs": []
    },
    {
      "cell_type": "code",
      "source": [],
      "metadata": {
        "id": "qIl1YTYa6J9c"
      },
      "execution_count": null,
      "outputs": []
    }
  ]
}