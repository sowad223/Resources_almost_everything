{
  "cells": [
    {
      "cell_type": "code",
      "execution_count": 1,
      "id": "british-place",
      "metadata": {
        "tags": [],
        "id": "british-place",
        "colab": {
          "base_uri": "https://localhost:8080/"
        },
        "outputId": "7e6744bf-55f4-4021-d9b1-caf1c9320595"
      },
      "outputs": [
        {
          "output_type": "stream",
          "name": "stdout",
          "text": [
            "Downloaded modsim.py\n"
          ]
        }
      ],
      "source": [
        "# download modsim.py if necessary\n",
        "\n",
        "from os.path import basename, exists\n",
        "\n",
        "def download(url):\n",
        "    filename = basename(url)\n",
        "    if not exists(filename):\n",
        "        from urllib.request import urlretrieve\n",
        "        local, _ = urlretrieve(url, filename)\n",
        "        print('Downloaded ' + local)\n",
        "\n",
        "download('https://github.com/AllenDowney/ModSimPy/raw/master/' +\n",
        "         'modsim.py')"
      ]
    },
    {
      "cell_type": "code",
      "execution_count": 2,
      "id": "determined-volunteer",
      "metadata": {
        "tags": [],
        "id": "determined-volunteer"
      },
      "outputs": [],
      "source": [
        "# import functions from modsim\n",
        "\n",
        "from modsim import *"
      ]
    },
    {
      "cell_type": "code",
      "execution_count": 3,
      "id": "fossil-moisture",
      "metadata": {
        "tags": [],
        "id": "fossil-moisture",
        "colab": {
          "base_uri": "https://localhost:8080/"
        },
        "outputId": "585e01d5-06eb-4df5-b650-51a42859d098"
      },
      "outputs": [
        {
          "output_type": "stream",
          "name": "stdout",
          "text": [
            "Downloaded chap15.py\n"
          ]
        }
      ],
      "source": [
        "download('https://github.com/AllenDowney/ModSimPy/raw/master/' +\n",
        "         'chap15.py')"
      ]
    },
    {
      "cell_type": "code",
      "execution_count": 4,
      "id": "cutting-scale",
      "metadata": {
        "tags": [],
        "id": "cutting-scale"
      },
      "outputs": [],
      "source": [
        "# import code from previous notebooks\n",
        "\n",
        "from chap15 import change_func\n",
        "from chap15 import run_simulation\n",
        "from chap15 import make_system"
      ]
    },
    {
      "cell_type": "code",
      "execution_count": 5,
      "id": "extensive-happening",
      "metadata": {
        "id": "extensive-happening"
      },
      "outputs": [],
      "source": [
        "def mix(system1, system2):\n",
        "\n",
        "    V1, V2 = system1.volume, system2.volume\n",
        "    T1, T2 = system1.T_final, system2.T_final\n",
        "\n",
        "    V_mix = V1 + V2\n",
        "    T_mix = (V1 * T1 + V2 * T2) / V_mix\n",
        "\n",
        "    return make_system(T_init=T_mix,\n",
        "                       volume=V_mix,\n",
        "                       r=system1.r,\n",
        "                       t_end=30)"
      ]
    },
    {
      "cell_type": "code",
      "execution_count": 6,
      "id": "polyphonic-specialist",
      "metadata": {
        "id": "polyphonic-specialist"
      },
      "outputs": [],
      "source": [
        "r_coffee = 0.0115\n",
        "coffee = make_system(T_init=90, volume=300, r=r_coffee, t_end=30)"
      ]
    },
    {
      "cell_type": "code",
      "execution_count": 7,
      "id": "subtle-donna",
      "metadata": {
        "id": "subtle-donna"
      },
      "outputs": [],
      "source": [
        "r_milk = 0.133\n",
        "milk = make_system(T_init=5, volume=50, r=r_milk, t_end=15)"
      ]
    },
    {
      "cell_type": "code",
      "execution_count": 8,
      "id": "domestic-tours",
      "metadata": {
        "id": "domestic-tours",
        "colab": {
          "base_uri": "https://localhost:8080/"
        },
        "outputId": "fbcf351f-efe4-42da-ce53-a19441da8442"
      },
      "outputs": [
        {
          "output_type": "execute_result",
          "data": {
            "text/plain": [
              "61.48016207445017"
            ]
          },
          "metadata": {},
          "execution_count": 8
        }
      ],
      "source": [
        "mix_first = mix(coffee, milk)\n",
        "run_simulation(mix_first, change_func)\n",
        "\n",
        "mix_first.T_final"
      ]
    },
    {
      "cell_type": "code",
      "execution_count": 9,
      "id": "subject-richardson",
      "metadata": {
        "id": "subject-richardson",
        "colab": {
          "base_uri": "https://localhost:8080/"
        },
        "outputId": "66d98d5d-e479-4050-bdad-c5c3d97fbc55"
      },
      "outputs": [
        {
          "output_type": "execute_result",
          "data": {
            "text/plain": [
              "62.91117032872072"
            ]
          },
          "metadata": {},
          "execution_count": 9
        }
      ],
      "source": [
        "run_simulation(coffee, change_func)\n",
        "run_simulation(milk, change_func)\n",
        "mix_last = mix(coffee, milk)\n",
        "mix_last.T_final"
      ]
    },
    {
      "cell_type": "code",
      "execution_count": 10,
      "id": "mental-corporation",
      "metadata": {
        "id": "mental-corporation"
      },
      "outputs": [],
      "source": [
        "def run_and_mix(t_add, t_total):\n",
        "    coffee.t_end = t_add\n",
        "    coffee_results = run_simulation(coffee, change_func)\n",
        "\n",
        "    milk.t_end = t_add\n",
        "    milk_results = run_simulation(milk, change_func)\n",
        "\n",
        "    mixture = mix(coffee, milk)\n",
        "    mixture.t_end = t_total - t_add\n",
        "    results = run_simulation(mixture, change_func)\n",
        "\n",
        "    return mixture.T_final"
      ]
    },
    {
      "cell_type": "code",
      "execution_count": 11,
      "id": "adverse-hanging",
      "metadata": {
        "id": "adverse-hanging"
      },
      "outputs": [],
      "source": [
        "sweep = SweepSeries()\n",
        "for t_add in linspace(0, 30, 11):\n",
        "    sweep[t_add] = run_and_mix(t_add, 30)"
      ]
    },
    {
      "cell_type": "code",
      "execution_count": 12,
      "id": "bright-proposal",
      "metadata": {
        "id": "bright-proposal",
        "colab": {
          "base_uri": "https://localhost:8080/",
          "height": 309
        },
        "outputId": "240e964e-b142-4cc5-fca8-acc6223e6ae7"
      },
      "outputs": [
        {
          "output_type": "display_data",
          "data": {
            "text/plain": [
              "<Figure size 450x300 with 1 Axes>"
            ],
            "image/png": "[encoded data removed]"
          },
          "metadata": {}
        }
      ],
      "source": [
        "sweep.plot(label='mixture', color='C2')\n",
        "\n",
        "decorate(xlabel='Time until mixing (min)',\n",
        "         ylabel='Final temperature (C)')"
      ]
    },
    {
      "cell_type": "code",
      "execution_count": 13,
      "id": "secondary-swift",
      "metadata": {
        "id": "secondary-swift"
      },
      "outputs": [],
      "source": [
        "from numpy import log\n",
        "\n",
        "def compute_r(system):\n",
        "    t_end = system.t_end\n",
        "    T_init = system.T_init\n",
        "    T_final = system.T_final\n",
        "    T_env = system.T_env\n",
        "\n",
        "    r = log((T_init - T_env) / (T_final - T_env)) / t_end\n",
        "    return r"
      ]
    },
    {
      "cell_type": "code",
      "execution_count": 14,
      "id": "south-machinery",
      "metadata": {
        "id": "south-machinery",
        "colab": {
          "base_uri": "https://localhost:8080/"
        },
        "outputId": "db902da4-a093-43c3-909f-d5c8add08dac"
      },
      "outputs": [
        {
          "output_type": "execute_result",
          "data": {
            "text/plain": [
              "0.01161022314227386"
            ]
          },
          "metadata": {},
          "execution_count": 14
        }
      ],
      "source": [
        "coffee2 = make_system(T_init=90, volume=300, r=0, t_end=30)\n",
        "coffee2.T_final = 70\n",
        "r_coffee2 = compute_r(coffee2)\n",
        "r_coffee2"
      ]
    },
    {
      "cell_type": "code",
      "execution_count": 15,
      "id": "opening-transsexual",
      "metadata": {
        "id": "opening-transsexual"
      },
      "outputs": [],
      "source": [
        "from numpy import exp\n",
        "\n",
        "def run_analysis(system):\n",
        "    T_env, T_init, r = system.T_env, system.T_init, system.r\n",
        "\n",
        "    t_array = linrange(system.t_0, system.t_end, system.dt)\n",
        "    T_array = T_env + (T_init - T_env) * exp(-r * t_array)\n",
        "\n",
        "    system.T_final = T_array[-1]\n",
        "    return make_series(t_array, T_array)"
      ]
    },
    {
      "cell_type": "code",
      "execution_count": 16,
      "id": "agreed-bouquet",
      "metadata": {
        "id": "agreed-bouquet",
        "colab": {
          "base_uri": "https://localhost:8080/"
        },
        "outputId": "b80f8d64-d0a8-467e-c471-30418de3479a"
      },
      "outputs": [
        {
          "output_type": "execute_result",
          "data": {
            "text/plain": [
              "70.0"
            ]
          },
          "metadata": {},
          "execution_count": 16
        }
      ],
      "source": [
        "coffee2.r = r_coffee2\n",
        "results2 = run_analysis(coffee2)\n",
        "coffee2.T_final"
      ]
    },
    {
      "cell_type": "code",
      "execution_count": 17,
      "id": "portuguese-sympathy",
      "metadata": {
        "tags": [],
        "id": "portuguese-sympathy"
      },
      "outputs": [],
      "source": [
        "coffee.r = 0.011543\n",
        "results = run_simulation(coffee, change_func)"
      ]
    },
    {
      "cell_type": "code",
      "execution_count": 18,
      "id": "distinguished-regard",
      "metadata": {
        "tags": [],
        "id": "distinguished-regard",
        "colab": {
          "base_uri": "https://localhost:8080/"
        },
        "outputId": "aae4330d-fb8a-45e8-c354-8df3b41c34c4"
      },
      "outputs": [
        {
          "output_type": "execute_result",
          "data": {
            "text/plain": [
              "True"
            ]
          },
          "metadata": {},
          "execution_count": 18
        }
      ],
      "source": [
        "from numpy import allclose\n",
        "\n",
        "allclose(results, results2)"
      ]
    },
    {
      "cell_type": "markdown",
      "id": "foreign-permission",
      "metadata": {
        "id": "foreign-permission"
      },
      "source": [
        "### Exercise 1\n",
        "\n"
      ]
    },
    {
      "cell_type": "code",
      "execution_count": 19,
      "id": "acting-howard",
      "metadata": {
        "id": "acting-howard",
        "colab": {
          "base_uri": "https://localhost:8080/"
        },
        "outputId": "feead3b4-fa90-467f-e47b-38f46ba179dd"
      },
      "outputs": [
        {
          "output_type": "execute_result",
          "data": {
            "text/plain": [
              "0.14267107756641806"
            ]
          },
          "metadata": {},
          "execution_count": 19
        }
      ],
      "source": [
        "milk2 = make_system(T_init=5, volume=50, r=0, t_end=15)\n",
        "milk2.T_final = 20\n",
        "r_milk2 = compute_r(milk2)\n",
        "r_milk2"
      ]
    },
    {
      "cell_type": "code",
      "execution_count": 20,
      "id": "ahead-compensation",
      "metadata": {
        "id": "ahead-compensation"
      },
      "outputs": [],
      "source": [
        "milk = make_system(T_init=5, volume=50, r=0.13296, t_end=15)\n",
        "results = run_simulation(milk, change_func)\n"
      ]
    },
    {
      "cell_type": "markdown",
      "id": "western-mixture",
      "metadata": {
        "id": "western-mixture"
      },
      "source": [
        "### Exercise 2\n",
        "\n"
      ]
    },
    {
      "cell_type": "code",
      "execution_count": 23,
      "id": "super-citizenship",
      "metadata": {
        "id": "super-citizenship"
      },
      "outputs": [],
      "source": [
        "# A refrigerator keeps the milk at a constant temperature,\n",
        "# so it is like a container with r = 0.\n",
        "\n",
        "# With T_init=5 and r_milk = 0,\n",
        "# it is best to add the milk at the beginning."
      ]
    }
  ],
  "metadata": {
    "celltoolbar": "Tags",
    "kernelspec": {
      "display_name": "Python 3 (ipykernel)",
      "language": "python",
      "name": "python3"
    },
    "language_info": {
      "codemirror_mode": {
        "name": "ipython",
        "version": 3
      },
      "file_extension": ".py",
      "mimetype": "text/x-python",
      "name": "python",
      "nbconvert_exporter": "python",
      "pygments_lexer": "ipython3",
      "version": "3.10.6"
    },
    "colab": {
      "provenance": []
    }
  },
  "nbformat": 4,
  "nbformat_minor": 5
}