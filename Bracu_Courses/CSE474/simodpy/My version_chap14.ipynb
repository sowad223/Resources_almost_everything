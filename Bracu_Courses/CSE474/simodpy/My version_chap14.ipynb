{
  "cells": [
    {
      "cell_type": "code",
      "execution_count": null,
      "id": "earned-kidney",
      "metadata": {
        "tags": [],
        "id": "earned-kidney"
      },
      "outputs": [],
      "source": [
        "# download modsim.py if necessary\n",
        "\n",
        "from os.path import basename, exists\n",
        "\n",
        "def download(url):\n",
        "    filename = basename(url)\n",
        "    if not exists(filename):\n",
        "        from urllib.request import urlretrieve\n",
        "        local, _ = urlretrieve(url, filename)\n",
        "        print('Downloaded ' + local)\n",
        "\n",
        "download('https://raw.githubusercontent.com/AllenDowney/' +\n",
        "         'ModSimPy/master/modsim.py')"
      ]
    },
    {
      "cell_type": "code",
      "execution_count": null,
      "id": "forty-hammer",
      "metadata": {
        "tags": [],
        "id": "forty-hammer"
      },
      "outputs": [],
      "source": [
        "# import functions from modsim\n",
        "\n",
        "from modsim import *"
      ]
    },
    {
      "cell_type": "code",
      "execution_count": null,
      "id": "middle-surge",
      "metadata": {
        "tags": [],
        "id": "middle-surge"
      },
      "outputs": [],
      "source": [
        "download('https://github.com/AllenDowney/ModSimPy/raw/master/' +\n",
        "         'chap11.py')"
      ]
    },
    {
      "cell_type": "code",
      "execution_count": null,
      "id": "hybrid-making",
      "metadata": {
        "tags": [],
        "id": "hybrid-making"
      },
      "outputs": [],
      "source": [
        "download('https://github.com/AllenDowney/ModSimPy/raw/master/' +\n",
        "         'chap12.py')"
      ]
    },
    {
      "cell_type": "code",
      "execution_count": null,
      "id": "inclusive-characteristic",
      "metadata": {
        "tags": [],
        "id": "inclusive-characteristic"
      },
      "outputs": [],
      "source": [
        "download('https://github.com/AllenDowney/ModSimPy/raw/master/' +\n",
        "         'chap13.py')"
      ]
    },
    {
      "cell_type": "code",
      "execution_count": null,
      "id": "grave-occasions",
      "metadata": {
        "tags": [],
        "id": "grave-occasions"
      },
      "outputs": [],
      "source": [
        "# import code from previous notebooks\n",
        "\n",
        "from chap11 import make_system\n",
        "from chap11 import update_func\n",
        "from chap11 import run_simulation\n",
        "from chap11 import plot_results\n",
        "\n",
        "from chap12 import calc_total_infected\n",
        "\n",
        "from chap13 import sweep_beta\n",
        "from chap13 import sweep_parameters"
      ]
    },
    {
      "cell_type": "code",
      "source": [
        "import numpy as np\n",
        "import matplotlib.pyplot as plt"
      ],
      "metadata": {
        "id": "T6_udehU2d9I"
      },
      "id": "T6_udehU2d9I",
      "execution_count": null,
      "outputs": []
    },
    {
      "cell_type": "code",
      "source": [
        "def sweep_beta_max(beta_array, gamma):\n",
        "    sweep = SweepSeries()\n",
        "    for beta in beta_array:\n",
        "        system = make_system(beta, gamma)\n",
        "        results = run_simulation(system, update_func)\n",
        "        sweep[beta] = results.i.max()\n",
        "    return sweep"
      ],
      "metadata": {
        "id": "EkswflZu2d5r"
      },
      "id": "EkswflZu2d5r",
      "execution_count": null,
      "outputs": []
    },
    {
      "cell_type": "code",
      "source": [
        "def sweep_parameters_max(beta_array, gamma_array):\n",
        "    frame = SweepFrame(columns=gamma_array)\n",
        "    for gamma in gamma_array:\n",
        "        frame[gamma] = sweep_beta_max(beta_array, gamma)\n",
        "    return frame"
      ],
      "metadata": {
        "id": "DUPDIlVk2hCX"
      },
      "id": "DUPDIlVk2hCX",
      "execution_count": null,
      "outputs": []
    },
    {
      "cell_type": "code",
      "source": [
        "def analyze_covid_results(frame):\n",
        "    for gamma in frame.columns:\n",
        "        series = frame[gamma]\n",
        "        for beta in series.index:\n",
        "            metric = series[beta]\n",
        "            plt.plot(beta/gamma, metric, '.', color='C1')\n",
        "\n",
        "    decorate(xlabel='Contact number (beta/gamma)',\n",
        "             ylabel='Max fraction infected')"
      ],
      "metadata": {
        "id": "l_IMoCal2g-0"
      },
      "id": "l_IMoCal2g-0",
      "execution_count": null,
      "outputs": []
    },
    {
      "cell_type": "code",
      "source": [
        "beta_array = [0.1, 0.2, 0.3, 0.4, 0.5, 0.6, 0.7, 0.8, 0.9, 1.0, 1.1]\n",
        "gamma_array = [0.2, 0.4, 0.6, 0.8]\n",
        "\n",
        "# Run the simulation\n",
        "covid_frame = sweep_parameters_max(beta_array, gamma_array)\n",
        "\n",
        "analyze_covid_results(covid_frame)\n",
        "plt.show()\n",
        "\n"
      ],
      "metadata": {
        "colab": {
          "base_uri": "https://localhost:8080/",
          "height": 309
        },
        "id": "BqaYbv9A2xuR",
        "outputId": "43311f39-4897-4f38-e3ac-c24905099c2d"
      },
      "id": "BqaYbv9A2xuR",
      "execution_count": null,
      "outputs": [
        {
          "output_type": "display_data",
          "data": {
            "text/plain": [
              "<Figure size 450x300 with 1 Axes>"
            ],
            "image/png": "[encoded data removed]"
          },
          "metadata": {}
        }
      ]
    }
  ],
  "metadata": {
    "celltoolbar": "Tags",
    "kernelspec": {
      "display_name": "Python 3 (ipykernel)",
      "language": "python",
      "name": "python3"
    },
    "language_info": {
      "codemirror_mode": {
        "name": "ipython",
        "version": 3
      },
      "file_extension": ".py",
      "mimetype": "text/x-python",
      "name": "python",
      "nbconvert_exporter": "python",
      "pygments_lexer": "ipython3",
      "version": "3.10.6"
    },
    "colab": {
      "provenance": []
    }
  },
  "nbformat": 4,
  "nbformat_minor": 5
}