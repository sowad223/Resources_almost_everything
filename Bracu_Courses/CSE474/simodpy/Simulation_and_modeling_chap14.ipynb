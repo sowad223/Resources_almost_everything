{
  "cells": [
    {
      "cell_type": "code",
      "execution_count": 1,
      "id": "earned-kidney",
      "metadata": {
        "tags": [],
        "id": "earned-kidney",
        "colab": {
          "base_uri": "https://localhost:8080/"
        },
        "outputId": "8ee88c90-3693-448d-bedf-f6c916350560"
      },
      "outputs": [
        {
          "output_type": "stream",
          "name": "stdout",
          "text": [
            "Downloaded modsim.py\n"
          ]
        }
      ],
      "source": [
        "# download modsim.py if necessary\n",
        "\n",
        "from os.path import basename, exists\n",
        "\n",
        "def download(url):\n",
        "    filename = basename(url)\n",
        "    if not exists(filename):\n",
        "        from urllib.request import urlretrieve\n",
        "        local, _ = urlretrieve(url, filename)\n",
        "        print('Downloaded ' + local)\n",
        "\n",
        "download('https://raw.githubusercontent.com/AllenDowney/' +\n",
        "         'ModSimPy/master/modsim.py')"
      ]
    },
    {
      "cell_type": "code",
      "execution_count": 2,
      "id": "forty-hammer",
      "metadata": {
        "tags": [],
        "id": "forty-hammer"
      },
      "outputs": [],
      "source": [
        "# import functions from modsim\n",
        "\n",
        "from modsim import *"
      ]
    },
    {
      "cell_type": "code",
      "execution_count": 3,
      "id": "middle-surge",
      "metadata": {
        "tags": [],
        "id": "middle-surge",
        "colab": {
          "base_uri": "https://localhost:8080/"
        },
        "outputId": "6e7a8259-ea39-4b83-eb53-e5af38aebdb6"
      },
      "outputs": [
        {
          "output_type": "stream",
          "name": "stdout",
          "text": [
            "Downloaded chap11.py\n"
          ]
        }
      ],
      "source": [
        "download('https://github.com/AllenDowney/ModSimPy/raw/master/' +\n",
        "         'chap11.py')"
      ]
    },
    {
      "cell_type": "code",
      "execution_count": 4,
      "id": "hybrid-making",
      "metadata": {
        "tags": [],
        "id": "hybrid-making",
        "colab": {
          "base_uri": "https://localhost:8080/"
        },
        "outputId": "8f065765-521a-45f1-95df-88e74419a1a5"
      },
      "outputs": [
        {
          "output_type": "stream",
          "name": "stdout",
          "text": [
            "Downloaded chap12.py\n"
          ]
        }
      ],
      "source": [
        "download('https://github.com/AllenDowney/ModSimPy/raw/master/' +\n",
        "         'chap12.py')"
      ]
    },
    {
      "cell_type": "code",
      "execution_count": 5,
      "id": "inclusive-characteristic",
      "metadata": {
        "tags": [],
        "id": "inclusive-characteristic",
        "colab": {
          "base_uri": "https://localhost:8080/"
        },
        "outputId": "892d0fea-da82-4ff3-c9d9-8280feca44a3"
      },
      "outputs": [
        {
          "output_type": "stream",
          "name": "stdout",
          "text": [
            "Downloaded chap13.py\n"
          ]
        }
      ],
      "source": [
        "download('https://github.com/AllenDowney/ModSimPy/raw/master/' +\n",
        "         'chap13.py')"
      ]
    },
    {
      "cell_type": "code",
      "execution_count": 6,
      "id": "grave-occasions",
      "metadata": {
        "tags": [],
        "id": "grave-occasions"
      },
      "outputs": [],
      "source": [
        "# import code from previous notebooks\n",
        "\n",
        "from chap11 import make_system\n",
        "from chap11 import update_func\n",
        "from chap11 import run_simulation\n",
        "from chap11 import plot_results\n",
        "\n",
        "from chap12 import calc_total_infected\n",
        "\n",
        "from chap13 import sweep_beta\n",
        "from chap13 import sweep_parameters"
      ]
    },
    {
      "cell_type": "code",
      "execution_count": 7,
      "id": "genetic-morris",
      "metadata": {
        "id": "genetic-morris"
      },
      "outputs": [],
      "source": [
        "beta_array = [0.1, 0.2, 0.3, 0.4, 0.5,\n",
        "              0.6, 0.7, 0.8, 0.9, 1.0 , 1.1]\n",
        "gamma_array = [0.2, 0.4, 0.6, 0.8]\n",
        "frame = sweep_parameters(beta_array, gamma_array)"
      ]
    },
    {
      "cell_type": "code",
      "execution_count": 8,
      "id": "appointed-terrorist",
      "metadata": {
        "id": "appointed-terrorist",
        "colab": {
          "base_uri": "https://localhost:8080/",
          "height": 237
        },
        "outputId": "f9f308be-7d08-45cf-bcf1-59a98757cb87"
      },
      "outputs": [
        {
          "output_type": "execute_result",
          "data": {
            "text/plain": [
              "                0.2       0.4       0.6       0.8\n",
              "Parameter                                        \n",
              "0.1        0.010756  0.003642  0.002191  0.001567\n",
              "0.2        0.118984  0.010763  0.005447  0.003644\n",
              "0.3        0.589095  0.030185  0.010771  0.006526\n",
              "0.4        0.801339  0.131563  0.020917  0.010780\n",
              "0.5        0.896577  0.396409  0.046140  0.017640"
            ],
            "text/html": [
              "\n",
              "  <div id=\"df-5a35ca1e-5beb-41cd-b38e-a0820245857f\" class=\"colab-df-container\">\n",
              "    <div>\n",
              "<style scoped>\n",
              "    .dataframe tbody tr th:only-of-type {\n",
              "        vertical-align: middle;\n",
              "    }\n",
              "\n",
              "    .dataframe tbody tr th {\n",
              "        vertical-align: top;\n",
              "    }\n",
              "\n",
              "    .dataframe thead th {\n",
              "        text-align: right;\n",
              "    }\n",
              "</style>\n",
              "<table border=\"1\" class=\"dataframe\">\n",
              "  <thead>\n",
              "    <tr style=\"text-align: right;\">\n",
              "      <th></th>\n",
              "      <th>0.2</th>\n",
              "      <th>0.4</th>\n",
              "      <th>0.6</th>\n",
              "      <th>0.8</th>\n",
              "    </tr>\n",
              "    <tr>\n",
              "      <th>Parameter</th>\n",
              "      <th></th>\n",
              "      <th></th>\n",
              "      <th></th>\n",
              "      <th></th>\n",
              "    </tr>\n",
              "  </thead>\n",
              "  <tbody>\n",
              "    <tr>\n",
              "      <th>0.1</th>\n",
              "      <td>0.010756</td>\n",
              "      <td>0.003642</td>\n",
              "      <td>0.002191</td>\n",
              "      <td>0.001567</td>\n",
              "    </tr>\n",
              "    <tr>\n",
              "      <th>0.2</th>\n",
              "      <td>0.118984</td>\n",
              "      <td>0.010763</td>\n",
              "      <td>0.005447</td>\n",
              "      <td>0.003644</td>\n",
              "    </tr>\n",
              "    <tr>\n",
              "      <th>0.3</th>\n",
              "      <td>0.589095</td>\n",
              "      <td>0.030185</td>\n",
              "      <td>0.010771</td>\n",
              "      <td>0.006526</td>\n",
              "    </tr>\n",
              "    <tr>\n",
              "      <th>0.4</th>\n",
              "      <td>0.801339</td>\n",
              "      <td>0.131563</td>\n",
              "      <td>0.020917</td>\n",
              "      <td>0.010780</td>\n",
              "    </tr>\n",
              "    <tr>\n",
              "      <th>0.5</th>\n",
              "      <td>0.896577</td>\n",
              "      <td>0.396409</td>\n",
              "      <td>0.046140</td>\n",
              "      <td>0.017640</td>\n",
              "    </tr>\n",
              "  </tbody>\n",
              "</table>\n",
              "</div>\n",
              "    <div class=\"colab-df-buttons\">\n",
              "\n",
              "  <div class=\"colab-df-container\">\n",
              "    <button class=\"colab-df-convert\" onclick=\"convertToInteractive('df-5a35ca1e-5beb-41cd-b38e-a0820245857f')\"\n",
              "            title=\"Convert this dataframe to an interactive table.\"\n",
              "            style=\"display:none;\">\n",
              "\n",
              "  <svg xmlns=\"http://www.w3.org/2000/svg\" height=\"24px\" viewBox=\"0 -960 960 960\">\n",
              "    <path d=\"M120-120v-720h720v720H120Zm60-500h600v-160H180v160Zm220 220h160v-160H400v160Zm0 220h160v-160H400v160ZM180-400h160v-160H180v160Zm440 0h160v-160H620v160ZM180-180h160v-160H180v160Zm440 0h160v-160H620v160Z\"/>\n",
              "  </svg>\n",
              "    </button>\n",
              "\n",
              "  <style>\n",
              "    .colab-df-container {\n",
              "      display:flex;\n",
              "      gap: 12px;\n",
              "    }\n",
              "\n",
              "    .colab-df-convert {\n",
              "      background-color: #E8F0FE;\n",
              "      border: none;\n",
              "      border-radius: 50%;\n",
              "      cursor: pointer;\n",
              "      display: none;\n",
              "      fill: #1967D2;\n",
              "      height: 32px;\n",
              "      padding: 0 0 0 0;\n",
              "      width: 32px;\n",
              "    }\n",
              "\n",
              "    .colab-df-convert:hover {\n",
              "      background-color: #E2EBFA;\n",
              "      box-shadow: 0px 1px 2px rgba(60, 64, 67, 0.3), 0px 1px 3px 1px rgba(60, 64, 67, 0.15);\n",
              "      fill: #174EA6;\n",
              "    }\n",
              "\n",
              "    .colab-df-buttons div {\n",
              "      margin-bottom: 4px;\n",
              "    }\n",
              "\n",
              "    [theme=dark] .colab-df-convert {\n",
              "      background-color: #3B4455;\n",
              "      fill: #D2E3FC;\n",
              "    }\n",
              "\n",
              "    [theme=dark] .colab-df-convert:hover {\n",
              "      background-color: #434B5C;\n",
              "      box-shadow: 0px 1px 3px 1px rgba(0, 0, 0, 0.15);\n",
              "      filter: drop-shadow(0px 1px 2px rgba(0, 0, 0, 0.3));\n",
              "      fill: #FFFFFF;\n",
              "    }\n",
              "  </style>\n",
              "\n",
              "    <script>\n",
              "      const buttonEl =\n",
              "        document.querySelector('#df-5a35ca1e-5beb-41cd-b38e-a0820245857f button.colab-df-convert');\n",
              "      buttonEl.style.display =\n",
              "        google.colab.kernel.accessAllowed ? 'block' : 'none';\n",
              "\n",
              "      async function convertToInteractive(key) {\n",
              "        const element = document.querySelector('#df-5a35ca1e-5beb-41cd-b38e-a0820245857f');\n",
              "        const dataTable =\n",
              "          await google.colab.kernel.invokeFunction('convertToInteractive',\n",
              "                                                    [key], {});\n",
              "        if (!dataTable) return;\n",
              "\n",
              "        const docLinkHtml = 'Like what you see? Visit the ' +\n",
              "          '<a target=\"_blank\" href=https://colab.research.google.com/notebooks/data_table.ipynb>data table notebook</a>'\n",
              "          + ' to learn more about interactive tables.';\n",
              "        element.innerHTML = '';\n",
              "        dataTable['output_type'] = 'display_data';\n",
              "        await google.colab.output.renderOutput(dataTable, element);\n",
              "        const docLink = document.createElement('div');\n",
              "        docLink.innerHTML = docLinkHtml;\n",
              "        element.appendChild(docLink);\n",
              "      }\n",
              "    </script>\n",
              "  </div>\n",
              "\n",
              "\n",
              "<div id=\"df-cc808286-5df5-496b-b1bf-05c724d10150\">\n",
              "  <button class=\"colab-df-quickchart\" onclick=\"quickchart('df-cc808286-5df5-496b-b1bf-05c724d10150')\"\n",
              "            title=\"Suggest charts\"\n",
              "            style=\"display:none;\">\n",
              "\n",
              "<svg xmlns=\"http://www.w3.org/2000/svg\" height=\"24px\"viewBox=\"0 0 24 24\"\n",
              "     width=\"24px\">\n",
              "    <g>\n",
              "        <path d=\"M19 3H5c-1.1 0-2 .9-2 2v14c0 1.1.9 2 2 2h14c1.1 0 2-.9 2-2V5c0-1.1-.9-2-2-2zM9 17H7v-7h2v7zm4 0h-2V7h2v10zm4 0h-2v-4h2v4z\"/>\n",
              "    </g>\n",
              "</svg>\n",
              "  </button>\n",
              "\n",
              "<style>\n",
              "  .colab-df-quickchart {\n",
              "      --bg-color: #E8F0FE;\n",
              "      --fill-color: #1967D2;\n",
              "      --hover-bg-color: #E2EBFA;\n",
              "      --hover-fill-color: #174EA6;\n",
              "      --disabled-fill-color: #AAA;\n",
              "      --disabled-bg-color: #DDD;\n",
              "  }\n",
              "\n",
              "  [theme=dark] .colab-df-quickchart {\n",
              "      --bg-color: #3B4455;\n",
              "      --fill-color: #D2E3FC;\n",
              "      --hover-bg-color: #434B5C;\n",
              "      --hover-fill-color: #FFFFFF;\n",
              "      --disabled-bg-color: #3B4455;\n",
              "      --disabled-fill-color: #666;\n",
              "  }\n",
              "\n",
              "  .colab-df-quickchart {\n",
              "    background-color: var(--bg-color);\n",
              "    border: none;\n",
              "    border-radius: 50%;\n",
              "    cursor: pointer;\n",
              "    display: none;\n",
              "    fill: var(--fill-color);\n",
              "    height: 32px;\n",
              "    padding: 0;\n",
              "    width: 32px;\n",
              "  }\n",
              "\n",
              "  .colab-df-quickchart:hover {\n",
              "    background-color: var(--hover-bg-color);\n",
              "    box-shadow: 0 1px 2px rgba(60, 64, 67, 0.3), 0 1px 3px 1px rgba(60, 64, 67, 0.15);\n",
              "    fill: var(--button-hover-fill-color);\n",
              "  }\n",
              "\n",
              "  .colab-df-quickchart-complete:disabled,\n",
              "  .colab-df-quickchart-complete:disabled:hover {\n",
              "    background-color: var(--disabled-bg-color);\n",
              "    fill: var(--disabled-fill-color);\n",
              "    box-shadow: none;\n",
              "  }\n",
              "\n",
              "  .colab-df-spinner {\n",
              "    border: 2px solid var(--fill-color);\n",
              "    border-color: transparent;\n",
              "    border-bottom-color: var(--fill-color);\n",
              "    animation:\n",
              "      spin 1s steps(1) infinite;\n",
              "  }\n",
              "\n",
              "  @keyframes spin {\n",
              "    0% {\n",
              "      border-color: transparent;\n",
              "      border-bottom-color: var(--fill-color);\n",
              "      border-left-color: var(--fill-color);\n",
              "    }\n",
              "    20% {\n",
              "      border-color: transparent;\n",
              "      border-left-color: var(--fill-color);\n",
              "      border-top-color: var(--fill-color);\n",
              "    }\n",
              "    30% {\n",
              "      border-color: transparent;\n",
              "      border-left-color: var(--fill-color);\n",
              "      border-top-color: var(--fill-color);\n",
              "      border-right-color: var(--fill-color);\n",
              "    }\n",
              "    40% {\n",
              "      border-color: transparent;\n",
              "      border-right-color: var(--fill-color);\n",
              "      border-top-color: var(--fill-color);\n",
              "    }\n",
              "    60% {\n",
              "      border-color: transparent;\n",
              "      border-right-color: var(--fill-color);\n",
              "    }\n",
              "    80% {\n",
              "      border-color: transparent;\n",
              "      border-right-color: var(--fill-color);\n",
              "      border-bottom-color: var(--fill-color);\n",
              "    }\n",
              "    90% {\n",
              "      border-color: transparent;\n",
              "      border-bottom-color: var(--fill-color);\n",
              "    }\n",
              "  }\n",
              "</style>\n",
              "\n",
              "  <script>\n",
              "    async function quickchart(key) {\n",
              "      const quickchartButtonEl =\n",
              "        document.querySelector('#' + key + ' button');\n",
              "      quickchartButtonEl.disabled = true;  // To prevent multiple clicks.\n",
              "      quickchartButtonEl.classList.add('colab-df-spinner');\n",
              "      try {\n",
              "        const charts = await google.colab.kernel.invokeFunction(\n",
              "            'suggestCharts', [key], {});\n",
              "      } catch (error) {\n",
              "        console.error('Error during call to suggestCharts:', error);\n",
              "      }\n",
              "      quickchartButtonEl.classList.remove('colab-df-spinner');\n",
              "      quickchartButtonEl.classList.add('colab-df-quickchart-complete');\n",
              "    }\n",
              "    (() => {\n",
              "      let quickchartButtonEl =\n",
              "        document.querySelector('#df-cc808286-5df5-496b-b1bf-05c724d10150 button');\n",
              "      quickchartButtonEl.style.display =\n",
              "        google.colab.kernel.accessAllowed ? 'block' : 'none';\n",
              "    })();\n",
              "  </script>\n",
              "</div>\n",
              "    </div>\n",
              "  </div>\n"
            ]
          },
          "metadata": {},
          "execution_count": 8
        }
      ],
      "source": [
        "frame.head()"
      ]
    },
    {
      "cell_type": "code",
      "execution_count": 9,
      "id": "collected-waterproof",
      "metadata": {
        "id": "collected-waterproof",
        "colab": {
          "base_uri": "https://localhost:8080/"
        },
        "outputId": "67b15557-656d-484b-b746-7d7a66780db2"
      },
      "outputs": [
        {
          "output_type": "stream",
          "name": "stdout",
          "text": [
            "0.1 0.2 0.010756340768063644\n",
            "0.2 0.2 0.11898421353185373\n",
            "0.3 0.2 0.5890954199973404\n",
            "0.4 0.2 0.8013385277185551\n",
            "0.5 0.2 0.8965769637207062\n",
            "0.6 0.2 0.942929291399791\n",
            "0.7 0.2 0.966299311298026\n",
            "0.8 0.2 0.9781518959989762\n",
            "0.9 0.2 0.9840568957948106\n",
            "1.0 0.2 0.9868823507202488\n",
            "1.1 0.2 0.988148177093735\n",
            "0.1 0.4 0.0036416926514175607\n",
            "0.2 0.4 0.010763463373360094\n",
            "0.3 0.4 0.030184952469116566\n",
            "0.4 0.4 0.131562924303259\n",
            "0.5 0.4 0.3964094037932606\n",
            "0.6 0.4 0.5979016626615987\n",
            "0.7 0.4 0.7284704154876106\n",
            "0.8 0.4 0.8144604459153759\n",
            "0.9 0.4 0.8722697237137128\n",
            "1.0 0.4 0.9116692168795855\n",
            "1.1 0.4 0.9386802509510287\n",
            "0.1 0.6 0.002190722188881611\n",
            "0.2 0.6 0.005446688837466351\n",
            "0.3 0.6 0.010771139974975585\n",
            "0.4 0.6 0.020916599304195316\n",
            "0.5 0.6 0.04614035896610047\n",
            "0.6 0.6 0.13288938996079536\n",
            "0.7 0.6 0.3118432512847451\n",
            "0.8 0.6 0.47832565854255393\n",
            "0.9 0.6 0.605687582114665\n",
            "1.0 0.6 0.7014254793376209\n",
            "1.1 0.6 0.7738176405451065\n",
            "0.1 0.8 0.0015665254038139675\n",
            "0.2 0.8 0.003643953969662994\n",
            "0.3 0.8 0.006526163529085194\n",
            "0.4 0.8 0.010779807499500693\n",
            "0.5 0.8 0.017639902596349066\n",
            "0.6 0.8 0.030291868201986594\n",
            "0.7 0.8 0.05882382948158804\n",
            "0.8 0.8 0.13358889291095588\n",
            "0.9 0.8 0.2668895539427739\n",
            "1.0 0.8 0.40375121210421994\n",
            "1.1 0.8 0.519583469821867\n"
          ]
        }
      ],
      "source": [
        "for gamma in frame.columns:\n",
        "    column = frame[gamma]\n",
        "    for beta in column.index:\n",
        "        metric = column[beta]\n",
        "        print(beta, gamma, metric)"
      ]
    },
    {
      "cell_type": "code",
      "execution_count": 10,
      "id": "polar-flash",
      "metadata": {
        "id": "polar-flash"
      },
      "outputs": [],
      "source": [
        "from matplotlib.pyplot import plot\n",
        "\n",
        "def plot_sweep_frame(frame):\n",
        "    for gamma in frame.columns:\n",
        "        column = frame[gamma]\n",
        "        for beta in column.index:\n",
        "            metric = column[beta]\n",
        "            plot(beta/gamma, metric, '.', color='C1')"
      ]
    },
    {
      "cell_type": "markdown",
      "id": "shared-boxing",
      "metadata": {
        "id": "shared-boxing"
      },
      "source": [
        "For each element of the `SweepFrame` it plots a point with the ratio `beta/gamma` as the $x$ coordinate and `metric` -- which is the fraction of the population that's infected -- as the $y$ coordinate.\n",
        "\n",
        "Here's what it looks like:"
      ]
    },
    {
      "cell_type": "code",
      "execution_count": 11,
      "id": "incorporate-launch",
      "metadata": {
        "id": "incorporate-launch",
        "colab": {
          "base_uri": "https://localhost:8080/",
          "height": 309
        },
        "outputId": "7ff00ee6-ab00-48ac-f8de-2c35a78b0c88"
      },
      "outputs": [
        {
          "output_type": "display_data",
          "data": {
            "text/plain": [
              "<Figure size 450x300 with 1 Axes>"
            ],
            "image/png": "[encoded data removed]"
          },
          "metadata": {}
        }
      ],
      "source": [
        "plot_sweep_frame(frame)\n",
        "\n",
        "decorate(xlabel='Contact number (beta/gamma)',\n",
        "         ylabel='Fraction infected')"
      ]
    },
    {
      "cell_type": "code",
      "source": [],
      "metadata": {
        "id": "hSGTEpsoyZqM"
      },
      "id": "hSGTEpsoyZqM",
      "execution_count": 11,
      "outputs": []
    },
    {
      "cell_type": "code",
      "execution_count": 12,
      "id": "architectural-growth",
      "metadata": {
        "id": "architectural-growth"
      },
      "outputs": [],
      "source": [
        "s_inf_array = linspace(0.003, 0.99, 50)"
      ]
    },
    {
      "cell_type": "code",
      "execution_count": 13,
      "id": "narrative-embassy",
      "metadata": {
        "id": "narrative-embassy"
      },
      "outputs": [],
      "source": [
        "from numpy import log\n",
        "\n",
        "c_array = log(s_inf_array) / (s_inf_array - 1)"
      ]
    },
    {
      "cell_type": "code",
      "execution_count": 14,
      "id": "canadian-assumption",
      "metadata": {
        "id": "canadian-assumption"
      },
      "outputs": [],
      "source": [
        "frac_infected = 1 - s_inf_array"
      ]
    },
    {
      "cell_type": "code",
      "execution_count": 15,
      "id": "antique-watch",
      "metadata": {
        "id": "antique-watch"
      },
      "outputs": [],
      "source": [
        "frac_infected_series = make_series(c_array, frac_infected)"
      ]
    },
    {
      "cell_type": "code",
      "execution_count": 16,
      "id": "fallen-router",
      "metadata": {
        "id": "fallen-router",
        "colab": {
          "base_uri": "https://localhost:8080/",
          "height": 309
        },
        "outputId": "71d85e93-0d1b-4abd-be93-f866ee5e8e9e"
      },
      "outputs": [
        {
          "output_type": "display_data",
          "data": {
            "text/plain": [
              "<Figure size 450x300 with 1 Axes>"
            ],
            "image/png": "[encoded data removed]"
          },
          "metadata": {}
        }
      ],
      "source": [
        "plot_sweep_frame(frame)\n",
        "frac_infected_series.plot(label='analysis')\n",
        "\n",
        "decorate(xlabel='Contact number (c)',\n",
        "         ylabel='Fraction infected')"
      ]
    },
    {
      "cell_type": "markdown",
      "id": "textile-program",
      "metadata": {
        "id": "textile-program"
      },
      "source": [
        "### Exercise 1\n",
        "\n"
      ]
    },
    {
      "cell_type": "code",
      "execution_count": 17,
      "id": "current-tiger",
      "metadata": {
        "id": "current-tiger"
      },
      "outputs": [],
      "source": [
        "def plot_sweep_frame_difference(frame):\n",
        "    for gamma in frame.columns:\n",
        "        column = frame[gamma]\n",
        "        for beta in column.index:\n",
        "            metric = column[beta]\n",
        "            plot(beta - gamma, metric, '.', color='C1')"
      ]
    },
    {
      "cell_type": "code",
      "execution_count": 18,
      "id": "specialized-regression",
      "metadata": {
        "id": "specialized-regression",
        "colab": {
          "base_uri": "https://localhost:8080/",
          "height": 309
        },
        "outputId": "96434761-fb27-497f-c446-31c39b61a357"
      },
      "outputs": [
        {
          "output_type": "display_data",
          "data": {
            "text/plain": [
              "<Figure size 450x300 with 1 Axes>"
            ],
            "image/png": "[encoded data removed]"
          },
          "metadata": {}
        }
      ],
      "source": [
        "plot_sweep_frame_difference(frame)\n",
        "\n",
        "decorate(xlabel='Excess infection rate (infections-recoveries per day)',\n",
        "         ylabel='Fraction infected')\n"
      ]
    },
    {
      "cell_type": "code",
      "execution_count": 19,
      "id": "canadian-authentication",
      "metadata": {
        "id": "canadian-authentication"
      },
      "outputs": [],
      "source": [
        "# The results don't fall on a curve, which means that if we\n",
        "# know the difference between `beta` and `gamma`,\n",
        "# but not their ratio, that's not enough to predict\n",
        "# the fraction infected."
      ]
    },
    {
      "cell_type": "markdown",
      "id": "angry-perfume",
      "metadata": {
        "id": "angry-perfume"
      },
      "source": [
        "### Exercise 2\n",
        "\n"
      ]
    },
    {
      "cell_type": "code",
      "execution_count": 20,
      "id": "surgical-mouth",
      "metadata": {
        "scrolled": true,
        "id": "surgical-mouth",
        "colab": {
          "base_uri": "https://localhost:8080/",
          "height": 1000
        },
        "outputId": "b0af6b21-006e-41eb-8c4f-ee36e992362c"
      },
      "outputs": [
        {
          "output_type": "execute_result",
          "data": {
            "text/plain": [
              "            values\n",
              "index             \n",
              "5.826623  0.997000\n",
              "3.855292  0.976857\n",
              "3.281996  0.956714\n",
              "2.944613  0.936571\n",
              "2.708398  0.916429\n",
              "2.528340  0.896286\n",
              "2.383888  0.876143\n",
              "2.263951  0.856000\n",
              "2.161874  0.835857\n",
              "2.073358  0.815714\n",
              "1.995467  0.795571\n",
              "1.926111  0.775429\n",
              "1.863750  0.755286\n",
              "1.807220  0.735143\n",
              "1.755617  0.715000\n",
              "1.708229  0.694857\n",
              "1.664484  0.674714\n",
              "1.623917  0.654571\n",
              "1.586142  0.634429\n",
              "1.550839  0.614286\n",
              "1.517739  0.594143\n",
              "1.486613  0.574000\n",
              "1.457264  0.553857\n",
              "1.429523  0.533714\n",
              "1.403242  0.513571\n",
              "1.378295  0.493429\n",
              "1.354567  0.473286\n",
              "1.331959  0.453143\n",
              "1.310383  0.433000\n",
              "1.289761  0.412857\n",
              "1.270022  0.392714\n",
              "1.251104  0.372571\n",
              "1.232948  0.352429\n",
              "1.215505  0.332286\n",
              "1.198727  0.312143\n",
              "1.182573  0.292000\n",
              "1.167003  0.271857\n",
              "1.151982  0.251714\n",
              "1.137479  0.231571\n",
              "1.123464  0.211429\n",
              "1.109908  0.191286\n",
              "1.096788  0.171143\n",
              "1.084080  0.151000\n",
              "1.071762  0.130857\n",
              "1.059815  0.110714\n",
              "1.048220  0.090571\n",
              "1.036960  0.070429\n",
              "1.026019  0.050286\n",
              "1.015381  0.030143\n",
              "1.005034  0.010000"
            ],
            "text/html": [
              "\n",
              "  <div id=\"df-339d8857-a278-48c6-848f-5792ed52ddf8\" class=\"colab-df-container\">\n",
              "    <div>\n",
              "<style scoped>\n",
              "    .dataframe tbody tr th:only-of-type {\n",
              "        vertical-align: middle;\n",
              "    }\n",
              "\n",
              "    .dataframe tbody tr th {\n",
              "        vertical-align: top;\n",
              "    }\n",
              "\n",
              "    .dataframe thead th {\n",
              "        text-align: right;\n",
              "    }\n",
              "</style>\n",
              "<table border=\"1\" class=\"dataframe\">\n",
              "  <thead>\n",
              "    <tr style=\"text-align: right;\">\n",
              "      <th></th>\n",
              "      <th>values</th>\n",
              "    </tr>\n",
              "    <tr>\n",
              "      <th>index</th>\n",
              "      <th></th>\n",
              "    </tr>\n",
              "  </thead>\n",
              "  <tbody>\n",
              "    <tr>\n",
              "      <th>5.826623</th>\n",
              "      <td>0.997000</td>\n",
              "    </tr>\n",
              "    <tr>\n",
              "      <th>3.855292</th>\n",
              "      <td>0.976857</td>\n",
              "    </tr>\n",
              "    <tr>\n",
              "      <th>3.281996</th>\n",
              "      <td>0.956714</td>\n",
              "    </tr>\n",
              "    <tr>\n",
              "      <th>2.944613</th>\n",
              "      <td>0.936571</td>\n",
              "    </tr>\n",
              "    <tr>\n",
              "      <th>2.708398</th>\n",
              "      <td>0.916429</td>\n",
              "    </tr>\n",
              "    <tr>\n",
              "      <th>2.528340</th>\n",
              "      <td>0.896286</td>\n",
              "    </tr>\n",
              "    <tr>\n",
              "      <th>2.383888</th>\n",
              "      <td>0.876143</td>\n",
              "    </tr>\n",
              "    <tr>\n",
              "      <th>2.263951</th>\n",
              "      <td>0.856000</td>\n",
              "    </tr>\n",
              "    <tr>\n",
              "      <th>2.161874</th>\n",
              "      <td>0.835857</td>\n",
              "    </tr>\n",
              "    <tr>\n",
              "      <th>2.073358</th>\n",
              "      <td>0.815714</td>\n",
              "    </tr>\n",
              "    <tr>\n",
              "      <th>1.995467</th>\n",
              "      <td>0.795571</td>\n",
              "    </tr>\n",
              "    <tr>\n",
              "      <th>1.926111</th>\n",
              "      <td>0.775429</td>\n",
              "    </tr>\n",
              "    <tr>\n",
              "      <th>1.863750</th>\n",
              "      <td>0.755286</td>\n",
              "    </tr>\n",
              "    <tr>\n",
              "      <th>1.807220</th>\n",
              "      <td>0.735143</td>\n",
              "    </tr>\n",
              "    <tr>\n",
              "      <th>1.755617</th>\n",
              "      <td>0.715000</td>\n",
              "    </tr>\n",
              "    <tr>\n",
              "      <th>1.708229</th>\n",
              "      <td>0.694857</td>\n",
              "    </tr>\n",
              "    <tr>\n",
              "      <th>1.664484</th>\n",
              "      <td>0.674714</td>\n",
              "    </tr>\n",
              "    <tr>\n",
              "      <th>1.623917</th>\n",
              "      <td>0.654571</td>\n",
              "    </tr>\n",
              "    <tr>\n",
              "      <th>1.586142</th>\n",
              "      <td>0.634429</td>\n",
              "    </tr>\n",
              "    <tr>\n",
              "      <th>1.550839</th>\n",
              "      <td>0.614286</td>\n",
              "    </tr>\n",
              "    <tr>\n",
              "      <th>1.517739</th>\n",
              "      <td>0.594143</td>\n",
              "    </tr>\n",
              "    <tr>\n",
              "      <th>1.486613</th>\n",
              "      <td>0.574000</td>\n",
              "    </tr>\n",
              "    <tr>\n",
              "      <th>1.457264</th>\n",
              "      <td>0.553857</td>\n",
              "    </tr>\n",
              "    <tr>\n",
              "      <th>1.429523</th>\n",
              "      <td>0.533714</td>\n",
              "    </tr>\n",
              "    <tr>\n",
              "      <th>1.403242</th>\n",
              "      <td>0.513571</td>\n",
              "    </tr>\n",
              "    <tr>\n",
              "      <th>1.378295</th>\n",
              "      <td>0.493429</td>\n",
              "    </tr>\n",
              "    <tr>\n",
              "      <th>1.354567</th>\n",
              "      <td>0.473286</td>\n",
              "    </tr>\n",
              "    <tr>\n",
              "      <th>1.331959</th>\n",
              "      <td>0.453143</td>\n",
              "    </tr>\n",
              "    <tr>\n",
              "      <th>1.310383</th>\n",
              "      <td>0.433000</td>\n",
              "    </tr>\n",
              "    <tr>\n",
              "      <th>1.289761</th>\n",
              "      <td>0.412857</td>\n",
              "    </tr>\n",
              "    <tr>\n",
              "      <th>1.270022</th>\n",
              "      <td>0.392714</td>\n",
              "    </tr>\n",
              "    <tr>\n",
              "      <th>1.251104</th>\n",
              "      <td>0.372571</td>\n",
              "    </tr>\n",
              "    <tr>\n",
              "      <th>1.232948</th>\n",
              "      <td>0.352429</td>\n",
              "    </tr>\n",
              "    <tr>\n",
              "      <th>1.215505</th>\n",
              "      <td>0.332286</td>\n",
              "    </tr>\n",
              "    <tr>\n",
              "      <th>1.198727</th>\n",
              "      <td>0.312143</td>\n",
              "    </tr>\n",
              "    <tr>\n",
              "      <th>1.182573</th>\n",
              "      <td>0.292000</td>\n",
              "    </tr>\n",
              "    <tr>\n",
              "      <th>1.167003</th>\n",
              "      <td>0.271857</td>\n",
              "    </tr>\n",
              "    <tr>\n",
              "      <th>1.151982</th>\n",
              "      <td>0.251714</td>\n",
              "    </tr>\n",
              "    <tr>\n",
              "      <th>1.137479</th>\n",
              "      <td>0.231571</td>\n",
              "    </tr>\n",
              "    <tr>\n",
              "      <th>1.123464</th>\n",
              "      <td>0.211429</td>\n",
              "    </tr>\n",
              "    <tr>\n",
              "      <th>1.109908</th>\n",
              "      <td>0.191286</td>\n",
              "    </tr>\n",
              "    <tr>\n",
              "      <th>1.096788</th>\n",
              "      <td>0.171143</td>\n",
              "    </tr>\n",
              "    <tr>\n",
              "      <th>1.084080</th>\n",
              "      <td>0.151000</td>\n",
              "    </tr>\n",
              "    <tr>\n",
              "      <th>1.071762</th>\n",
              "      <td>0.130857</td>\n",
              "    </tr>\n",
              "    <tr>\n",
              "      <th>1.059815</th>\n",
              "      <td>0.110714</td>\n",
              "    </tr>\n",
              "    <tr>\n",
              "      <th>1.048220</th>\n",
              "      <td>0.090571</td>\n",
              "    </tr>\n",
              "    <tr>\n",
              "      <th>1.036960</th>\n",
              "      <td>0.070429</td>\n",
              "    </tr>\n",
              "    <tr>\n",
              "      <th>1.026019</th>\n",
              "      <td>0.050286</td>\n",
              "    </tr>\n",
              "    <tr>\n",
              "      <th>1.015381</th>\n",
              "      <td>0.030143</td>\n",
              "    </tr>\n",
              "    <tr>\n",
              "      <th>1.005034</th>\n",
              "      <td>0.010000</td>\n",
              "    </tr>\n",
              "  </tbody>\n",
              "</table>\n",
              "</div>\n",
              "    <div class=\"colab-df-buttons\">\n",
              "\n",
              "  <div class=\"colab-df-container\">\n",
              "    <button class=\"colab-df-convert\" onclick=\"convertToInteractive('df-339d8857-a278-48c6-848f-5792ed52ddf8')\"\n",
              "            title=\"Convert this dataframe to an interactive table.\"\n",
              "            style=\"display:none;\">\n",
              "\n",
              "  <svg xmlns=\"http://www.w3.org/2000/svg\" height=\"24px\" viewBox=\"0 -960 960 960\">\n",
              "    <path d=\"M120-120v-720h720v720H120Zm60-500h600v-160H180v160Zm220 220h160v-160H400v160Zm0 220h160v-160H400v160ZM180-400h160v-160H180v160Zm440 0h160v-160H620v160ZM180-180h160v-160H180v160Zm440 0h160v-160H620v160Z\"/>\n",
              "  </svg>\n",
              "    </button>\n",
              "\n",
              "  <style>\n",
              "    .colab-df-container {\n",
              "      display:flex;\n",
              "      gap: 12px;\n",
              "    }\n",
              "\n",
              "    .colab-df-convert {\n",
              "      background-color: #E8F0FE;\n",
              "      border: none;\n",
              "      border-radius: 50%;\n",
              "      cursor: pointer;\n",
              "      display: none;\n",
              "      fill: #1967D2;\n",
              "      height: 32px;\n",
              "      padding: 0 0 0 0;\n",
              "      width: 32px;\n",
              "    }\n",
              "\n",
              "    .colab-df-convert:hover {\n",
              "      background-color: #E2EBFA;\n",
              "      box-shadow: 0px 1px 2px rgba(60, 64, 67, 0.3), 0px 1px 3px 1px rgba(60, 64, 67, 0.15);\n",
              "      fill: #174EA6;\n",
              "    }\n",
              "\n",
              "    .colab-df-buttons div {\n",
              "      margin-bottom: 4px;\n",
              "    }\n",
              "\n",
              "    [theme=dark] .colab-df-convert {\n",
              "      background-color: #3B4455;\n",
              "      fill: #D2E3FC;\n",
              "    }\n",
              "\n",
              "    [theme=dark] .colab-df-convert:hover {\n",
              "      background-color: #434B5C;\n",
              "      box-shadow: 0px 1px 3px 1px rgba(0, 0, 0, 0.15);\n",
              "      filter: drop-shadow(0px 1px 2px rgba(0, 0, 0, 0.3));\n",
              "      fill: #FFFFFF;\n",
              "    }\n",
              "  </style>\n",
              "\n",
              "    <script>\n",
              "      const buttonEl =\n",
              "        document.querySelector('#df-339d8857-a278-48c6-848f-5792ed52ddf8 button.colab-df-convert');\n",
              "      buttonEl.style.display =\n",
              "        google.colab.kernel.accessAllowed ? 'block' : 'none';\n",
              "\n",
              "      async function convertToInteractive(key) {\n",
              "        const element = document.querySelector('#df-339d8857-a278-48c6-848f-5792ed52ddf8');\n",
              "        const dataTable =\n",
              "          await google.colab.kernel.invokeFunction('convertToInteractive',\n",
              "                                                    [key], {});\n",
              "        if (!dataTable) return;\n",
              "\n",
              "        const docLinkHtml = 'Like what you see? Visit the ' +\n",
              "          '<a target=\"_blank\" href=https://colab.research.google.com/notebooks/data_table.ipynb>data table notebook</a>'\n",
              "          + ' to learn more about interactive tables.';\n",
              "        element.innerHTML = '';\n",
              "        dataTable['output_type'] = 'display_data';\n",
              "        await google.colab.output.renderOutput(dataTable, element);\n",
              "        const docLink = document.createElement('div');\n",
              "        docLink.innerHTML = docLinkHtml;\n",
              "        element.appendChild(docLink);\n",
              "      }\n",
              "    </script>\n",
              "  </div>\n",
              "\n",
              "\n",
              "<div id=\"df-6c24586b-a989-4eeb-a725-fca643b94780\">\n",
              "  <button class=\"colab-df-quickchart\" onclick=\"quickchart('df-6c24586b-a989-4eeb-a725-fca643b94780')\"\n",
              "            title=\"Suggest charts\"\n",
              "            style=\"display:none;\">\n",
              "\n",
              "<svg xmlns=\"http://www.w3.org/2000/svg\" height=\"24px\"viewBox=\"0 0 24 24\"\n",
              "     width=\"24px\">\n",
              "    <g>\n",
              "        <path d=\"M19 3H5c-1.1 0-2 .9-2 2v14c0 1.1.9 2 2 2h14c1.1 0 2-.9 2-2V5c0-1.1-.9-2-2-2zM9 17H7v-7h2v7zm4 0h-2V7h2v10zm4 0h-2v-4h2v4z\"/>\n",
              "    </g>\n",
              "</svg>\n",
              "  </button>\n",
              "\n",
              "<style>\n",
              "  .colab-df-quickchart {\n",
              "      --bg-color: #E8F0FE;\n",
              "      --fill-color: #1967D2;\n",
              "      --hover-bg-color: #E2EBFA;\n",
              "      --hover-fill-color: #174EA6;\n",
              "      --disabled-fill-color: #AAA;\n",
              "      --disabled-bg-color: #DDD;\n",
              "  }\n",
              "\n",
              "  [theme=dark] .colab-df-quickchart {\n",
              "      --bg-color: #3B4455;\n",
              "      --fill-color: #D2E3FC;\n",
              "      --hover-bg-color: #434B5C;\n",
              "      --hover-fill-color: #FFFFFF;\n",
              "      --disabled-bg-color: #3B4455;\n",
              "      --disabled-fill-color: #666;\n",
              "  }\n",
              "\n",
              "  .colab-df-quickchart {\n",
              "    background-color: var(--bg-color);\n",
              "    border: none;\n",
              "    border-radius: 50%;\n",
              "    cursor: pointer;\n",
              "    display: none;\n",
              "    fill: var(--fill-color);\n",
              "    height: 32px;\n",
              "    padding: 0;\n",
              "    width: 32px;\n",
              "  }\n",
              "\n",
              "  .colab-df-quickchart:hover {\n",
              "    background-color: var(--hover-bg-color);\n",
              "    box-shadow: 0 1px 2px rgba(60, 64, 67, 0.3), 0 1px 3px 1px rgba(60, 64, 67, 0.15);\n",
              "    fill: var(--button-hover-fill-color);\n",
              "  }\n",
              "\n",
              "  .colab-df-quickchart-complete:disabled,\n",
              "  .colab-df-quickchart-complete:disabled:hover {\n",
              "    background-color: var(--disabled-bg-color);\n",
              "    fill: var(--disabled-fill-color);\n",
              "    box-shadow: none;\n",
              "  }\n",
              "\n",
              "  .colab-df-spinner {\n",
              "    border: 2px solid var(--fill-color);\n",
              "    border-color: transparent;\n",
              "    border-bottom-color: var(--fill-color);\n",
              "    animation:\n",
              "      spin 1s steps(1) infinite;\n",
              "  }\n",
              "\n",
              "  @keyframes spin {\n",
              "    0% {\n",
              "      border-color: transparent;\n",
              "      border-bottom-color: var(--fill-color);\n",
              "      border-left-color: var(--fill-color);\n",
              "    }\n",
              "    20% {\n",
              "      border-color: transparent;\n",
              "      border-left-color: var(--fill-color);\n",
              "      border-top-color: var(--fill-color);\n",
              "    }\n",
              "    30% {\n",
              "      border-color: transparent;\n",
              "      border-left-color: var(--fill-color);\n",
              "      border-top-color: var(--fill-color);\n",
              "      border-right-color: var(--fill-color);\n",
              "    }\n",
              "    40% {\n",
              "      border-color: transparent;\n",
              "      border-right-color: var(--fill-color);\n",
              "      border-top-color: var(--fill-color);\n",
              "    }\n",
              "    60% {\n",
              "      border-color: transparent;\n",
              "      border-right-color: var(--fill-color);\n",
              "    }\n",
              "    80% {\n",
              "      border-color: transparent;\n",
              "      border-right-color: var(--fill-color);\n",
              "      border-bottom-color: var(--fill-color);\n",
              "    }\n",
              "    90% {\n",
              "      border-color: transparent;\n",
              "      border-bottom-color: var(--fill-color);\n",
              "    }\n",
              "  }\n",
              "</style>\n",
              "\n",
              "  <script>\n",
              "    async function quickchart(key) {\n",
              "      const quickchartButtonEl =\n",
              "        document.querySelector('#' + key + ' button');\n",
              "      quickchartButtonEl.disabled = true;  // To prevent multiple clicks.\n",
              "      quickchartButtonEl.classList.add('colab-df-spinner');\n",
              "      try {\n",
              "        const charts = await google.colab.kernel.invokeFunction(\n",
              "            'suggestCharts', [key], {});\n",
              "      } catch (error) {\n",
              "        console.error('Error during call to suggestCharts:', error);\n",
              "      }\n",
              "      quickchartButtonEl.classList.remove('colab-df-spinner');\n",
              "      quickchartButtonEl.classList.add('colab-df-quickchart-complete');\n",
              "    }\n",
              "    (() => {\n",
              "      let quickchartButtonEl =\n",
              "        document.querySelector('#df-6c24586b-a989-4eeb-a725-fca643b94780 button');\n",
              "      quickchartButtonEl.style.display =\n",
              "        google.colab.kernel.accessAllowed ? 'block' : 'none';\n",
              "    })();\n",
              "  </script>\n",
              "</div>\n",
              "    </div>\n",
              "  </div>\n"
            ]
          },
          "metadata": {},
          "execution_count": 20
        }
      ],
      "source": [
        "show(frac_infected_series)\n"
      ]
    },
    {
      "cell_type": "code",
      "execution_count": 21,
      "id": "focused-magnet",
      "metadata": {
        "id": "focused-magnet"
      },
      "outputs": [],
      "source": [
        "# It looks like the fraction infected is 0.26 when the contact\n",
        "# number is about 1.16"
      ]
    },
    {
      "cell_type": "markdown",
      "id": "charged-sample",
      "metadata": {
        "id": "charged-sample"
      },
      "source": [
        "### Exercise 3\n",
        "\n"
      ]
    },
    {
      "cell_type": "code",
      "execution_count": 22,
      "id": "greatest-palestine",
      "metadata": {
        "id": "greatest-palestine"
      },
      "outputs": [],
      "source": [
        "def sweep_beta_max(beta_array, gamma):\n",
        "    sweep = SweepSeries()\n",
        "    for beta in beta_array:\n",
        "        system = make_system(beta, gamma)\n",
        "        results = run_simulation(system, update_func)\n",
        "        sweep[beta] = results.i.max()\n",
        "    return sweep"
      ]
    },
    {
      "cell_type": "code",
      "execution_count": 23,
      "id": "average-practitioner",
      "metadata": {
        "id": "average-practitioner"
      },
      "outputs": [],
      "source": [
        "def sweep_parameters_max(beta_array, gamma_array):\n",
        "    frame = SweepFrame(columns=gamma_array)\n",
        "    for gamma in gamma_array:\n",
        "        frame[gamma] = sweep_beta_max(beta_array, gamma)\n",
        "    return frame"
      ]
    },
    {
      "cell_type": "code",
      "execution_count": 24,
      "id": "elegant-gamma",
      "metadata": {
        "id": "elegant-gamma"
      },
      "outputs": [],
      "source": [
        "frame_max = sweep_parameters_max(beta_array, gamma_array)\n"
      ]
    },
    {
      "cell_type": "code",
      "execution_count": 25,
      "id": "plain-dayton",
      "metadata": {
        "id": "plain-dayton",
        "colab": {
          "base_uri": "https://localhost:8080/",
          "height": 309
        },
        "outputId": "54b82ce2-ffa8-4dcb-eba0-eb248d47eb69"
      },
      "outputs": [
        {
          "output_type": "display_data",
          "data": {
            "text/plain": [
              "<Figure size 450x300 with 1 Axes>"
            ],
            "image/png": "[encoded data removed]"
          },
          "metadata": {}
        }
      ],
      "source": [
        "contour(frame_max)\n",
        "\n",
        "decorate(xlabel='Recovery rate (gamma)',\n",
        "         ylabel='Contact rate (beta)',\n",
        "         title='Contour plot, maximum I')"
      ]
    },
    {
      "cell_type": "code",
      "execution_count": 26,
      "id": "sexual-services",
      "metadata": {
        "id": "sexual-services",
        "colab": {
          "base_uri": "https://localhost:8080/",
          "height": 309
        },
        "outputId": "1f12f612-da85-4e35-dcb3-73c4f5e573db"
      },
      "outputs": [
        {
          "output_type": "display_data",
          "data": {
            "text/plain": [
              "<Figure size 450x300 with 1 Axes>"
            ],
            "image/png": "[encoded data removed]"
          },
          "metadata": {}
        }
      ],
      "source": [
        "system = make_system(0.8, 0.2)\n",
        "results = run_simulation(system, update_func)\n",
        "plot_results(results.s, results.i, results.r)"
      ]
    },
    {
      "cell_type": "code",
      "execution_count": 27,
      "id": "central-fever",
      "metadata": {
        "id": "central-fever"
      },
      "outputs": [],
      "source": [
        "from matplotlib.pyplot import plot\n",
        "\n",
        "def plot_sweep_frame(frame):\n",
        "    for gamma in frame.columns:\n",
        "        series = frame[gamma]\n",
        "        for beta in series.index:\n",
        "            metric = series[beta]\n",
        "            plot(beta/gamma, metric, '.', color='C1')\n"
      ]
    },
    {
      "cell_type": "code",
      "execution_count": 28,
      "id": "tropical-advancement",
      "metadata": {
        "id": "tropical-advancement",
        "colab": {
          "base_uri": "https://localhost:8080/",
          "height": 280
        },
        "outputId": "433bc91f-a2c6-41e4-85a1-d40d71abccfd"
      },
      "outputs": [
        {
          "output_type": "display_data",
          "data": {
            "text/plain": [
              "<Figure size 450x300 with 1 Axes>"
            ],
            "image/png": "[encoded data removed]"
          },
          "metadata": {}
        }
      ],
      "source": [
        "plot_sweep_frame(frame_max)\n"
      ]
    },
    {
      "cell_type": "markdown",
      "id": "editorial-coating",
      "metadata": {
        "id": "editorial-coating"
      },
      "source": [
        "## Under the Hood\n"
      ]
    },
    {
      "cell_type": "code",
      "execution_count": 29,
      "id": "corresponding-india",
      "metadata": {
        "id": "corresponding-india"
      },
      "outputs": [],
      "source": [
        "frac_infected_series = make_series(c_array, frac_infected)"
      ]
    },
    {
      "cell_type": "code",
      "execution_count": 30,
      "id": "constant-christianity",
      "metadata": {
        "id": "constant-christianity"
      },
      "outputs": [],
      "source": [
        "from pandas import Series\n",
        "\n",
        "frac_infected_series = Series(frac_infected, c_array)"
      ]
    },
    {
      "cell_type": "code",
      "execution_count": 30,
      "id": "hidden-recipient",
      "metadata": {
        "id": "hidden-recipient"
      },
      "outputs": [],
      "source": []
    }
  ],
  "metadata": {
    "celltoolbar": "Tags",
    "kernelspec": {
      "display_name": "Python 3 (ipykernel)",
      "language": "python",
      "name": "python3"
    },
    "language_info": {
      "codemirror_mode": {
        "name": "ipython",
        "version": 3
      },
      "file_extension": ".py",
      "mimetype": "text/x-python",
      "name": "python",
      "nbconvert_exporter": "python",
      "pygments_lexer": "ipython3",
      "version": "3.10.6"
    },
    "colab": {
      "provenance": []
    }
  },
  "nbformat": 4,
  "nbformat_minor": 5
}