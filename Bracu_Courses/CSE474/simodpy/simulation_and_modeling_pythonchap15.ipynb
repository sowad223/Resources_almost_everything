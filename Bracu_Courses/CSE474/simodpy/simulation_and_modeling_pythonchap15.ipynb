{
  "cells": [
    {
      "cell_type": "code",
      "execution_count": 1,
      "id": "dependent-monitoring",
      "metadata": {
        "tags": [],
        "id": "dependent-monitoring",
        "colab": {
          "base_uri": "https://localhost:8080/"
        },
        "outputId": "05417195-f0c6-406f-97a7-d626cad97117"
      },
      "outputs": [
        {
          "output_type": "stream",
          "name": "stdout",
          "text": [
            "Downloaded modsim.py\n"
          ]
        }
      ],
      "source": [
        "# download modsim.py if necessary\n",
        "\n",
        "from os.path import basename, exists\n",
        "\n",
        "def download(url):\n",
        "    filename = basename(url)\n",
        "    if not exists(filename):\n",
        "        from urllib.request import urlretrieve\n",
        "        local, _ = urlretrieve(url, filename)\n",
        "        print('Downloaded ' + local)\n",
        "\n",
        "download('https://github.com/AllenDowney/ModSimPy/raw/master/' +\n",
        "         'modsim.py')"
      ]
    },
    {
      "cell_type": "code",
      "execution_count": 2,
      "id": "continental-decrease",
      "metadata": {
        "tags": [],
        "id": "continental-decrease"
      },
      "outputs": [],
      "source": [
        "# import functions from modsim\n",
        "\n",
        "from modsim import *"
      ]
    },
    {
      "cell_type": "code",
      "execution_count": 3,
      "id": "incredible-greeting",
      "metadata": {
        "tags": [],
        "id": "incredible-greeting"
      },
      "outputs": [],
      "source": [
        "def make_system(T_init, volume, r, t_end):\n",
        "    return System(T_init=T_init,\n",
        "                  T_final=T_init,\n",
        "                  volume=volume,\n",
        "                  r=r,\n",
        "                  t_end=t_end,\n",
        "                  T_env=22,\n",
        "                  t_0=0,\n",
        "                  dt=1)"
      ]
    },
    {
      "cell_type": "code",
      "execution_count": 4,
      "id": "fuzzy-support",
      "metadata": {
        "id": "fuzzy-support"
      },
      "outputs": [],
      "source": [
        "coffee = make_system(T_init=90, volume=300, r=0.01, t_end=30)"
      ]
    },
    {
      "cell_type": "code",
      "execution_count": 5,
      "id": "tight-baptist",
      "metadata": {
        "tags": [],
        "id": "tight-baptist"
      },
      "outputs": [],
      "source": [
        "def change_func(t, T, system):\n",
        "    r, T_env, dt = system.r, system.T_env, system.dt\n",
        "    return -r * (T - T_env) * dt"
      ]
    },
    {
      "cell_type": "code",
      "execution_count": 6,
      "id": "fiscal-artwork",
      "metadata": {
        "id": "fiscal-artwork",
        "colab": {
          "base_uri": "https://localhost:8080/"
        },
        "outputId": "3141bc43-272c-4bbe-e35a-f380fd71c366"
      },
      "outputs": [
        {
          "output_type": "execute_result",
          "data": {
            "text/plain": [
              "-0.68"
            ]
          },
          "metadata": {},
          "execution_count": 6
        }
      ],
      "source": [
        "change_func(0, coffee.T_init, coffee)"
      ]
    },
    {
      "cell_type": "code",
      "execution_count": 7,
      "id": "cardiac-independence",
      "metadata": {
        "tags": [],
        "id": "cardiac-independence"
      },
      "outputs": [],
      "source": [
        "def run_simulation(system, change_func):\n",
        "    t_array = linrange(system.t_0, system.t_end, system.dt)\n",
        "    n = len(t_array)\n",
        "\n",
        "    series = TimeSeries(index=t_array)\n",
        "    series.iloc[0] = system.T_init\n",
        "\n",
        "    for i in range(n-1):\n",
        "        t = t_array[i]\n",
        "        T = series.iloc[i]\n",
        "        series.iloc[i+1] = T + change_func(t, T, system)\n",
        "\n",
        "    system.T_final = series.iloc[-1]\n",
        "    return series"
      ]
    },
    {
      "cell_type": "code",
      "execution_count": 8,
      "id": "numerous-metabolism",
      "metadata": {
        "id": "numerous-metabolism"
      },
      "outputs": [],
      "source": [
        "results = run_simulation(coffee, change_func)"
      ]
    },
    {
      "cell_type": "code",
      "execution_count": 9,
      "id": "infectious-carolina",
      "metadata": {
        "id": "infectious-carolina",
        "colab": {
          "base_uri": "https://localhost:8080/",
          "height": 237
        },
        "outputId": "82969ef5-2ab6-42a6-a532-058300c25167"
      },
      "outputs": [
        {
          "output_type": "execute_result",
          "data": {
            "text/plain": [
              "       Quantity\n",
              "Time           \n",
              "0.0   90.000000\n",
              "1.0   89.320000\n",
              "2.0   88.646800\n",
              "3.0   87.980332\n",
              "4.0   87.320529"
            ],
            "text/html": [
              "\n",
              "  <div id=\"df-37d53c30-c08d-41c1-a8c0-3612a950d17b\" class=\"colab-df-container\">\n",
              "    <div>\n",
              "<style scoped>\n",
              "    .dataframe tbody tr th:only-of-type {\n",
              "        vertical-align: middle;\n",
              "    }\n",
              "\n",
              "    .dataframe tbody tr th {\n",
              "        vertical-align: top;\n",
              "    }\n",
              "\n",
              "    .dataframe thead th {\n",
              "        text-align: right;\n",
              "    }\n",
              "</style>\n",
              "<table border=\"1\" class=\"dataframe\">\n",
              "  <thead>\n",
              "    <tr style=\"text-align: right;\">\n",
              "      <th></th>\n",
              "      <th>Quantity</th>\n",
              "    </tr>\n",
              "    <tr>\n",
              "      <th>Time</th>\n",
              "      <th></th>\n",
              "    </tr>\n",
              "  </thead>\n",
              "  <tbody>\n",
              "    <tr>\n",
              "      <th>0.0</th>\n",
              "      <td>90.000000</td>\n",
              "    </tr>\n",
              "    <tr>\n",
              "      <th>1.0</th>\n",
              "      <td>89.320000</td>\n",
              "    </tr>\n",
              "    <tr>\n",
              "      <th>2.0</th>\n",
              "      <td>88.646800</td>\n",
              "    </tr>\n",
              "    <tr>\n",
              "      <th>3.0</th>\n",
              "      <td>87.980332</td>\n",
              "    </tr>\n",
              "    <tr>\n",
              "      <th>4.0</th>\n",
              "      <td>87.320529</td>\n",
              "    </tr>\n",
              "  </tbody>\n",
              "</table>\n",
              "</div>\n",
              "    <div class=\"colab-df-buttons\">\n",
              "\n",
              "  <div class=\"colab-df-container\">\n",
              "    <button class=\"colab-df-convert\" onclick=\"convertToInteractive('df-37d53c30-c08d-41c1-a8c0-3612a950d17b')\"\n",
              "            title=\"Convert this dataframe to an interactive table.\"\n",
              "            style=\"display:none;\">\n",
              "\n",
              "  <svg xmlns=\"http://www.w3.org/2000/svg\" height=\"24px\" viewBox=\"0 -960 960 960\">\n",
              "    <path d=\"M120-120v-720h720v720H120Zm60-500h600v-160H180v160Zm220 220h160v-160H400v160Zm0 220h160v-160H400v160ZM180-400h160v-160H180v160Zm440 0h160v-160H620v160ZM180-180h160v-160H180v160Zm440 0h160v-160H620v160Z\"/>\n",
              "  </svg>\n",
              "    </button>\n",
              "\n",
              "  <style>\n",
              "    .colab-df-container {\n",
              "      display:flex;\n",
              "      gap: 12px;\n",
              "    }\n",
              "\n",
              "    .colab-df-convert {\n",
              "      background-color: #E8F0FE;\n",
              "      border: none;\n",
              "      border-radius: 50%;\n",
              "      cursor: pointer;\n",
              "      display: none;\n",
              "      fill: #1967D2;\n",
              "      height: 32px;\n",
              "      padding: 0 0 0 0;\n",
              "      width: 32px;\n",
              "    }\n",
              "\n",
              "    .colab-df-convert:hover {\n",
              "      background-color: #E2EBFA;\n",
              "      box-shadow: 0px 1px 2px rgba(60, 64, 67, 0.3), 0px 1px 3px 1px rgba(60, 64, 67, 0.15);\n",
              "      fill: #174EA6;\n",
              "    }\n",
              "\n",
              "    .colab-df-buttons div {\n",
              "      margin-bottom: 4px;\n",
              "    }\n",
              "\n",
              "    [theme=dark] .colab-df-convert {\n",
              "      background-color: #3B4455;\n",
              "      fill: #D2E3FC;\n",
              "    }\n",
              "\n",
              "    [theme=dark] .colab-df-convert:hover {\n",
              "      background-color: #434B5C;\n",
              "      box-shadow: 0px 1px 3px 1px rgba(0, 0, 0, 0.15);\n",
              "      filter: drop-shadow(0px 1px 2px rgba(0, 0, 0, 0.3));\n",
              "      fill: #FFFFFF;\n",
              "    }\n",
              "  </style>\n",
              "\n",
              "    <script>\n",
              "      const buttonEl =\n",
              "        document.querySelector('#df-37d53c30-c08d-41c1-a8c0-3612a950d17b button.colab-df-convert');\n",
              "      buttonEl.style.display =\n",
              "        google.colab.kernel.accessAllowed ? 'block' : 'none';\n",
              "\n",
              "      async function convertToInteractive(key) {\n",
              "        const element = document.querySelector('#df-37d53c30-c08d-41c1-a8c0-3612a950d17b');\n",
              "        const dataTable =\n",
              "          await google.colab.kernel.invokeFunction('convertToInteractive',\n",
              "                                                    [key], {});\n",
              "        if (!dataTable) return;\n",
              "\n",
              "        const docLinkHtml = 'Like what you see? Visit the ' +\n",
              "          '<a target=\"_blank\" href=https://colab.research.google.com/notebooks/data_table.ipynb>data table notebook</a>'\n",
              "          + ' to learn more about interactive tables.';\n",
              "        element.innerHTML = '';\n",
              "        dataTable['output_type'] = 'display_data';\n",
              "        await google.colab.output.renderOutput(dataTable, element);\n",
              "        const docLink = document.createElement('div');\n",
              "        docLink.innerHTML = docLinkHtml;\n",
              "        element.appendChild(docLink);\n",
              "      }\n",
              "    </script>\n",
              "  </div>\n",
              "\n",
              "\n",
              "<div id=\"df-ae32fe5e-3a5b-4485-922a-5c4ec7573171\">\n",
              "  <button class=\"colab-df-quickchart\" onclick=\"quickchart('df-ae32fe5e-3a5b-4485-922a-5c4ec7573171')\"\n",
              "            title=\"Suggest charts\"\n",
              "            style=\"display:none;\">\n",
              "\n",
              "<svg xmlns=\"http://www.w3.org/2000/svg\" height=\"24px\"viewBox=\"0 0 24 24\"\n",
              "     width=\"24px\">\n",
              "    <g>\n",
              "        <path d=\"M19 3H5c-1.1 0-2 .9-2 2v14c0 1.1.9 2 2 2h14c1.1 0 2-.9 2-2V5c0-1.1-.9-2-2-2zM9 17H7v-7h2v7zm4 0h-2V7h2v10zm4 0h-2v-4h2v4z\"/>\n",
              "    </g>\n",
              "</svg>\n",
              "  </button>\n",
              "\n",
              "<style>\n",
              "  .colab-df-quickchart {\n",
              "      --bg-color: #E8F0FE;\n",
              "      --fill-color: #1967D2;\n",
              "      --hover-bg-color: #E2EBFA;\n",
              "      --hover-fill-color: #174EA6;\n",
              "      --disabled-fill-color: #AAA;\n",
              "      --disabled-bg-color: #DDD;\n",
              "  }\n",
              "\n",
              "  [theme=dark] .colab-df-quickchart {\n",
              "      --bg-color: #3B4455;\n",
              "      --fill-color: #D2E3FC;\n",
              "      --hover-bg-color: #434B5C;\n",
              "      --hover-fill-color: #FFFFFF;\n",
              "      --disabled-bg-color: #3B4455;\n",
              "      --disabled-fill-color: #666;\n",
              "  }\n",
              "\n",
              "  .colab-df-quickchart {\n",
              "    background-color: var(--bg-color);\n",
              "    border: none;\n",
              "    border-radius: 50%;\n",
              "    cursor: pointer;\n",
              "    display: none;\n",
              "    fill: var(--fill-color);\n",
              "    height: 32px;\n",
              "    padding: 0;\n",
              "    width: 32px;\n",
              "  }\n",
              "\n",
              "  .colab-df-quickchart:hover {\n",
              "    background-color: var(--hover-bg-color);\n",
              "    box-shadow: 0 1px 2px rgba(60, 64, 67, 0.3), 0 1px 3px 1px rgba(60, 64, 67, 0.15);\n",
              "    fill: var(--button-hover-fill-color);\n",
              "  }\n",
              "\n",
              "  .colab-df-quickchart-complete:disabled,\n",
              "  .colab-df-quickchart-complete:disabled:hover {\n",
              "    background-color: var(--disabled-bg-color);\n",
              "    fill: var(--disabled-fill-color);\n",
              "    box-shadow: none;\n",
              "  }\n",
              "\n",
              "  .colab-df-spinner {\n",
              "    border: 2px solid var(--fill-color);\n",
              "    border-color: transparent;\n",
              "    border-bottom-color: var(--fill-color);\n",
              "    animation:\n",
              "      spin 1s steps(1) infinite;\n",
              "  }\n",
              "\n",
              "  @keyframes spin {\n",
              "    0% {\n",
              "      border-color: transparent;\n",
              "      border-bottom-color: var(--fill-color);\n",
              "      border-left-color: var(--fill-color);\n",
              "    }\n",
              "    20% {\n",
              "      border-color: transparent;\n",
              "      border-left-color: var(--fill-color);\n",
              "      border-top-color: var(--fill-color);\n",
              "    }\n",
              "    30% {\n",
              "      border-color: transparent;\n",
              "      border-left-color: var(--fill-color);\n",
              "      border-top-color: var(--fill-color);\n",
              "      border-right-color: var(--fill-color);\n",
              "    }\n",
              "    40% {\n",
              "      border-color: transparent;\n",
              "      border-right-color: var(--fill-color);\n",
              "      border-top-color: var(--fill-color);\n",
              "    }\n",
              "    60% {\n",
              "      border-color: transparent;\n",
              "      border-right-color: var(--fill-color);\n",
              "    }\n",
              "    80% {\n",
              "      border-color: transparent;\n",
              "      border-right-color: var(--fill-color);\n",
              "      border-bottom-color: var(--fill-color);\n",
              "    }\n",
              "    90% {\n",
              "      border-color: transparent;\n",
              "      border-bottom-color: var(--fill-color);\n",
              "    }\n",
              "  }\n",
              "</style>\n",
              "\n",
              "  <script>\n",
              "    async function quickchart(key) {\n",
              "      const quickchartButtonEl =\n",
              "        document.querySelector('#' + key + ' button');\n",
              "      quickchartButtonEl.disabled = true;  // To prevent multiple clicks.\n",
              "      quickchartButtonEl.classList.add('colab-df-spinner');\n",
              "      try {\n",
              "        const charts = await google.colab.kernel.invokeFunction(\n",
              "            'suggestCharts', [key], {});\n",
              "      } catch (error) {\n",
              "        console.error('Error during call to suggestCharts:', error);\n",
              "      }\n",
              "      quickchartButtonEl.classList.remove('colab-df-spinner');\n",
              "      quickchartButtonEl.classList.add('colab-df-quickchart-complete');\n",
              "    }\n",
              "    (() => {\n",
              "      let quickchartButtonEl =\n",
              "        document.querySelector('#df-ae32fe5e-3a5b-4485-922a-5c4ec7573171 button');\n",
              "      quickchartButtonEl.style.display =\n",
              "        google.colab.kernel.accessAllowed ? 'block' : 'none';\n",
              "    })();\n",
              "  </script>\n",
              "</div>\n",
              "    </div>\n",
              "  </div>\n"
            ]
          },
          "metadata": {},
          "execution_count": 9
        }
      ],
      "source": [
        "show(results.head())"
      ]
    },
    {
      "cell_type": "code",
      "execution_count": 10,
      "id": "accompanied-melbourne",
      "metadata": {
        "id": "accompanied-melbourne",
        "colab": {
          "base_uri": "https://localhost:8080/",
          "height": 237
        },
        "outputId": "08249cfd-70ce-45ff-d84b-a93a70e4f280"
      },
      "outputs": [
        {
          "output_type": "execute_result",
          "data": {
            "text/plain": [
              "       Quantity\n",
              "Time           \n",
              "26.0  74.362934\n",
              "27.0  73.839305\n",
              "28.0  73.320912\n",
              "29.0  72.807702\n",
              "30.0  72.299625"
            ],
            "text/html": [
              "\n",
              "  <div id=\"df-712ecf42-6dbb-4a1c-a5be-4d4f0e191b17\" class=\"colab-df-container\">\n",
              "    <div>\n",
              "<style scoped>\n",
              "    .dataframe tbody tr th:only-of-type {\n",
              "        vertical-align: middle;\n",
              "    }\n",
              "\n",
              "    .dataframe tbody tr th {\n",
              "        vertical-align: top;\n",
              "    }\n",
              "\n",
              "    .dataframe thead th {\n",
              "        text-align: right;\n",
              "    }\n",
              "</style>\n",
              "<table border=\"1\" class=\"dataframe\">\n",
              "  <thead>\n",
              "    <tr style=\"text-align: right;\">\n",
              "      <th></th>\n",
              "      <th>Quantity</th>\n",
              "    </tr>\n",
              "    <tr>\n",
              "      <th>Time</th>\n",
              "      <th></th>\n",
              "    </tr>\n",
              "  </thead>\n",
              "  <tbody>\n",
              "    <tr>\n",
              "      <th>26.0</th>\n",
              "      <td>74.362934</td>\n",
              "    </tr>\n",
              "    <tr>\n",
              "      <th>27.0</th>\n",
              "      <td>73.839305</td>\n",
              "    </tr>\n",
              "    <tr>\n",
              "      <th>28.0</th>\n",
              "      <td>73.320912</td>\n",
              "    </tr>\n",
              "    <tr>\n",
              "      <th>29.0</th>\n",
              "      <td>72.807702</td>\n",
              "    </tr>\n",
              "    <tr>\n",
              "      <th>30.0</th>\n",
              "      <td>72.299625</td>\n",
              "    </tr>\n",
              "  </tbody>\n",
              "</table>\n",
              "</div>\n",
              "    <div class=\"colab-df-buttons\">\n",
              "\n",
              "  <div class=\"colab-df-container\">\n",
              "    <button class=\"colab-df-convert\" onclick=\"convertToInteractive('df-712ecf42-6dbb-4a1c-a5be-4d4f0e191b17')\"\n",
              "            title=\"Convert this dataframe to an interactive table.\"\n",
              "            style=\"display:none;\">\n",
              "\n",
              "  <svg xmlns=\"http://www.w3.org/2000/svg\" height=\"24px\" viewBox=\"0 -960 960 960\">\n",
              "    <path d=\"M120-120v-720h720v720H120Zm60-500h600v-160H180v160Zm220 220h160v-160H400v160Zm0 220h160v-160H400v160ZM180-400h160v-160H180v160Zm440 0h160v-160H620v160ZM180-180h160v-160H180v160Zm440 0h160v-160H620v160Z\"/>\n",
              "  </svg>\n",
              "    </button>\n",
              "\n",
              "  <style>\n",
              "    .colab-df-container {\n",
              "      display:flex;\n",
              "      gap: 12px;\n",
              "    }\n",
              "\n",
              "    .colab-df-convert {\n",
              "      background-color: #E8F0FE;\n",
              "      border: none;\n",
              "      border-radius: 50%;\n",
              "      cursor: pointer;\n",
              "      display: none;\n",
              "      fill: #1967D2;\n",
              "      height: 32px;\n",
              "      padding: 0 0 0 0;\n",
              "      width: 32px;\n",
              "    }\n",
              "\n",
              "    .colab-df-convert:hover {\n",
              "      background-color: #E2EBFA;\n",
              "      box-shadow: 0px 1px 2px rgba(60, 64, 67, 0.3), 0px 1px 3px 1px rgba(60, 64, 67, 0.15);\n",
              "      fill: #174EA6;\n",
              "    }\n",
              "\n",
              "    .colab-df-buttons div {\n",
              "      margin-bottom: 4px;\n",
              "    }\n",
              "\n",
              "    [theme=dark] .colab-df-convert {\n",
              "      background-color: #3B4455;\n",
              "      fill: #D2E3FC;\n",
              "    }\n",
              "\n",
              "    [theme=dark] .colab-df-convert:hover {\n",
              "      background-color: #434B5C;\n",
              "      box-shadow: 0px 1px 3px 1px rgba(0, 0, 0, 0.15);\n",
              "      filter: drop-shadow(0px 1px 2px rgba(0, 0, 0, 0.3));\n",
              "      fill: #FFFFFF;\n",
              "    }\n",
              "  </style>\n",
              "\n",
              "    <script>\n",
              "      const buttonEl =\n",
              "        document.querySelector('#df-712ecf42-6dbb-4a1c-a5be-4d4f0e191b17 button.colab-df-convert');\n",
              "      buttonEl.style.display =\n",
              "        google.colab.kernel.accessAllowed ? 'block' : 'none';\n",
              "\n",
              "      async function convertToInteractive(key) {\n",
              "        const element = document.querySelector('#df-712ecf42-6dbb-4a1c-a5be-4d4f0e191b17');\n",
              "        const dataTable =\n",
              "          await google.colab.kernel.invokeFunction('convertToInteractive',\n",
              "                                                    [key], {});\n",
              "        if (!dataTable) return;\n",
              "\n",
              "        const docLinkHtml = 'Like what you see? Visit the ' +\n",
              "          '<a target=\"_blank\" href=https://colab.research.google.com/notebooks/data_table.ipynb>data table notebook</a>'\n",
              "          + ' to learn more about interactive tables.';\n",
              "        element.innerHTML = '';\n",
              "        dataTable['output_type'] = 'display_data';\n",
              "        await google.colab.output.renderOutput(dataTable, element);\n",
              "        const docLink = document.createElement('div');\n",
              "        docLink.innerHTML = docLinkHtml;\n",
              "        element.appendChild(docLink);\n",
              "      }\n",
              "    </script>\n",
              "  </div>\n",
              "\n",
              "\n",
              "<div id=\"df-d114a728-3de7-4c8d-afbf-fa9b89bb5ccb\">\n",
              "  <button class=\"colab-df-quickchart\" onclick=\"quickchart('df-d114a728-3de7-4c8d-afbf-fa9b89bb5ccb')\"\n",
              "            title=\"Suggest charts\"\n",
              "            style=\"display:none;\">\n",
              "\n",
              "<svg xmlns=\"http://www.w3.org/2000/svg\" height=\"24px\"viewBox=\"0 0 24 24\"\n",
              "     width=\"24px\">\n",
              "    <g>\n",
              "        <path d=\"M19 3H5c-1.1 0-2 .9-2 2v14c0 1.1.9 2 2 2h14c1.1 0 2-.9 2-2V5c0-1.1-.9-2-2-2zM9 17H7v-7h2v7zm4 0h-2V7h2v10zm4 0h-2v-4h2v4z\"/>\n",
              "    </g>\n",
              "</svg>\n",
              "  </button>\n",
              "\n",
              "<style>\n",
              "  .colab-df-quickchart {\n",
              "      --bg-color: #E8F0FE;\n",
              "      --fill-color: #1967D2;\n",
              "      --hover-bg-color: #E2EBFA;\n",
              "      --hover-fill-color: #174EA6;\n",
              "      --disabled-fill-color: #AAA;\n",
              "      --disabled-bg-color: #DDD;\n",
              "  }\n",
              "\n",
              "  [theme=dark] .colab-df-quickchart {\n",
              "      --bg-color: #3B4455;\n",
              "      --fill-color: #D2E3FC;\n",
              "      --hover-bg-color: #434B5C;\n",
              "      --hover-fill-color: #FFFFFF;\n",
              "      --disabled-bg-color: #3B4455;\n",
              "      --disabled-fill-color: #666;\n",
              "  }\n",
              "\n",
              "  .colab-df-quickchart {\n",
              "    background-color: var(--bg-color);\n",
              "    border: none;\n",
              "    border-radius: 50%;\n",
              "    cursor: pointer;\n",
              "    display: none;\n",
              "    fill: var(--fill-color);\n",
              "    height: 32px;\n",
              "    padding: 0;\n",
              "    width: 32px;\n",
              "  }\n",
              "\n",
              "  .colab-df-quickchart:hover {\n",
              "    background-color: var(--hover-bg-color);\n",
              "    box-shadow: 0 1px 2px rgba(60, 64, 67, 0.3), 0 1px 3px 1px rgba(60, 64, 67, 0.15);\n",
              "    fill: var(--button-hover-fill-color);\n",
              "  }\n",
              "\n",
              "  .colab-df-quickchart-complete:disabled,\n",
              "  .colab-df-quickchart-complete:disabled:hover {\n",
              "    background-color: var(--disabled-bg-color);\n",
              "    fill: var(--disabled-fill-color);\n",
              "    box-shadow: none;\n",
              "  }\n",
              "\n",
              "  .colab-df-spinner {\n",
              "    border: 2px solid var(--fill-color);\n",
              "    border-color: transparent;\n",
              "    border-bottom-color: var(--fill-color);\n",
              "    animation:\n",
              "      spin 1s steps(1) infinite;\n",
              "  }\n",
              "\n",
              "  @keyframes spin {\n",
              "    0% {\n",
              "      border-color: transparent;\n",
              "      border-bottom-color: var(--fill-color);\n",
              "      border-left-color: var(--fill-color);\n",
              "    }\n",
              "    20% {\n",
              "      border-color: transparent;\n",
              "      border-left-color: var(--fill-color);\n",
              "      border-top-color: var(--fill-color);\n",
              "    }\n",
              "    30% {\n",
              "      border-color: transparent;\n",
              "      border-left-color: var(--fill-color);\n",
              "      border-top-color: var(--fill-color);\n",
              "      border-right-color: var(--fill-color);\n",
              "    }\n",
              "    40% {\n",
              "      border-color: transparent;\n",
              "      border-right-color: var(--fill-color);\n",
              "      border-top-color: var(--fill-color);\n",
              "    }\n",
              "    60% {\n",
              "      border-color: transparent;\n",
              "      border-right-color: var(--fill-color);\n",
              "    }\n",
              "    80% {\n",
              "      border-color: transparent;\n",
              "      border-right-color: var(--fill-color);\n",
              "      border-bottom-color: var(--fill-color);\n",
              "    }\n",
              "    90% {\n",
              "      border-color: transparent;\n",
              "      border-bottom-color: var(--fill-color);\n",
              "    }\n",
              "  }\n",
              "</style>\n",
              "\n",
              "  <script>\n",
              "    async function quickchart(key) {\n",
              "      const quickchartButtonEl =\n",
              "        document.querySelector('#' + key + ' button');\n",
              "      quickchartButtonEl.disabled = true;  // To prevent multiple clicks.\n",
              "      quickchartButtonEl.classList.add('colab-df-spinner');\n",
              "      try {\n",
              "        const charts = await google.colab.kernel.invokeFunction(\n",
              "            'suggestCharts', [key], {});\n",
              "      } catch (error) {\n",
              "        console.error('Error during call to suggestCharts:', error);\n",
              "      }\n",
              "      quickchartButtonEl.classList.remove('colab-df-spinner');\n",
              "      quickchartButtonEl.classList.add('colab-df-quickchart-complete');\n",
              "    }\n",
              "    (() => {\n",
              "      let quickchartButtonEl =\n",
              "        document.querySelector('#df-d114a728-3de7-4c8d-afbf-fa9b89bb5ccb button');\n",
              "      quickchartButtonEl.style.display =\n",
              "        google.colab.kernel.accessAllowed ? 'block' : 'none';\n",
              "    })();\n",
              "  </script>\n",
              "</div>\n",
              "    </div>\n",
              "  </div>\n"
            ]
          },
          "metadata": {},
          "execution_count": 10
        }
      ],
      "source": [
        "show(results.tail())"
      ]
    },
    {
      "cell_type": "code",
      "execution_count": 11,
      "id": "important-constitution",
      "metadata": {
        "id": "important-constitution",
        "colab": {
          "base_uri": "https://localhost:8080/",
          "height": 309
        },
        "outputId": "72d2c5c1-13d7-4be4-d718-63c146696a3e"
      },
      "outputs": [
        {
          "output_type": "display_data",
          "data": {
            "text/plain": [
              "<Figure size 450x300 with 1 Axes>"
            ],
            "image/png": "[encoded data removed]"
          },
          "metadata": {}
        }
      ],
      "source": [
        "results.plot(label='coffee')\n",
        "\n",
        "decorate(xlabel='Time (min)',\n",
        "         ylabel='Temperature (C)',\n",
        "         title='Coffee Cooling')"
      ]
    },
    {
      "cell_type": "code",
      "execution_count": 12,
      "id": "absolute-desire",
      "metadata": {
        "id": "absolute-desire",
        "colab": {
          "base_uri": "https://localhost:8080/"
        },
        "outputId": "8f4effc1-826e-4837-e085-ad60b71e8c09"
      },
      "outputs": [
        {
          "output_type": "execute_result",
          "data": {
            "text/plain": [
              "72.2996253904031"
            ]
          },
          "metadata": {},
          "execution_count": 12
        }
      ],
      "source": [
        "coffee.T_final"
      ]
    },
    {
      "cell_type": "code",
      "execution_count": 13,
      "id": "small-shark",
      "metadata": {
        "id": "small-shark"
      },
      "outputs": [],
      "source": [
        "def func(x):\n",
        "    return (x-1) * (x-2) * (x-3)"
      ]
    },
    {
      "cell_type": "code",
      "execution_count": 14,
      "id": "defensive-content",
      "metadata": {
        "id": "defensive-content",
        "colab": {
          "base_uri": "https://localhost:8080/"
        },
        "outputId": "8c94a144-153d-4184-e1cc-8e4db339d575"
      },
      "outputs": [
        {
          "output_type": "execute_result",
          "data": {
            "text/plain": [
              "      converged: True\n",
              "           flag: converged\n",
              " function_calls: 3\n",
              "     iterations: 2\n",
              "           root: 2.0"
            ]
          },
          "metadata": {},
          "execution_count": 14
        }
      ],
      "source": [
        "res = root_scalar(func, bracket=[1.5, 2.5])\n",
        "res"
      ]
    },
    {
      "cell_type": "code",
      "execution_count": 15,
      "id": "behind-perth",
      "metadata": {
        "id": "behind-perth",
        "colab": {
          "base_uri": "https://localhost:8080/"
        },
        "outputId": "33beb57d-fbbc-41db-b588-4ba81ec54a36"
      },
      "outputs": [
        {
          "output_type": "execute_result",
          "data": {
            "text/plain": [
              "2.0"
            ]
          },
          "metadata": {},
          "execution_count": 15
        }
      ],
      "source": [
        "res.root"
      ]
    },
    {
      "cell_type": "code",
      "execution_count": 16,
      "id": "following-sentence",
      "metadata": {
        "id": "following-sentence",
        "colab": {
          "base_uri": "https://localhost:8080/"
        },
        "outputId": "c785abfb-7cce-4722-9b78-8f1778bf8098"
      },
      "outputs": [
        {
          "output_type": "execute_result",
          "data": {
            "text/plain": [
              "2.9999771663211003"
            ]
          },
          "metadata": {},
          "execution_count": 16
        }
      ],
      "source": [
        "res = root_scalar(func, bracket=[2.5, 3.5])\n",
        "res.root"
      ]
    },
    {
      "cell_type": "code",
      "execution_count": 17,
      "id": "genetic-compound",
      "metadata": {
        "id": "genetic-compound"
      },
      "outputs": [],
      "source": [
        "def error_func(r, system):\n",
        "    system.r = r\n",
        "    results = run_simulation(system, change_func)\n",
        "    return system.T_final - 70"
      ]
    },
    {
      "cell_type": "code",
      "execution_count": 18,
      "id": "french-financing",
      "metadata": {
        "id": "french-financing",
        "colab": {
          "base_uri": "https://localhost:8080/"
        },
        "outputId": "869ce002-833a-4750-8ee9-73b412c7aa21"
      },
      "outputs": [
        {
          "output_type": "execute_result",
          "data": {
            "text/plain": [
              "2.2996253904030937"
            ]
          },
          "metadata": {},
          "execution_count": 18
        }
      ],
      "source": [
        "coffee = make_system(T_init=90, volume=300, r=0.01, t_end=30)\n",
        "error_func(0.01, coffee)"
      ]
    },
    {
      "cell_type": "code",
      "execution_count": 19,
      "id": "excellent-fellow",
      "metadata": {
        "id": "excellent-fellow",
        "colab": {
          "base_uri": "https://localhost:8080/"
        },
        "outputId": "91ef38b6-f1ad-4164-9da9-412c3f317684"
      },
      "outputs": [
        {
          "output_type": "execute_result",
          "data": {
            "text/plain": [
              "-10.907066281994297"
            ]
          },
          "metadata": {},
          "execution_count": 19
        }
      ],
      "source": [
        "error_func(0.02, coffee)"
      ]
    },
    {
      "cell_type": "code",
      "execution_count": 20,
      "id": "french-decline",
      "metadata": {
        "id": "french-decline",
        "colab": {
          "base_uri": "https://localhost:8080/"
        },
        "outputId": "556c7ebe-6c1b-4d69-d192-f813aa793b93"
      },
      "outputs": [
        {
          "output_type": "execute_result",
          "data": {
            "text/plain": [
              "      converged: True\n",
              "           flag: converged\n",
              " function_calls: 6\n",
              "     iterations: 5\n",
              "           root: 0.011543084190599507"
            ]
          },
          "metadata": {},
          "execution_count": 20
        }
      ],
      "source": [
        "res = root_scalar(error_func, coffee, bracket=[0.01, 0.02])\n",
        "res"
      ]
    },
    {
      "cell_type": "code",
      "execution_count": 21,
      "id": "afraid-ordering",
      "metadata": {
        "id": "afraid-ordering",
        "colab": {
          "base_uri": "https://localhost:8080/"
        },
        "outputId": "0c617c0d-5eb5-458e-a54c-40a319c313c1"
      },
      "outputs": [
        {
          "output_type": "execute_result",
          "data": {
            "text/plain": [
              "0.011543084190599507"
            ]
          },
          "metadata": {},
          "execution_count": 21
        }
      ],
      "source": [
        "r_coffee = res.root\n",
        "r_coffee"
      ]
    },
    {
      "cell_type": "code",
      "execution_count": 22,
      "id": "derived-annual",
      "metadata": {
        "id": "derived-annual",
        "colab": {
          "base_uri": "https://localhost:8080/"
        },
        "outputId": "cfc9c7f2-4455-41f3-99f1-d77f1b14c82b"
      },
      "outputs": [
        {
          "output_type": "execute_result",
          "data": {
            "text/plain": [
              "70.00000057308064"
            ]
          },
          "metadata": {},
          "execution_count": 22
        }
      ],
      "source": [
        "coffee.r = res.root\n",
        "run_simulation(coffee, change_func)\n",
        "coffee.T_final"
      ]
    },
    {
      "cell_type": "markdown",
      "id": "scientific-attachment",
      "metadata": {
        "id": "scientific-attachment"
      },
      "source": [
        "### Exercise 1\n"
      ]
    },
    {
      "cell_type": "code",
      "execution_count": 23,
      "id": "committed-angel",
      "metadata": {
        "id": "committed-angel",
        "colab": {
          "base_uri": "https://localhost:8080/"
        },
        "outputId": "a164da73-029a-4956-da9f-3890bc718ac1"
      },
      "outputs": [
        {
          "output_type": "execute_result",
          "data": {
            "text/plain": [
              "18.499850754390966"
            ]
          },
          "metadata": {},
          "execution_count": 23
        }
      ],
      "source": [
        "milk = make_system(T_init=5, t_end=15, r=0.1, volume=50)\n",
        "results_milk = run_simulation(milk, change_func)\n",
        "milk.T_final"
      ]
    },
    {
      "cell_type": "code",
      "execution_count": 24,
      "id": "military-military",
      "metadata": {
        "id": "military-military",
        "colab": {
          "base_uri": "https://localhost:8080/",
          "height": 309
        },
        "outputId": "881782ff-ed4d-499d-c680-300471b46eaf"
      },
      "outputs": [
        {
          "output_type": "display_data",
          "data": {
            "text/plain": [
              "<Figure size 450x300 with 1 Axes>"
            ],
            "image/png": "[encoded data removed]"
          },
          "metadata": {}
        }
      ],
      "source": [
        "results_milk.plot(color='C1', label='milk')\n",
        "\n",
        "decorate(xlabel='Time (min)',\n",
        "         ylabel='Temperature (C)')\n"
      ]
    },
    {
      "cell_type": "markdown",
      "id": "logical-acoustic",
      "metadata": {
        "id": "logical-acoustic"
      },
      "source": [
        "### Exercise 2\n",
        "\n"
      ]
    },
    {
      "cell_type": "code",
      "execution_count": 25,
      "id": "agreed-excuse",
      "metadata": {
        "id": "agreed-excuse"
      },
      "outputs": [],
      "source": [
        "def error_func2(r, system):\n",
        "    system.r = r\n",
        "    results = run_simulation(system, change_func)\n",
        "    return system.T_final - 20"
      ]
    },
    {
      "cell_type": "code",
      "execution_count": 26,
      "id": "defined-nudist",
      "metadata": {
        "id": "defined-nudist",
        "colab": {
          "base_uri": "https://localhost:8080/"
        },
        "outputId": "fe454645-b650-4eab-9da2-d948b0a169b9"
      },
      "outputs": [
        {
          "output_type": "execute_result",
          "data": {
            "text/plain": [
              "      converged: True\n",
              "           flag: converged\n",
              " function_calls: 6\n",
              "     iterations: 5\n",
              "           root: 0.011543084190599507"
            ]
          },
          "metadata": {},
          "execution_count": 26
        }
      ],
      "source": [
        "root_scalar(error_func2, milk, bracket=[0.1, 0.2])\n",
        "res"
      ]
    },
    {
      "cell_type": "code",
      "execution_count": 27,
      "id": "loose-rehabilitation",
      "metadata": {
        "id": "loose-rehabilitation",
        "colab": {
          "base_uri": "https://localhost:8080/"
        },
        "outputId": "1e39b921-d4c5-4fe7-f526-b7c4be502a3e"
      },
      "outputs": [
        {
          "output_type": "execute_result",
          "data": {
            "text/plain": [
              "20.000229743777304"
            ]
          },
          "metadata": {},
          "execution_count": 27
        }
      ],
      "source": [
        "run_simulation(milk, change_func)\n",
        "milk.T_final"
      ]
    },
    {
      "cell_type": "code",
      "execution_count": 27,
      "id": "alert-emerald",
      "metadata": {
        "id": "alert-emerald"
      },
      "outputs": [],
      "source": []
    }
  ],
  "metadata": {
    "celltoolbar": "Tags",
    "kernelspec": {
      "display_name": "Python 3 (ipykernel)",
      "language": "python",
      "name": "python3"
    },
    "language_info": {
      "codemirror_mode": {
        "name": "ipython",
        "version": 3
      },
      "file_extension": ".py",
      "mimetype": "text/x-python",
      "name": "python",
      "nbconvert_exporter": "python",
      "pygments_lexer": "ipython3",
      "version": "3.10.6"
    },
    "colab": {
      "provenance": []
    }
  },
  "nbformat": 4,
  "nbformat_minor": 5
}