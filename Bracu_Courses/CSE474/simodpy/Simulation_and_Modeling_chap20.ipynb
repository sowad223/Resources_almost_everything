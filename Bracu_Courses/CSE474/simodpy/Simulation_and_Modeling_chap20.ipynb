{
  "cells": [
    {
      "cell_type": "code",
      "execution_count": 1,
      "id": "electoral-turkey",
      "metadata": {
        "tags": [],
        "id": "electoral-turkey",
        "colab": {
          "base_uri": "https://localhost:8080/"
        },
        "outputId": "3ba04d08-86ad-427e-c5e0-47380222c69d"
      },
      "outputs": [
        {
          "output_type": "stream",
          "name": "stdout",
          "text": [
            "Collecting pint\n",
            "  Downloading Pint-0.22-py3-none-any.whl (294 kB)\n",
            "\u001b[?25l     \u001b[90m━━━━━━━━━━━━━━━━━━━━━━━━━━━━━━━━━━━━━━━━\u001b[0m \u001b[32m0.0/294.0 kB\u001b[0m \u001b[31m?\u001b[0m eta \u001b[36m-:--:--\u001b[0m\r\u001b[2K     \u001b[91m━━━━━━━━━━━━━━━━━━━━━━━━━━━━━━\u001b[0m\u001b[91m╸\u001b[0m\u001b[90m━━━━━━━━━\u001b[0m \u001b[32m225.3/294.0 kB\u001b[0m \u001b[31m6.5 MB/s\u001b[0m eta \u001b[36m0:00:01\u001b[0m\r\u001b[2K     \u001b[90m━━━━━━━━━━━━━━━━━━━━━━━━━━━━━━━━━━━━━━━━\u001b[0m \u001b[32m294.0/294.0 kB\u001b[0m \u001b[31m6.2 MB/s\u001b[0m eta \u001b[36m0:00:00\u001b[0m\n",
            "\u001b[?25hRequirement already satisfied: typing-extensions in /usr/local/lib/python3.10/dist-packages (from pint) (4.5.0)\n",
            "Installing collected packages: pint\n",
            "Successfully installed pint-0.22\n"
          ]
        }
      ],
      "source": [
        "\n",
        "try:\n",
        "    from pint import UnitRegistry\n",
        "except ImportError:\n",
        "    !pip install pint\n",
        "\n",
        "# import units\n",
        "from pint import UnitRegistry\n",
        "units = UnitRegistry()"
      ]
    },
    {
      "cell_type": "code",
      "execution_count": 2,
      "id": "formal-context",
      "metadata": {
        "tags": [],
        "id": "formal-context",
        "colab": {
          "base_uri": "https://localhost:8080/"
        },
        "outputId": "db49d34b-8d7e-44ae-8e1e-aa579f1e9152"
      },
      "outputs": [
        {
          "output_type": "stream",
          "name": "stdout",
          "text": [
            "Downloaded modsim.py\n"
          ]
        }
      ],
      "source": [
        "\n",
        "from os.path import basename, exists\n",
        "\n",
        "def download(url):\n",
        "    filename = basename(url)\n",
        "    if not exists(filename):\n",
        "        from urllib.request import urlretrieve\n",
        "        local, _ = urlretrieve(url, filename)\n",
        "        print('Downloaded ' + local)\n",
        "\n",
        "download('https://raw.githubusercontent.com/AllenDowney/' +\n",
        "         'ModSimPy/master/modsim.py')"
      ]
    },
    {
      "cell_type": "code",
      "execution_count": 3,
      "id": "progressive-typing",
      "metadata": {
        "tags": [],
        "id": "progressive-typing"
      },
      "outputs": [],
      "source": [
        "\n",
        "from modsim import *"
      ]
    },
    {
      "cell_type": "code",
      "execution_count": 4,
      "id": "compatible-increase",
      "metadata": {
        "id": "compatible-increase"
      },
      "outputs": [],
      "source": [
        "init = State(y=381, v=0)"
      ]
    },
    {
      "cell_type": "code",
      "execution_count": 5,
      "id": "reverse-authorization",
      "metadata": {
        "id": "reverse-authorization"
      },
      "outputs": [],
      "source": [
        "system = System(init=init,\n",
        "                g=9.8,\n",
        "                t_end=10)"
      ]
    },
    {
      "cell_type": "code",
      "execution_count": 6,
      "id": "occupied-mercury",
      "metadata": {
        "id": "occupied-mercury"
      },
      "outputs": [],
      "source": [
        "def slope_func(t, state, system):\n",
        "    y, v = state\n",
        "\n",
        "    dydt = v\n",
        "    dvdt = -system.g\n",
        "\n",
        "    return dydt, dvdt"
      ]
    },
    {
      "cell_type": "code",
      "execution_count": 7,
      "id": "positive-feeling",
      "metadata": {
        "id": "positive-feeling",
        "colab": {
          "base_uri": "https://localhost:8080/"
        },
        "outputId": "b5d658b4-0d1f-4e98-fdab-6dcb539524be"
      },
      "outputs": [
        {
          "output_type": "execute_result",
          "data": {
            "text/plain": [
              "(0, -9.8)"
            ]
          },
          "metadata": {},
          "execution_count": 7
        }
      ],
      "source": [
        "dydt, dvdt = slope_func(0, system.init, system)\n",
        "dydt, dvdt"
      ]
    },
    {
      "cell_type": "code",
      "execution_count": 8,
      "id": "lovely-management",
      "metadata": {
        "id": "lovely-management",
        "colab": {
          "base_uri": "https://localhost:8080/",
          "height": 35
        },
        "outputId": "42c1abb5-9ff2-4083-e7d7-a7178ad313a1"
      },
      "outputs": [
        {
          "output_type": "execute_result",
          "data": {
            "text/plain": [
              "'The solver successfully reached the end of the integration interval.'"
            ],
            "application/vnd.google.colaboratory.intrinsic+json": {
              "type": "string"
            }
          },
          "metadata": {},
          "execution_count": 8
        }
      ],
      "source": [
        "results, details = run_solve_ivp(system, slope_func)\n",
        "details.message"
      ]
    },
    {
      "cell_type": "code",
      "execution_count": 9,
      "id": "assisted-swimming",
      "metadata": {
        "id": "assisted-swimming",
        "colab": {
          "base_uri": "https://localhost:8080/",
          "height": 206
        },
        "outputId": "6ba51fc1-7dfb-4c7f-91ff-ea7a4e10b822"
      },
      "outputs": [
        {
          "output_type": "execute_result",
          "data": {
            "text/plain": [
              "           y     v\n",
              "0.0  381.000  0.00\n",
              "0.1  380.951 -0.98\n",
              "0.2  380.804 -1.96\n",
              "0.3  380.559 -2.94\n",
              "0.4  380.216 -3.92"
            ],
            "text/html": [
              "\n",
              "  <div id=\"df-c34d3246-7527-4e65-9436-29ce8832d623\" class=\"colab-df-container\">\n",
              "    <div>\n",
              "<style scoped>\n",
              "    .dataframe tbody tr th:only-of-type {\n",
              "        vertical-align: middle;\n",
              "    }\n",
              "\n",
              "    .dataframe tbody tr th {\n",
              "        vertical-align: top;\n",
              "    }\n",
              "\n",
              "    .dataframe thead th {\n",
              "        text-align: right;\n",
              "    }\n",
              "</style>\n",
              "<table border=\"1\" class=\"dataframe\">\n",
              "  <thead>\n",
              "    <tr style=\"text-align: right;\">\n",
              "      <th></th>\n",
              "      <th>y</th>\n",
              "      <th>v</th>\n",
              "    </tr>\n",
              "  </thead>\n",
              "  <tbody>\n",
              "    <tr>\n",
              "      <th>0.0</th>\n",
              "      <td>381.000</td>\n",
              "      <td>0.00</td>\n",
              "    </tr>\n",
              "    <tr>\n",
              "      <th>0.1</th>\n",
              "      <td>380.951</td>\n",
              "      <td>-0.98</td>\n",
              "    </tr>\n",
              "    <tr>\n",
              "      <th>0.2</th>\n",
              "      <td>380.804</td>\n",
              "      <td>-1.96</td>\n",
              "    </tr>\n",
              "    <tr>\n",
              "      <th>0.3</th>\n",
              "      <td>380.559</td>\n",
              "      <td>-2.94</td>\n",
              "    </tr>\n",
              "    <tr>\n",
              "      <th>0.4</th>\n",
              "      <td>380.216</td>\n",
              "      <td>-3.92</td>\n",
              "    </tr>\n",
              "  </tbody>\n",
              "</table>\n",
              "</div>\n",
              "    <div class=\"colab-df-buttons\">\n",
              "\n",
              "  <div class=\"colab-df-container\">\n",
              "    <button class=\"colab-df-convert\" onclick=\"convertToInteractive('df-c34d3246-7527-4e65-9436-29ce8832d623')\"\n",
              "            title=\"Convert this dataframe to an interactive table.\"\n",
              "            style=\"display:none;\">\n",
              "\n",
              "  <svg xmlns=\"http://www.w3.org/2000/svg\" height=\"24px\" viewBox=\"0 -960 960 960\">\n",
              "    <path d=\"M120-120v-720h720v720H120Zm60-500h600v-160H180v160Zm220 220h160v-160H400v160Zm0 220h160v-160H400v160ZM180-400h160v-160H180v160Zm440 0h160v-160H620v160ZM180-180h160v-160H180v160Zm440 0h160v-160H620v160Z\"/>\n",
              "  </svg>\n",
              "    </button>\n",
              "\n",
              "  <style>\n",
              "    .colab-df-container {\n",
              "      display:flex;\n",
              "      gap: 12px;\n",
              "    }\n",
              "\n",
              "    .colab-df-convert {\n",
              "      background-color: #E8F0FE;\n",
              "      border: none;\n",
              "      border-radius: 50%;\n",
              "      cursor: pointer;\n",
              "      display: none;\n",
              "      fill: #1967D2;\n",
              "      height: 32px;\n",
              "      padding: 0 0 0 0;\n",
              "      width: 32px;\n",
              "    }\n",
              "\n",
              "    .colab-df-convert:hover {\n",
              "      background-color: #E2EBFA;\n",
              "      box-shadow: 0px 1px 2px rgba(60, 64, 67, 0.3), 0px 1px 3px 1px rgba(60, 64, 67, 0.15);\n",
              "      fill: #174EA6;\n",
              "    }\n",
              "\n",
              "    .colab-df-buttons div {\n",
              "      margin-bottom: 4px;\n",
              "    }\n",
              "\n",
              "    [theme=dark] .colab-df-convert {\n",
              "      background-color: #3B4455;\n",
              "      fill: #D2E3FC;\n",
              "    }\n",
              "\n",
              "    [theme=dark] .colab-df-convert:hover {\n",
              "      background-color: #434B5C;\n",
              "      box-shadow: 0px 1px 3px 1px rgba(0, 0, 0, 0.15);\n",
              "      filter: drop-shadow(0px 1px 2px rgba(0, 0, 0, 0.3));\n",
              "      fill: #FFFFFF;\n",
              "    }\n",
              "  </style>\n",
              "\n",
              "    <script>\n",
              "      const buttonEl =\n",
              "        document.querySelector('#df-c34d3246-7527-4e65-9436-29ce8832d623 button.colab-df-convert');\n",
              "      buttonEl.style.display =\n",
              "        google.colab.kernel.accessAllowed ? 'block' : 'none';\n",
              "\n",
              "      async function convertToInteractive(key) {\n",
              "        const element = document.querySelector('#df-c34d3246-7527-4e65-9436-29ce8832d623');\n",
              "        const dataTable =\n",
              "          await google.colab.kernel.invokeFunction('convertToInteractive',\n",
              "                                                    [key], {});\n",
              "        if (!dataTable) return;\n",
              "\n",
              "        const docLinkHtml = 'Like what you see? Visit the ' +\n",
              "          '<a target=\"_blank\" href=https://colab.research.google.com/notebooks/data_table.ipynb>data table notebook</a>'\n",
              "          + ' to learn more about interactive tables.';\n",
              "        element.innerHTML = '';\n",
              "        dataTable['output_type'] = 'display_data';\n",
              "        await google.colab.output.renderOutput(dataTable, element);\n",
              "        const docLink = document.createElement('div');\n",
              "        docLink.innerHTML = docLinkHtml;\n",
              "        element.appendChild(docLink);\n",
              "      }\n",
              "    </script>\n",
              "  </div>\n",
              "\n",
              "\n",
              "<div id=\"df-4ea0453a-5cc5-439e-b9a4-e4b7e4af136d\">\n",
              "  <button class=\"colab-df-quickchart\" onclick=\"quickchart('df-4ea0453a-5cc5-439e-b9a4-e4b7e4af136d')\"\n",
              "            title=\"Suggest charts\"\n",
              "            style=\"display:none;\">\n",
              "\n",
              "<svg xmlns=\"http://www.w3.org/2000/svg\" height=\"24px\"viewBox=\"0 0 24 24\"\n",
              "     width=\"24px\">\n",
              "    <g>\n",
              "        <path d=\"M19 3H5c-1.1 0-2 .9-2 2v14c0 1.1.9 2 2 2h14c1.1 0 2-.9 2-2V5c0-1.1-.9-2-2-2zM9 17H7v-7h2v7zm4 0h-2V7h2v10zm4 0h-2v-4h2v4z\"/>\n",
              "    </g>\n",
              "</svg>\n",
              "  </button>\n",
              "\n",
              "<style>\n",
              "  .colab-df-quickchart {\n",
              "      --bg-color: #E8F0FE;\n",
              "      --fill-color: #1967D2;\n",
              "      --hover-bg-color: #E2EBFA;\n",
              "      --hover-fill-color: #174EA6;\n",
              "      --disabled-fill-color: #AAA;\n",
              "      --disabled-bg-color: #DDD;\n",
              "  }\n",
              "\n",
              "  [theme=dark] .colab-df-quickchart {\n",
              "      --bg-color: #3B4455;\n",
              "      --fill-color: #D2E3FC;\n",
              "      --hover-bg-color: #434B5C;\n",
              "      --hover-fill-color: #FFFFFF;\n",
              "      --disabled-bg-color: #3B4455;\n",
              "      --disabled-fill-color: #666;\n",
              "  }\n",
              "\n",
              "  .colab-df-quickchart {\n",
              "    background-color: var(--bg-color);\n",
              "    border: none;\n",
              "    border-radius: 50%;\n",
              "    cursor: pointer;\n",
              "    display: none;\n",
              "    fill: var(--fill-color);\n",
              "    height: 32px;\n",
              "    padding: 0;\n",
              "    width: 32px;\n",
              "  }\n",
              "\n",
              "  .colab-df-quickchart:hover {\n",
              "    background-color: var(--hover-bg-color);\n",
              "    box-shadow: 0 1px 2px rgba(60, 64, 67, 0.3), 0 1px 3px 1px rgba(60, 64, 67, 0.15);\n",
              "    fill: var(--button-hover-fill-color);\n",
              "  }\n",
              "\n",
              "  .colab-df-quickchart-complete:disabled,\n",
              "  .colab-df-quickchart-complete:disabled:hover {\n",
              "    background-color: var(--disabled-bg-color);\n",
              "    fill: var(--disabled-fill-color);\n",
              "    box-shadow: none;\n",
              "  }\n",
              "\n",
              "  .colab-df-spinner {\n",
              "    border: 2px solid var(--fill-color);\n",
              "    border-color: transparent;\n",
              "    border-bottom-color: var(--fill-color);\n",
              "    animation:\n",
              "      spin 1s steps(1) infinite;\n",
              "  }\n",
              "\n",
              "  @keyframes spin {\n",
              "    0% {\n",
              "      border-color: transparent;\n",
              "      border-bottom-color: var(--fill-color);\n",
              "      border-left-color: var(--fill-color);\n",
              "    }\n",
              "    20% {\n",
              "      border-color: transparent;\n",
              "      border-left-color: var(--fill-color);\n",
              "      border-top-color: var(--fill-color);\n",
              "    }\n",
              "    30% {\n",
              "      border-color: transparent;\n",
              "      border-left-color: var(--fill-color);\n",
              "      border-top-color: var(--fill-color);\n",
              "      border-right-color: var(--fill-color);\n",
              "    }\n",
              "    40% {\n",
              "      border-color: transparent;\n",
              "      border-right-color: var(--fill-color);\n",
              "      border-top-color: var(--fill-color);\n",
              "    }\n",
              "    60% {\n",
              "      border-color: transparent;\n",
              "      border-right-color: var(--fill-color);\n",
              "    }\n",
              "    80% {\n",
              "      border-color: transparent;\n",
              "      border-right-color: var(--fill-color);\n",
              "      border-bottom-color: var(--fill-color);\n",
              "    }\n",
              "    90% {\n",
              "      border-color: transparent;\n",
              "      border-bottom-color: var(--fill-color);\n",
              "    }\n",
              "  }\n",
              "</style>\n",
              "\n",
              "  <script>\n",
              "    async function quickchart(key) {\n",
              "      const quickchartButtonEl =\n",
              "        document.querySelector('#' + key + ' button');\n",
              "      quickchartButtonEl.disabled = true;  // To prevent multiple clicks.\n",
              "      quickchartButtonEl.classList.add('colab-df-spinner');\n",
              "      try {\n",
              "        const charts = await google.colab.kernel.invokeFunction(\n",
              "            'suggestCharts', [key], {});\n",
              "      } catch (error) {\n",
              "        console.error('Error during call to suggestCharts:', error);\n",
              "      }\n",
              "      quickchartButtonEl.classList.remove('colab-df-spinner');\n",
              "      quickchartButtonEl.classList.add('colab-df-quickchart-complete');\n",
              "    }\n",
              "    (() => {\n",
              "      let quickchartButtonEl =\n",
              "        document.querySelector('#df-4ea0453a-5cc5-439e-b9a4-e4b7e4af136d button');\n",
              "      quickchartButtonEl.style.display =\n",
              "        google.colab.kernel.accessAllowed ? 'block' : 'none';\n",
              "    })();\n",
              "  </script>\n",
              "</div>\n",
              "    </div>\n",
              "  </div>\n"
            ]
          },
          "metadata": {},
          "execution_count": 9
        }
      ],
      "source": [
        "results.head()"
      ]
    },
    {
      "cell_type": "code",
      "execution_count": 10,
      "id": "authorized-barrier",
      "metadata": {
        "id": "authorized-barrier",
        "colab": {
          "base_uri": "https://localhost:8080/",
          "height": 309
        },
        "outputId": "4a34474b-2ba1-49ff-d30b-1ec0ddae5f74"
      },
      "outputs": [
        {
          "output_type": "display_data",
          "data": {
            "text/plain": [
              "<Figure size 450x300 with 1 Axes>"
            ],
            "image/png": "[encoded data removed]"
          },
          "metadata": {}
        }
      ],
      "source": [
        "results.y.plot()\n",
        "\n",
        "decorate(xlabel='Time (s)',\n",
        "         ylabel='Position (m)')"
      ]
    },
    {
      "cell_type": "code",
      "execution_count": 11,
      "id": "protected-fiber",
      "metadata": {
        "id": "protected-fiber",
        "colab": {
          "base_uri": "https://localhost:8080/"
        },
        "outputId": "e521f4eb-99b1-4a89-8126-09199f8717ed"
      },
      "outputs": [
        {
          "output_type": "execute_result",
          "data": {
            "text/plain": [
              "-108.99999999999983"
            ]
          },
          "metadata": {},
          "execution_count": 11
        }
      ],
      "source": [
        "results.iloc[-1].y"
      ]
    },
    {
      "cell_type": "code",
      "execution_count": 12,
      "id": "japanese-clear",
      "metadata": {
        "id": "japanese-clear",
        "colab": {
          "base_uri": "https://localhost:8080/"
        },
        "outputId": "a9a8f887-533c-4956-c0ab-f2acca011d2f"
      },
      "outputs": [
        {
          "output_type": "execute_result",
          "data": {
            "text/plain": [
              "array([8.81788535])"
            ]
          },
          "metadata": {},
          "execution_count": 12
        }
      ],
      "source": [
        "t_crossings = crossings(results.y, 0)\n",
        "t_crossings"
      ]
    },
    {
      "cell_type": "code",
      "execution_count": 13,
      "id": "comfortable-simple",
      "metadata": {
        "id": "comfortable-simple"
      },
      "outputs": [],
      "source": [
        "def event_func(t, state, system):\n",
        "    y, v = state\n",
        "    return y"
      ]
    },
    {
      "cell_type": "code",
      "execution_count": 14,
      "id": "exotic-shareware",
      "metadata": {
        "id": "exotic-shareware",
        "colab": {
          "base_uri": "https://localhost:8080/",
          "height": 35
        },
        "outputId": "e1006b90-29aa-4612-bb45-03afb0e468e1"
      },
      "outputs": [
        {
          "output_type": "execute_result",
          "data": {
            "text/plain": [
              "'A termination event occurred.'"
            ],
            "application/vnd.google.colaboratory.intrinsic+json": {
              "type": "string"
            }
          },
          "metadata": {},
          "execution_count": 14
        }
      ],
      "source": [
        "results, details = run_solve_ivp(system, slope_func,\n",
        "                                 events=event_func)\n",
        "details.message"
      ]
    },
    {
      "cell_type": "code",
      "execution_count": 15,
      "id": "appropriate-roberts",
      "metadata": {
        "id": "appropriate-roberts",
        "colab": {
          "base_uri": "https://localhost:8080/"
        },
        "outputId": "5b3fdf5b-d21c-4fd5-9f06-a3a71999ca99"
      },
      "outputs": [
        {
          "output_type": "execute_result",
          "data": {
            "text/plain": [
              "8.817885349720553"
            ]
          },
          "metadata": {},
          "execution_count": 15
        }
      ],
      "source": [
        "t_end = results.index[-1]\n",
        "t_end"
      ]
    },
    {
      "cell_type": "code",
      "execution_count": 16,
      "id": "orange-retro",
      "metadata": {
        "id": "orange-retro",
        "colab": {
          "base_uri": "https://localhost:8080/"
        },
        "outputId": "377adb57-3684-4531-8fa1-3bbad7804170"
      },
      "outputs": [
        {
          "output_type": "execute_result",
          "data": {
            "text/plain": [
              "(0.0, -86.41527642726145)"
            ]
          },
          "metadata": {},
          "execution_count": 16
        }
      ],
      "source": [
        "y, v = results.iloc[-1]\n",
        "y, v"
      ]
    },
    {
      "cell_type": "markdown",
      "id": "straight-johns",
      "metadata": {
        "id": "straight-johns"
      },
      "source": [
        "### Exercise 1\n",
        "\n"
      ]
    },
    {
      "cell_type": "code",
      "execution_count": 17,
      "id": "forbidden-distributor",
      "metadata": {
        "id": "forbidden-distributor"
      },
      "outputs": [],
      "source": [
        "r_0 = 150e9\n",
        "v_0 = 0\n",
        "init = State(r=r_0,\n",
        "             v=v_0)"
      ]
    },
    {
      "cell_type": "code",
      "execution_count": 18,
      "id": "former-taxation",
      "metadata": {
        "id": "former-taxation",
        "colab": {
          "base_uri": "https://localhost:8080/"
        },
        "outputId": "1152367f-c748-4c41-dd92-1a5803175f29"
      },
      "outputs": [
        {
          "output_type": "execute_result",
          "data": {
            "text/plain": [
              "702370000.0"
            ]
          },
          "metadata": {},
          "execution_count": 18
        }
      ],
      "source": [
        "radius_earth = 6.37e6  # meters\n",
        "radius_sun = 696e6     # meters\n",
        "r_final = radius_sun + radius_earth\n",
        "r_final"
      ]
    },
    {
      "cell_type": "code",
      "execution_count": 19,
      "id": "oriental-riverside",
      "metadata": {
        "id": "oriental-riverside"
      },
      "outputs": [],
      "source": [
        "t_end = 1e7\n",
        "\n",
        "system = System(init=init,\n",
        "                G=6.674e-11,\n",
        "                m1=1.989e30,\n",
        "                m2=5.972e24,\n",
        "                r_final=radius_sun + radius_earth,\n",
        "                t_end=t_end)"
      ]
    },
    {
      "cell_type": "code",
      "execution_count": 20,
      "id": "radio-reproduction",
      "metadata": {
        "id": "radio-reproduction"
      },
      "outputs": [],
      "source": [
        "def universal_gravitation(state, system):\n",
        "\n",
        "    r, v = state\n",
        "    G, m1, m2 = system.G, system.m1, system.m2\n",
        "\n",
        "    force = G * m1 * m2 / r**2\n",
        "    return force"
      ]
    },
    {
      "cell_type": "code",
      "execution_count": 21,
      "id": "heavy-cologne",
      "metadata": {
        "id": "heavy-cologne",
        "colab": {
          "base_uri": "https://localhost:8080/"
        },
        "outputId": "234f57e6-5d9b-4887-9e4b-735743323501"
      },
      "outputs": [
        {
          "output_type": "execute_result",
          "data": {
            "text/plain": [
              "3.5233701151999997e+22"
            ]
          },
          "metadata": {},
          "execution_count": 21
        }
      ],
      "source": [
        "universal_gravitation(init, system)\n"
      ]
    },
    {
      "cell_type": "code",
      "execution_count": 22,
      "id": "little-electric",
      "metadata": {
        "id": "little-electric"
      },
      "outputs": [],
      "source": [
        "def slope_func(t, state, system):\n",
        "    y, v = state\n",
        "    m2 = system.m2\n",
        "\n",
        "    force = universal_gravitation(state, system)\n",
        "    dydt = v\n",
        "    dvdt = -force / m2\n",
        "\n",
        "    return dydt, dvdt"
      ]
    },
    {
      "cell_type": "code",
      "execution_count": 23,
      "id": "continental-details",
      "metadata": {
        "id": "continental-details",
        "colab": {
          "base_uri": "https://localhost:8080/"
        },
        "outputId": "0cfeb630-0a33-4ef5-d94c-7ea665d1d7ab"
      },
      "outputs": [
        {
          "output_type": "execute_result",
          "data": {
            "text/plain": [
              "(0.0, -0.005899815999999999)"
            ]
          },
          "metadata": {},
          "execution_count": 23
        }
      ],
      "source": [
        "slope_func(0, system.init, system)\n"
      ]
    },
    {
      "cell_type": "code",
      "execution_count": 24,
      "id": "suitable-traveler",
      "metadata": {
        "id": "suitable-traveler"
      },
      "outputs": [],
      "source": [
        "def event_func(t, state, system):\n",
        "    r, v = state\n",
        "    return r - system.r_final"
      ]
    },
    {
      "cell_type": "code",
      "execution_count": 25,
      "id": "upper-victory",
      "metadata": {
        "id": "upper-victory",
        "colab": {
          "base_uri": "https://localhost:8080/"
        },
        "outputId": "0407d6d0-06e9-485c-ae5a-eb7ee9ed2e15"
      },
      "outputs": [
        {
          "output_type": "execute_result",
          "data": {
            "text/plain": [
              "149297630000.0"
            ]
          },
          "metadata": {},
          "execution_count": 25
        }
      ],
      "source": [
        "event_func(0, init, system)\n"
      ]
    },
    {
      "cell_type": "code",
      "execution_count": 26,
      "id": "transparent-treat",
      "metadata": {
        "id": "transparent-treat",
        "colab": {
          "base_uri": "https://localhost:8080/",
          "height": 35
        },
        "outputId": "ab9a466f-c93b-4cfb-9e14-c092f362abd3"
      },
      "outputs": [
        {
          "output_type": "execute_result",
          "data": {
            "text/plain": [
              "'A termination event occurred.'"
            ],
            "application/vnd.google.colaboratory.intrinsic+json": {
              "type": "string"
            }
          },
          "metadata": {},
          "execution_count": 26
        }
      ],
      "source": [
        "results, details = run_solve_ivp(system, slope_func,\n",
        "                                 events=event_func)\n",
        "details.message"
      ]
    },
    {
      "cell_type": "code",
      "execution_count": 27,
      "id": "brutal-woman",
      "metadata": {
        "id": "brutal-woman",
        "colab": {
          "base_uri": "https://localhost:8080/"
        },
        "outputId": "25c4f73c-24d5-41b3-cf38-a940a883bcff"
      },
      "outputs": [
        {
          "output_type": "execute_result",
          "data": {
            "text/plain": [
              "5599828.179418473"
            ]
          },
          "metadata": {},
          "execution_count": 27
        }
      ],
      "source": [
        "t_event = results.index[-1]\n",
        "t_event"
      ]
    },
    {
      "cell_type": "code",
      "execution_count": 28,
      "id": "gentle-burst",
      "metadata": {
        "id": "gentle-burst"
      },
      "outputs": [],
      "source": [
        "\n",
        "seconds = t_event * units.second\n",
        "days = seconds.to(units.day)"
      ]
    },
    {
      "cell_type": "code",
      "execution_count": 29,
      "id": "comfortable-galaxy",
      "metadata": {
        "id": "comfortable-galaxy"
      },
      "outputs": [],
      "source": [
        "results.index /= 60 * 60 * 24\n"
      ]
    },
    {
      "cell_type": "code",
      "execution_count": 30,
      "id": "satisfactory-latitude",
      "metadata": {
        "id": "satisfactory-latitude"
      },
      "outputs": [],
      "source": [
        "results.r /= 1e9\n"
      ]
    },
    {
      "cell_type": "code",
      "execution_count": 31,
      "id": "significant-rebound",
      "metadata": {
        "id": "significant-rebound",
        "colab": {
          "base_uri": "https://localhost:8080/",
          "height": 309
        },
        "outputId": "cd2e0b46-f913-45cc-cc03-e842c81142b4"
      },
      "outputs": [
        {
          "output_type": "display_data",
          "data": {
            "text/plain": [
              "<Figure size 450x300 with 1 Axes>"
            ],
            "image/png": "[encoded data removed]"
          },
          "metadata": {}
        }
      ],
      "source": [
        "results.r.plot(label='r')\n",
        "\n",
        "decorate(xlabel='Time (day)',\n",
        "         ylabel='Distance from sun (million km)')"
      ]
    },
    {
      "cell_type": "code",
      "execution_count": 31,
      "id": "listed-shelter",
      "metadata": {
        "id": "listed-shelter"
      },
      "outputs": [],
      "source": []
    }
  ],
  "metadata": {
    "celltoolbar": "Tags",
    "kernelspec": {
      "display_name": "Python 3 (ipykernel)",
      "language": "python",
      "name": "python3"
    },
    "language_info": {
      "codemirror_mode": {
        "name": "ipython",
        "version": 3
      },
      "file_extension": ".py",
      "mimetype": "text/x-python",
      "name": "python",
      "nbconvert_exporter": "python",
      "pygments_lexer": "ipython3",
      "version": "3.7.12"
    },
    "colab": {
      "provenance": []
    }
  },
  "nbformat": 4,
  "nbformat_minor": 5
}