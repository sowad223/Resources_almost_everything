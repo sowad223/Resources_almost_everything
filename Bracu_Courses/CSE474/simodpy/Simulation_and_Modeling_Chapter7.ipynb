{
  "cells": [
    {
      "cell_type": "code",
      "execution_count": 1,
      "id": "earlier-pride",
      "metadata": {
        "tags": [],
        "id": "earlier-pride",
        "colab": {
          "base_uri": "https://localhost:8080/"
        },
        "outputId": "f9079645-719a-4970-9b75-5baec12c4338"
      },
      "outputs": [
        {
          "output_type": "stream",
          "name": "stdout",
          "text": [
            "Downloaded modsim.py\n"
          ]
        }
      ],
      "source": [
        "# download modsim.py if necessary\n",
        "\n",
        "from os.path import basename, exists\n",
        "\n",
        "def download(url):\n",
        "    filename = basename(url)\n",
        "    if not exists(filename):\n",
        "        from urllib.request import urlretrieve\n",
        "        local, _ = urlretrieve(url, filename)\n",
        "        print('Downloaded ' + local)\n",
        "\n",
        "download('https://github.com/AllenDowney/ModSimPy/raw/master/' +\n",
        "         'modsim.py')"
      ]
    },
    {
      "cell_type": "code",
      "execution_count": 2,
      "id": "bound-nature",
      "metadata": {
        "tags": [],
        "id": "bound-nature"
      },
      "outputs": [],
      "source": [
        "# import functions from modsim\n",
        "\n",
        "from modsim import *"
      ]
    },
    {
      "cell_type": "code",
      "execution_count": 3,
      "id": "affiliated-eleven",
      "metadata": {
        "tags": [],
        "id": "affiliated-eleven",
        "colab": {
          "base_uri": "https://localhost:8080/"
        },
        "outputId": "535ad66a-3824-43fb-ece1-08fe14a973fd"
      },
      "outputs": [
        {
          "output_type": "stream",
          "name": "stdout",
          "text": [
            "Downloaded World_population_estimates.html\n"
          ]
        }
      ],
      "source": [
        "download('https://raw.githubusercontent.com/AllenDowney/' +\n",
        "         'ModSimPy/master/data/World_population_estimates.html')"
      ]
    },
    {
      "cell_type": "code",
      "execution_count": 4,
      "id": "recent-trouble",
      "metadata": {
        "tags": [],
        "id": "recent-trouble"
      },
      "outputs": [],
      "source": [
        "from pandas import read_html\n",
        "\n",
        "filename = 'World_population_estimates.html'\n",
        "tables = read_html(filename, header=0, index_col=0, decimal='M')\n",
        "table2 = tables[2]\n",
        "table2.columns = ['census', 'prb', 'un', 'maddison',\n",
        "                  'hyde', 'tanton', 'biraben', 'mj',\n",
        "                  'thomlinson', 'durand', 'clark']"
      ]
    },
    {
      "cell_type": "code",
      "execution_count": 5,
      "id": "western-blowing",
      "metadata": {
        "tags": [],
        "id": "western-blowing"
      },
      "outputs": [],
      "source": [
        "un = table2.un / 1e9\n",
        "census = table2.census / 1e9"
      ]
    },
    {
      "cell_type": "code",
      "execution_count": 6,
      "id": "simple-coupon",
      "metadata": {
        "tags": [],
        "id": "simple-coupon",
        "colab": {
          "base_uri": "https://localhost:8080/"
        },
        "outputId": "47432245-500f-4e02-c24c-3153d9fc6dd3"
      },
      "outputs": [
        {
          "output_type": "stream",
          "name": "stdout",
          "text": [
            "Downloaded chap06.py\n"
          ]
        }
      ],
      "source": [
        "download('https://github.com/AllenDowney/ModSimPy/raw/master/' +\n",
        "         'chap06.py')"
      ]
    },
    {
      "cell_type": "code",
      "execution_count": 7,
      "id": "monetary-profile",
      "metadata": {
        "tags": [],
        "id": "monetary-profile"
      },
      "outputs": [],
      "source": [
        "from chap06 import run_simulation\n",
        "\n",
        "def plot_estimates():\n",
        "    census.plot(style=':', label='US Census')\n",
        "    un.plot(style='--', label='UN DESA')\n",
        "    decorate(xlabel='Year',\n",
        "             ylabel='World population (billions)')"
      ]
    },
    {
      "cell_type": "code",
      "execution_count": 8,
      "id": "beginning-belly",
      "metadata": {
        "id": "beginning-belly"
      },
      "outputs": [],
      "source": [
        "def growth_func_quad(t, pop, system):\n",
        "    return system.alpha * pop + system.beta * pop**2"
      ]
    },
    {
      "cell_type": "code",
      "execution_count": 9,
      "id": "listed-florence",
      "metadata": {
        "id": "listed-florence"
      },
      "outputs": [],
      "source": [
        "t_0 = census.index[0]\n",
        "p_0 = census[t_0]\n",
        "t_end = census.index[-1]\n",
        "\n",
        "system = System(t_0=t_0,\n",
        "                p_0=p_0,\n",
        "                t_end=t_end)"
      ]
    },
    {
      "cell_type": "code",
      "execution_count": 10,
      "id": "signed-impossible",
      "metadata": {
        "id": "signed-impossible"
      },
      "outputs": [],
      "source": [
        "system.alpha = 25 / 1000\n",
        "system.beta = -1.8 / 1000"
      ]
    },
    {
      "cell_type": "markdown",
      "id": "confidential-retreat",
      "metadata": {
        "id": "confidential-retreat"
      },
      "source": [
        "And here's how we run it:"
      ]
    },
    {
      "cell_type": "code",
      "execution_count": 11,
      "id": "italian-converter",
      "metadata": {
        "id": "italian-converter"
      },
      "outputs": [],
      "source": [
        "results = run_simulation(system, growth_func_quad)"
      ]
    },
    {
      "cell_type": "markdown",
      "id": "forbidden-brisbane",
      "metadata": {
        "id": "forbidden-brisbane"
      },
      "source": [
        "Here are the results."
      ]
    },
    {
      "cell_type": "code",
      "execution_count": 12,
      "id": "simplified-sight",
      "metadata": {
        "id": "simplified-sight",
        "colab": {
          "base_uri": "https://localhost:8080/",
          "height": 309
        },
        "outputId": "96d8ba0d-7d28-43d7-c358-d5c92be671b4"
      },
      "outputs": [
        {
          "output_type": "display_data",
          "data": {
            "text/plain": [
              "<Figure size 450x300 with 1 Axes>"
            ],
            "image/png": "[encoded data removed]"
          },
          "metadata": {}
        }
      ],
      "source": [
        "results.plot(color='gray', label='model')\n",
        "plot_estimates()\n",
        "decorate(title='Quadratic growth model')"
      ]
    },
    {
      "cell_type": "code",
      "execution_count": 13,
      "id": "neural-guinea",
      "metadata": {
        "id": "neural-guinea"
      },
      "outputs": [],
      "source": [
        "from numpy import linspace\n",
        "\n",
        "pop_array = linspace(0, 15, 101)"
      ]
    },
    {
      "cell_type": "markdown",
      "id": "heated-selling",
      "metadata": {
        "id": "heated-selling"
      },
      "source": [
        "Now I'll use the quadratic model to compute net growth for each population."
      ]
    },
    {
      "cell_type": "code",
      "execution_count": 14,
      "id": "animal-spoke",
      "metadata": {
        "id": "animal-spoke"
      },
      "outputs": [],
      "source": [
        "growth_array = (system.alpha * pop_array +\n",
        "                system.beta * pop_array**2)"
      ]
    },
    {
      "cell_type": "markdown",
      "id": "engaging-parade",
      "metadata": {
        "id": "engaging-parade"
      },
      "source": [
        "To plot growth rate versus population, we'll use the `plot` function from Matplotlib.\n",
        "First we have to import it:"
      ]
    },
    {
      "cell_type": "code",
      "execution_count": 15,
      "id": "informed-three",
      "metadata": {
        "id": "informed-three"
      },
      "outputs": [],
      "source": [
        "from matplotlib.pyplot import plot"
      ]
    },
    {
      "cell_type": "markdown",
      "id": "retained-deployment",
      "metadata": {
        "id": "retained-deployment"
      },
      "source": [
        "Now we can use it like this:"
      ]
    },
    {
      "cell_type": "code",
      "execution_count": 16,
      "id": "unexpected-nigeria",
      "metadata": {
        "id": "unexpected-nigeria",
        "colab": {
          "base_uri": "https://localhost:8080/",
          "height": 309
        },
        "outputId": "d83b3cba-69d6-49fd-b8f1-85092f3d8b69"
      },
      "outputs": [
        {
          "output_type": "display_data",
          "data": {
            "text/plain": [
              "<Figure size 450x300 with 1 Axes>"
            ],
            "image/png": "[encoded data removed]"
          },
          "metadata": {}
        }
      ],
      "source": [
        "plot(pop_array, growth_array, label='net growth', color='C2')\n",
        "\n",
        "decorate(xlabel='Population (billions)',\n",
        "         ylabel='Net growth (billions)',\n",
        "         title='Net growth vs. population')"
      ]
    },
    {
      "cell_type": "code",
      "execution_count": 17,
      "id": "ordinary-honolulu",
      "metadata": {
        "id": "ordinary-honolulu",
        "colab": {
          "base_uri": "https://localhost:8080/"
        },
        "outputId": "0094082f-3b1c-4961-bd25-1d4b660e01cb"
      },
      "outputs": [
        {
          "output_type": "execute_result",
          "data": {
            "text/plain": [
              "13.88888888888889"
            ]
          },
          "metadata": {},
          "execution_count": 17
        }
      ],
      "source": [
        "-system.alpha / system.beta"
      ]
    },
    {
      "cell_type": "code",
      "execution_count": 18,
      "id": "realistic-opinion",
      "metadata": {
        "id": "realistic-opinion",
        "colab": {
          "base_uri": "https://localhost:8080/"
        },
        "outputId": "aefdb8e7-33fe-43e3-8a5d-f071be2b2019"
      },
      "outputs": [
        {
          "output_type": "stream",
          "name": "stdout",
          "text": [
            "13.88888888888889\n"
          ]
        }
      ],
      "source": [
        "def carrying_capacity(system):\n",
        "    K = -system.alpha / system.beta\n",
        "    return K\n",
        "\n",
        "sys1 = System(alpha=0.025, beta=-0.0018)\n",
        "pop = carrying_capacity(sys1)\n",
        "print(pop)"
      ]
    },
    {
      "cell_type": "markdown",
      "id": "olive-information",
      "metadata": {
        "id": "olive-information"
      },
      "source": [
        "Now let's see all the ways that can go wrong."
      ]
    },
    {
      "cell_type": "code",
      "execution_count": 19,
      "id": "marine-entry",
      "metadata": {
        "id": "marine-entry",
        "colab": {
          "base_uri": "https://localhost:8080/"
        },
        "outputId": "29960ba3-f408-4702-cb15-865a2b837b1e"
      },
      "outputs": [
        {
          "output_type": "stream",
          "name": "stdout",
          "text": [
            "13.88888888888889\n"
          ]
        }
      ],
      "source": [
        "def carrying_capacity():\n",
        "    K = -sys1.alpha / sys1.beta\n",
        "    return K\n",
        "\n",
        "sys1 = System(alpha=0.025, beta=-0.0018)\n",
        "pop = carrying_capacity()\n",
        "print(pop)"
      ]
    },
    {
      "cell_type": "code",
      "execution_count": 20,
      "id": "moving-brazil",
      "metadata": {
        "id": "moving-brazil",
        "colab": {
          "base_uri": "https://localhost:8080/"
        },
        "outputId": "5903ff88-3243-4273-b2fd-f0c3c2be2ea4"
      },
      "outputs": [
        {
          "output_type": "stream",
          "name": "stdout",
          "text": [
            "13.88888888888889\n"
          ]
        }
      ],
      "source": [
        "# WRONG\n",
        "def carrying_capacity(system):\n",
        "    system = System(alpha=0.025, beta=-0.0018)\n",
        "    K = -system.alpha / system.beta\n",
        "    return K\n",
        "\n",
        "sys1 = System(alpha=0.03, beta=-0.002)\n",
        "pop = carrying_capacity(sys1)\n",
        "print(pop)"
      ]
    },
    {
      "cell_type": "code",
      "execution_count": 21,
      "id": "sacred-physiology",
      "metadata": {
        "id": "sacred-physiology",
        "colab": {
          "base_uri": "https://localhost:8080/"
        },
        "outputId": "820efb18-cec5-4fab-8859-2e3e03d3be73"
      },
      "outputs": [
        {
          "output_type": "stream",
          "name": "stdout",
          "text": [
            "None\n"
          ]
        }
      ],
      "source": [
        "# WRONG\n",
        "def carrying_capacity(system):\n",
        "    K = -system.alpha / system.beta\n",
        "\n",
        "sys1 = System(alpha=0.025, beta=-0.0018)\n",
        "pop = carrying_capacity(sys1)\n",
        "print(pop)"
      ]
    },
    {
      "cell_type": "markdown",
      "id": "liable-mixture",
      "metadata": {
        "id": "liable-mixture"
      },
      "source": [
        "## Exercises"
      ]
    },
    {
      "cell_type": "code",
      "source": [
        "diff = census.diff()\n",
        "show(diff.head())"
      ],
      "metadata": {
        "colab": {
          "base_uri": "https://localhost:8080/",
          "height": 237
        },
        "id": "QytikXCxt61N",
        "outputId": "6d6d03c1-d0ac-4443-c334-0a38fc179361"
      },
      "id": "QytikXCxt61N",
      "execution_count": 31,
      "outputs": [
        {
          "output_type": "execute_result",
          "data": {
            "text/plain": [
              "        census\n",
              "Year          \n",
              "1950       NaN\n",
              "1951  0.037311\n",
              "1952  0.041832\n",
              "1953  0.045281\n",
              "1954  0.048175"
            ],
            "text/html": [
              "\n",
              "  <div id=\"df-11220c03-e22a-4b70-972f-3029d29230b2\" class=\"colab-df-container\">\n",
              "    <div>\n",
              "<style scoped>\n",
              "    .dataframe tbody tr th:only-of-type {\n",
              "        vertical-align: middle;\n",
              "    }\n",
              "\n",
              "    .dataframe tbody tr th {\n",
              "        vertical-align: top;\n",
              "    }\n",
              "\n",
              "    .dataframe thead th {\n",
              "        text-align: right;\n",
              "    }\n",
              "</style>\n",
              "<table border=\"1\" class=\"dataframe\">\n",
              "  <thead>\n",
              "    <tr style=\"text-align: right;\">\n",
              "      <th></th>\n",
              "      <th>census</th>\n",
              "    </tr>\n",
              "    <tr>\n",
              "      <th>Year</th>\n",
              "      <th></th>\n",
              "    </tr>\n",
              "  </thead>\n",
              "  <tbody>\n",
              "    <tr>\n",
              "      <th>1950</th>\n",
              "      <td>NaN</td>\n",
              "    </tr>\n",
              "    <tr>\n",
              "      <th>1951</th>\n",
              "      <td>0.037311</td>\n",
              "    </tr>\n",
              "    <tr>\n",
              "      <th>1952</th>\n",
              "      <td>0.041832</td>\n",
              "    </tr>\n",
              "    <tr>\n",
              "      <th>1953</th>\n",
              "      <td>0.045281</td>\n",
              "    </tr>\n",
              "    <tr>\n",
              "      <th>1954</th>\n",
              "      <td>0.048175</td>\n",
              "    </tr>\n",
              "  </tbody>\n",
              "</table>\n",
              "</div>\n",
              "    <div class=\"colab-df-buttons\">\n",
              "\n",
              "  <div class=\"colab-df-container\">\n",
              "    <button class=\"colab-df-convert\" onclick=\"convertToInteractive('df-11220c03-e22a-4b70-972f-3029d29230b2')\"\n",
              "            title=\"Convert this dataframe to an interactive table.\"\n",
              "            style=\"display:none;\">\n",
              "\n",
              "  <svg xmlns=\"http://www.w3.org/2000/svg\" height=\"24px\" viewBox=\"0 -960 960 960\">\n",
              "    <path d=\"M120-120v-720h720v720H120Zm60-500h600v-160H180v160Zm220 220h160v-160H400v160Zm0 220h160v-160H400v160ZM180-400h160v-160H180v160Zm440 0h160v-160H620v160ZM180-180h160v-160H180v160Zm440 0h160v-160H620v160Z\"/>\n",
              "  </svg>\n",
              "    </button>\n",
              "\n",
              "  <style>\n",
              "    .colab-df-container {\n",
              "      display:flex;\n",
              "      gap: 12px;\n",
              "    }\n",
              "\n",
              "    .colab-df-convert {\n",
              "      background-color: #E8F0FE;\n",
              "      border: none;\n",
              "      border-radius: 50%;\n",
              "      cursor: pointer;\n",
              "      display: none;\n",
              "      fill: #1967D2;\n",
              "      height: 32px;\n",
              "      padding: 0 0 0 0;\n",
              "      width: 32px;\n",
              "    }\n",
              "\n",
              "    .colab-df-convert:hover {\n",
              "      background-color: #E2EBFA;\n",
              "      box-shadow: 0px 1px 2px rgba(60, 64, 67, 0.3), 0px 1px 3px 1px rgba(60, 64, 67, 0.15);\n",
              "      fill: #174EA6;\n",
              "    }\n",
              "\n",
              "    .colab-df-buttons div {\n",
              "      margin-bottom: 4px;\n",
              "    }\n",
              "\n",
              "    [theme=dark] .colab-df-convert {\n",
              "      background-color: #3B4455;\n",
              "      fill: #D2E3FC;\n",
              "    }\n",
              "\n",
              "    [theme=dark] .colab-df-convert:hover {\n",
              "      background-color: #434B5C;\n",
              "      box-shadow: 0px 1px 3px 1px rgba(0, 0, 0, 0.15);\n",
              "      filter: drop-shadow(0px 1px 2px rgba(0, 0, 0, 0.3));\n",
              "      fill: #FFFFFF;\n",
              "    }\n",
              "  </style>\n",
              "\n",
              "    <script>\n",
              "      const buttonEl =\n",
              "        document.querySelector('#df-11220c03-e22a-4b70-972f-3029d29230b2 button.colab-df-convert');\n",
              "      buttonEl.style.display =\n",
              "        google.colab.kernel.accessAllowed ? 'block' : 'none';\n",
              "\n",
              "      async function convertToInteractive(key) {\n",
              "        const element = document.querySelector('#df-11220c03-e22a-4b70-972f-3029d29230b2');\n",
              "        const dataTable =\n",
              "          await google.colab.kernel.invokeFunction('convertToInteractive',\n",
              "                                                    [key], {});\n",
              "        if (!dataTable) return;\n",
              "\n",
              "        const docLinkHtml = 'Like what you see? Visit the ' +\n",
              "          '<a target=\"_blank\" href=https://colab.research.google.com/notebooks/data_table.ipynb>data table notebook</a>'\n",
              "          + ' to learn more about interactive tables.';\n",
              "        element.innerHTML = '';\n",
              "        dataTable['output_type'] = 'display_data';\n",
              "        await google.colab.output.renderOutput(dataTable, element);\n",
              "        const docLink = document.createElement('div');\n",
              "        docLink.innerHTML = docLinkHtml;\n",
              "        element.appendChild(docLink);\n",
              "      }\n",
              "    </script>\n",
              "  </div>\n",
              "\n",
              "\n",
              "<div id=\"df-2abe8229-4193-4a69-b766-9dcc64bdccb9\">\n",
              "  <button class=\"colab-df-quickchart\" onclick=\"quickchart('df-2abe8229-4193-4a69-b766-9dcc64bdccb9')\"\n",
              "            title=\"Suggest charts.\"\n",
              "            style=\"display:none;\">\n",
              "\n",
              "<svg xmlns=\"http://www.w3.org/2000/svg\" height=\"24px\"viewBox=\"0 0 24 24\"\n",
              "     width=\"24px\">\n",
              "    <g>\n",
              "        <path d=\"M19 3H5c-1.1 0-2 .9-2 2v14c0 1.1.9 2 2 2h14c1.1 0 2-.9 2-2V5c0-1.1-.9-2-2-2zM9 17H7v-7h2v7zm4 0h-2V7h2v10zm4 0h-2v-4h2v4z\"/>\n",
              "    </g>\n",
              "</svg>\n",
              "  </button>\n",
              "\n",
              "<style>\n",
              "  .colab-df-quickchart {\n",
              "      --bg-color: #E8F0FE;\n",
              "      --fill-color: #1967D2;\n",
              "      --hover-bg-color: #E2EBFA;\n",
              "      --hover-fill-color: #174EA6;\n",
              "      --disabled-fill-color: #AAA;\n",
              "      --disabled-bg-color: #DDD;\n",
              "  }\n",
              "\n",
              "  [theme=dark] .colab-df-quickchart {\n",
              "      --bg-color: #3B4455;\n",
              "      --fill-color: #D2E3FC;\n",
              "      --hover-bg-color: #434B5C;\n",
              "      --hover-fill-color: #FFFFFF;\n",
              "      --disabled-bg-color: #3B4455;\n",
              "      --disabled-fill-color: #666;\n",
              "  }\n",
              "\n",
              "  .colab-df-quickchart {\n",
              "    background-color: var(--bg-color);\n",
              "    border: none;\n",
              "    border-radius: 50%;\n",
              "    cursor: pointer;\n",
              "    display: none;\n",
              "    fill: var(--fill-color);\n",
              "    height: 32px;\n",
              "    padding: 0;\n",
              "    width: 32px;\n",
              "  }\n",
              "\n",
              "  .colab-df-quickchart:hover {\n",
              "    background-color: var(--hover-bg-color);\n",
              "    box-shadow: 0 1px 2px rgba(60, 64, 67, 0.3), 0 1px 3px 1px rgba(60, 64, 67, 0.15);\n",
              "    fill: var(--button-hover-fill-color);\n",
              "  }\n",
              "\n",
              "  .colab-df-quickchart-complete:disabled,\n",
              "  .colab-df-quickchart-complete:disabled:hover {\n",
              "    background-color: var(--disabled-bg-color);\n",
              "    fill: var(--disabled-fill-color);\n",
              "    box-shadow: none;\n",
              "  }\n",
              "\n",
              "  .colab-df-spinner {\n",
              "    border: 2px solid var(--fill-color);\n",
              "    border-color: transparent;\n",
              "    border-bottom-color: var(--fill-color);\n",
              "    animation:\n",
              "      spin 1s steps(1) infinite;\n",
              "  }\n",
              "\n",
              "  @keyframes spin {\n",
              "    0% {\n",
              "      border-color: transparent;\n",
              "      border-bottom-color: var(--fill-color);\n",
              "      border-left-color: var(--fill-color);\n",
              "    }\n",
              "    20% {\n",
              "      border-color: transparent;\n",
              "      border-left-color: var(--fill-color);\n",
              "      border-top-color: var(--fill-color);\n",
              "    }\n",
              "    30% {\n",
              "      border-color: transparent;\n",
              "      border-left-color: var(--fill-color);\n",
              "      border-top-color: var(--fill-color);\n",
              "      border-right-color: var(--fill-color);\n",
              "    }\n",
              "    40% {\n",
              "      border-color: transparent;\n",
              "      border-right-color: var(--fill-color);\n",
              "      border-top-color: var(--fill-color);\n",
              "    }\n",
              "    60% {\n",
              "      border-color: transparent;\n",
              "      border-right-color: var(--fill-color);\n",
              "    }\n",
              "    80% {\n",
              "      border-color: transparent;\n",
              "      border-right-color: var(--fill-color);\n",
              "      border-bottom-color: var(--fill-color);\n",
              "    }\n",
              "    90% {\n",
              "      border-color: transparent;\n",
              "      border-bottom-color: var(--fill-color);\n",
              "    }\n",
              "  }\n",
              "</style>\n",
              "\n",
              "  <script>\n",
              "    async function quickchart(key) {\n",
              "      const quickchartButtonEl =\n",
              "        document.querySelector('#' + key + ' button');\n",
              "      quickchartButtonEl.disabled = true;  // To prevent multiple clicks.\n",
              "      quickchartButtonEl.classList.add('colab-df-spinner');\n",
              "      try {\n",
              "        const charts = await google.colab.kernel.invokeFunction(\n",
              "            'suggestCharts', [key], {});\n",
              "      } catch (error) {\n",
              "        console.error('Error during call to suggestCharts:', error);\n",
              "      }\n",
              "      quickchartButtonEl.classList.remove('colab-df-spinner');\n",
              "      quickchartButtonEl.classList.add('colab-df-quickchart-complete');\n",
              "    }\n",
              "    (() => {\n",
              "      let quickchartButtonEl =\n",
              "        document.querySelector('#df-2abe8229-4193-4a69-b766-9dcc64bdccb9 button');\n",
              "      quickchartButtonEl.style.display =\n",
              "        google.colab.kernel.accessAllowed ? 'block' : 'none';\n",
              "    })();\n",
              "  </script>\n",
              "</div>\n",
              "    </div>\n",
              "  </div>\n"
            ]
          },
          "metadata": {},
          "execution_count": 31
        }
      ]
    },
    {
      "cell_type": "code",
      "source": [
        "alpha = census.diff() / census\n",
        "show(alpha.head())"
      ],
      "metadata": {
        "colab": {
          "base_uri": "https://localhost:8080/",
          "height": 237
        },
        "id": "JgsmaVeEt6x3",
        "outputId": "2b59bbbf-1c22-4056-c059-786ea82a2e35"
      },
      "id": "JgsmaVeEt6x3",
      "execution_count": 32,
      "outputs": [
        {
          "output_type": "execute_result",
          "data": {
            "text/plain": [
              "        census\n",
              "Year          \n",
              "1950       NaN\n",
              "1951  0.014378\n",
              "1952  0.015865\n",
              "1953  0.016883\n",
              "1954  0.017645"
            ],
            "text/html": [
              "\n",
              "  <div id=\"df-1d34aace-d91d-4c79-8156-736df546c9f9\" class=\"colab-df-container\">\n",
              "    <div>\n",
              "<style scoped>\n",
              "    .dataframe tbody tr th:only-of-type {\n",
              "        vertical-align: middle;\n",
              "    }\n",
              "\n",
              "    .dataframe tbody tr th {\n",
              "        vertical-align: top;\n",
              "    }\n",
              "\n",
              "    .dataframe thead th {\n",
              "        text-align: right;\n",
              "    }\n",
              "</style>\n",
              "<table border=\"1\" class=\"dataframe\">\n",
              "  <thead>\n",
              "    <tr style=\"text-align: right;\">\n",
              "      <th></th>\n",
              "      <th>census</th>\n",
              "    </tr>\n",
              "    <tr>\n",
              "      <th>Year</th>\n",
              "      <th></th>\n",
              "    </tr>\n",
              "  </thead>\n",
              "  <tbody>\n",
              "    <tr>\n",
              "      <th>1950</th>\n",
              "      <td>NaN</td>\n",
              "    </tr>\n",
              "    <tr>\n",
              "      <th>1951</th>\n",
              "      <td>0.014378</td>\n",
              "    </tr>\n",
              "    <tr>\n",
              "      <th>1952</th>\n",
              "      <td>0.015865</td>\n",
              "    </tr>\n",
              "    <tr>\n",
              "      <th>1953</th>\n",
              "      <td>0.016883</td>\n",
              "    </tr>\n",
              "    <tr>\n",
              "      <th>1954</th>\n",
              "      <td>0.017645</td>\n",
              "    </tr>\n",
              "  </tbody>\n",
              "</table>\n",
              "</div>\n",
              "    <div class=\"colab-df-buttons\">\n",
              "\n",
              "  <div class=\"colab-df-container\">\n",
              "    <button class=\"colab-df-convert\" onclick=\"convertToInteractive('df-1d34aace-d91d-4c79-8156-736df546c9f9')\"\n",
              "            title=\"Convert this dataframe to an interactive table.\"\n",
              "            style=\"display:none;\">\n",
              "\n",
              "  <svg xmlns=\"http://www.w3.org/2000/svg\" height=\"24px\" viewBox=\"0 -960 960 960\">\n",
              "    <path d=\"M120-120v-720h720v720H120Zm60-500h600v-160H180v160Zm220 220h160v-160H400v160Zm0 220h160v-160H400v160ZM180-400h160v-160H180v160Zm440 0h160v-160H620v160ZM180-180h160v-160H180v160Zm440 0h160v-160H620v160Z\"/>\n",
              "  </svg>\n",
              "    </button>\n",
              "\n",
              "  <style>\n",
              "    .colab-df-container {\n",
              "      display:flex;\n",
              "      gap: 12px;\n",
              "    }\n",
              "\n",
              "    .colab-df-convert {\n",
              "      background-color: #E8F0FE;\n",
              "      border: none;\n",
              "      border-radius: 50%;\n",
              "      cursor: pointer;\n",
              "      display: none;\n",
              "      fill: #1967D2;\n",
              "      height: 32px;\n",
              "      padding: 0 0 0 0;\n",
              "      width: 32px;\n",
              "    }\n",
              "\n",
              "    .colab-df-convert:hover {\n",
              "      background-color: #E2EBFA;\n",
              "      box-shadow: 0px 1px 2px rgba(60, 64, 67, 0.3), 0px 1px 3px 1px rgba(60, 64, 67, 0.15);\n",
              "      fill: #174EA6;\n",
              "    }\n",
              "\n",
              "    .colab-df-buttons div {\n",
              "      margin-bottom: 4px;\n",
              "    }\n",
              "\n",
              "    [theme=dark] .colab-df-convert {\n",
              "      background-color: #3B4455;\n",
              "      fill: #D2E3FC;\n",
              "    }\n",
              "\n",
              "    [theme=dark] .colab-df-convert:hover {\n",
              "      background-color: #434B5C;\n",
              "      box-shadow: 0px 1px 3px 1px rgba(0, 0, 0, 0.15);\n",
              "      filter: drop-shadow(0px 1px 2px rgba(0, 0, 0, 0.3));\n",
              "      fill: #FFFFFF;\n",
              "    }\n",
              "  </style>\n",
              "\n",
              "    <script>\n",
              "      const buttonEl =\n",
              "        document.querySelector('#df-1d34aace-d91d-4c79-8156-736df546c9f9 button.colab-df-convert');\n",
              "      buttonEl.style.display =\n",
              "        google.colab.kernel.accessAllowed ? 'block' : 'none';\n",
              "\n",
              "      async function convertToInteractive(key) {\n",
              "        const element = document.querySelector('#df-1d34aace-d91d-4c79-8156-736df546c9f9');\n",
              "        const dataTable =\n",
              "          await google.colab.kernel.invokeFunction('convertToInteractive',\n",
              "                                                    [key], {});\n",
              "        if (!dataTable) return;\n",
              "\n",
              "        const docLinkHtml = 'Like what you see? Visit the ' +\n",
              "          '<a target=\"_blank\" href=https://colab.research.google.com/notebooks/data_table.ipynb>data table notebook</a>'\n",
              "          + ' to learn more about interactive tables.';\n",
              "        element.innerHTML = '';\n",
              "        dataTable['output_type'] = 'display_data';\n",
              "        await google.colab.output.renderOutput(dataTable, element);\n",
              "        const docLink = document.createElement('div');\n",
              "        docLink.innerHTML = docLinkHtml;\n",
              "        element.appendChild(docLink);\n",
              "      }\n",
              "    </script>\n",
              "  </div>\n",
              "\n",
              "\n",
              "<div id=\"df-86f8b0d6-30df-475d-9b4c-f8804d5a075e\">\n",
              "  <button class=\"colab-df-quickchart\" onclick=\"quickchart('df-86f8b0d6-30df-475d-9b4c-f8804d5a075e')\"\n",
              "            title=\"Suggest charts.\"\n",
              "            style=\"display:none;\">\n",
              "\n",
              "<svg xmlns=\"http://www.w3.org/2000/svg\" height=\"24px\"viewBox=\"0 0 24 24\"\n",
              "     width=\"24px\">\n",
              "    <g>\n",
              "        <path d=\"M19 3H5c-1.1 0-2 .9-2 2v14c0 1.1.9 2 2 2h14c1.1 0 2-.9 2-2V5c0-1.1-.9-2-2-2zM9 17H7v-7h2v7zm4 0h-2V7h2v10zm4 0h-2v-4h2v4z\"/>\n",
              "    </g>\n",
              "</svg>\n",
              "  </button>\n",
              "\n",
              "<style>\n",
              "  .colab-df-quickchart {\n",
              "      --bg-color: #E8F0FE;\n",
              "      --fill-color: #1967D2;\n",
              "      --hover-bg-color: #E2EBFA;\n",
              "      --hover-fill-color: #174EA6;\n",
              "      --disabled-fill-color: #AAA;\n",
              "      --disabled-bg-color: #DDD;\n",
              "  }\n",
              "\n",
              "  [theme=dark] .colab-df-quickchart {\n",
              "      --bg-color: #3B4455;\n",
              "      --fill-color: #D2E3FC;\n",
              "      --hover-bg-color: #434B5C;\n",
              "      --hover-fill-color: #FFFFFF;\n",
              "      --disabled-bg-color: #3B4455;\n",
              "      --disabled-fill-color: #666;\n",
              "  }\n",
              "\n",
              "  .colab-df-quickchart {\n",
              "    background-color: var(--bg-color);\n",
              "    border: none;\n",
              "    border-radius: 50%;\n",
              "    cursor: pointer;\n",
              "    display: none;\n",
              "    fill: var(--fill-color);\n",
              "    height: 32px;\n",
              "    padding: 0;\n",
              "    width: 32px;\n",
              "  }\n",
              "\n",
              "  .colab-df-quickchart:hover {\n",
              "    background-color: var(--hover-bg-color);\n",
              "    box-shadow: 0 1px 2px rgba(60, 64, 67, 0.3), 0 1px 3px 1px rgba(60, 64, 67, 0.15);\n",
              "    fill: var(--button-hover-fill-color);\n",
              "  }\n",
              "\n",
              "  .colab-df-quickchart-complete:disabled,\n",
              "  .colab-df-quickchart-complete:disabled:hover {\n",
              "    background-color: var(--disabled-bg-color);\n",
              "    fill: var(--disabled-fill-color);\n",
              "    box-shadow: none;\n",
              "  }\n",
              "\n",
              "  .colab-df-spinner {\n",
              "    border: 2px solid var(--fill-color);\n",
              "    border-color: transparent;\n",
              "    border-bottom-color: var(--fill-color);\n",
              "    animation:\n",
              "      spin 1s steps(1) infinite;\n",
              "  }\n",
              "\n",
              "  @keyframes spin {\n",
              "    0% {\n",
              "      border-color: transparent;\n",
              "      border-bottom-color: var(--fill-color);\n",
              "      border-left-color: var(--fill-color);\n",
              "    }\n",
              "    20% {\n",
              "      border-color: transparent;\n",
              "      border-left-color: var(--fill-color);\n",
              "      border-top-color: var(--fill-color);\n",
              "    }\n",
              "    30% {\n",
              "      border-color: transparent;\n",
              "      border-left-color: var(--fill-color);\n",
              "      border-top-color: var(--fill-color);\n",
              "      border-right-color: var(--fill-color);\n",
              "    }\n",
              "    40% {\n",
              "      border-color: transparent;\n",
              "      border-right-color: var(--fill-color);\n",
              "      border-top-color: var(--fill-color);\n",
              "    }\n",
              "    60% {\n",
              "      border-color: transparent;\n",
              "      border-right-color: var(--fill-color);\n",
              "    }\n",
              "    80% {\n",
              "      border-color: transparent;\n",
              "      border-right-color: var(--fill-color);\n",
              "      border-bottom-color: var(--fill-color);\n",
              "    }\n",
              "    90% {\n",
              "      border-color: transparent;\n",
              "      border-bottom-color: var(--fill-color);\n",
              "    }\n",
              "  }\n",
              "</style>\n",
              "\n",
              "  <script>\n",
              "    async function quickchart(key) {\n",
              "      const quickchartButtonEl =\n",
              "        document.querySelector('#' + key + ' button');\n",
              "      quickchartButtonEl.disabled = true;  // To prevent multiple clicks.\n",
              "      quickchartButtonEl.classList.add('colab-df-spinner');\n",
              "      try {\n",
              "        const charts = await google.colab.kernel.invokeFunction(\n",
              "            'suggestCharts', [key], {});\n",
              "      } catch (error) {\n",
              "        console.error('Error during call to suggestCharts:', error);\n",
              "      }\n",
              "      quickchartButtonEl.classList.remove('colab-df-spinner');\n",
              "      quickchartButtonEl.classList.add('colab-df-quickchart-complete');\n",
              "    }\n",
              "    (() => {\n",
              "      let quickchartButtonEl =\n",
              "        document.querySelector('#df-86f8b0d6-30df-475d-9b4c-f8804d5a075e button');\n",
              "      quickchartButtonEl.style.display =\n",
              "        google.colab.kernel.accessAllowed ? 'block' : 'none';\n",
              "    })();\n",
              "  </script>\n",
              "</div>\n",
              "    </div>\n",
              "  </div>\n"
            ]
          },
          "metadata": {},
          "execution_count": 32
        }
      ]
    },
    {
      "cell_type": "code",
      "source": [
        "def plot_alpha():\n",
        "    alpha_census = census.diff() / census\n",
        "    alpha_census.plot(style='.', label='US Census')\n",
        "\n",
        "    alpha_un = un.diff() / un\n",
        "    alpha_un.plot(style='.', label='UN DESA')\n",
        "\n",
        "    decorate(xlabel='Year', ylabel='Net growth rate')"
      ],
      "metadata": {
        "id": "OfzTS5TAt6vQ"
      },
      "id": "OfzTS5TAt6vQ",
      "execution_count": 33,
      "outputs": []
    },
    {
      "cell_type": "code",
      "source": [
        "plot_alpha()"
      ],
      "metadata": {
        "colab": {
          "base_uri": "https://localhost:8080/",
          "height": 309
        },
        "id": "i2r8h99bt6sv",
        "outputId": "b14f5c2d-993f-43cb-dce2-81599cdb5a29"
      },
      "id": "i2r8h99bt6sv",
      "execution_count": 34,
      "outputs": [
        {
          "output_type": "display_data",
          "data": {
            "text/plain": [
              "<Figure size 450x300 with 1 Axes>"
            ],
            "image/png": "[encoded data removed]"
          },
          "metadata": {}
        }
      ]
    },
    {
      "cell_type": "code",
      "source": [
        "def alpha_func(t):\n",
        "    intercept = 0.02\n",
        "    slope = -0.00021\n",
        "    return intercept + slope * (t - 1970)"
      ],
      "metadata": {
        "id": "Hd9VOTF2uDht"
      },
      "id": "Hd9VOTF2uDht",
      "execution_count": 35,
      "outputs": []
    },
    {
      "cell_type": "code",
      "source": [
        "t_array = linspace(1960, 2020, 5)\n",
        "alpha_array = alpha_func(t_array)"
      ],
      "metadata": {
        "id": "NGqKcmSFuDeH"
      },
      "id": "NGqKcmSFuDeH",
      "execution_count": 36,
      "outputs": []
    },
    {
      "cell_type": "code",
      "source": [
        "from matplotlib.pyplot import plot\n",
        "\n",
        "plot_alpha()\n",
        "plot(t_array, alpha_array, label='model', color='gray')\n",
        "\n",
        "decorate(ylabel='Net growth rate',\n",
        "         title='Linear model of net growth rate')"
      ],
      "metadata": {
        "colab": {
          "base_uri": "https://localhost:8080/",
          "height": 309
        },
        "id": "GyKEz9pDuDbZ",
        "outputId": "e5e30564-14fd-4e09-a597-392149468a2b"
      },
      "id": "GyKEz9pDuDbZ",
      "execution_count": 37,
      "outputs": [
        {
          "output_type": "display_data",
          "data": {
            "text/plain": [
              "<Figure size 450x300 with 1 Axes>"
            ],
            "image/png": "[encoded data removed]"
          },
          "metadata": {}
        }
      ]
    },
    {
      "cell_type": "code",
      "execution_count": 38,
      "id": "stretch-check",
      "metadata": {
        "id": "stretch-check"
      },
      "outputs": [],
      "source": [
        "t_0 = 1960\n",
        "t_end = 2100\n",
        "p_0 = census[t_0]"
      ]
    },
    {
      "cell_type": "code",
      "execution_count": 39,
      "id": "tender-treat",
      "metadata": {
        "id": "tender-treat"
      },
      "outputs": [],
      "source": [
        "system = System(t_0=t_0,\n",
        "                t_end=t_end,\n",
        "                p_0=p_0,\n",
        "                alpha_func=alpha_func)"
      ]
    },
    {
      "cell_type": "code",
      "execution_count": 40,
      "id": "passive-certificate",
      "metadata": {
        "id": "passive-certificate"
      },
      "outputs": [],
      "source": [
        "def growth_func_alpha(t, pop, system):\n",
        "    return system.alpha_func(t) * pop"
      ]
    },
    {
      "cell_type": "code",
      "execution_count": 41,
      "id": "agricultural-burke",
      "metadata": {
        "id": "agricultural-burke",
        "colab": {
          "base_uri": "https://localhost:8080/"
        },
        "outputId": "26e3d58a-554a-4703-90bc-43f00580629d"
      },
      "outputs": [
        {
          "output_type": "execute_result",
          "data": {
            "text/plain": [
              "0.06725033332680001"
            ]
          },
          "metadata": {},
          "execution_count": 41
        }
      ],
      "source": [
        "growth_func_alpha(t_0, p_0, system)\n"
      ]
    },
    {
      "cell_type": "code",
      "execution_count": null,
      "id": "colored-globe",
      "metadata": {
        "id": "colored-globe"
      },
      "outputs": [],
      "source": [
        "results2 = run_simulation(system, growth_func_alpha);\n"
      ]
    },
    {
      "cell_type": "code",
      "source": [
        "results2.plot(color='gray', label='model')\n",
        "plot_projections(table3)\n",
        "decorate(title='Proportional model, linearly decreasing rate')\n",
        "results2.idxmax(), results2.max()\n"
      ],
      "metadata": {
        "id": "rO6XFS3BtoFe"
      },
      "id": "rO6XFS3BtoFe",
      "execution_count": null,
      "outputs": []
    },
    {
      "cell_type": "code",
      "source": [],
      "metadata": {
        "id": "e6OIqfREtoHN"
      },
      "id": "e6OIqfREtoHN",
      "execution_count": null,
      "outputs": []
    },
    {
      "cell_type": "code",
      "source": [],
      "metadata": {
        "id": "CeNG1xyWtoKu"
      },
      "id": "CeNG1xyWtoKu",
      "execution_count": null,
      "outputs": []
    }
  ],
  "metadata": {
    "celltoolbar": "Tags",
    "kernelspec": {
      "display_name": "Python 3 (ipykernel)",
      "language": "python",
      "name": "python3"
    },
    "language_info": {
      "codemirror_mode": {
        "name": "ipython",
        "version": 3
      },
      "file_extension": ".py",
      "mimetype": "text/x-python",
      "name": "python",
      "nbconvert_exporter": "python",
      "pygments_lexer": "ipython3",
      "version": "3.10.6"
    },
    "colab": {
      "provenance": []
    }
  },
  "nbformat": 4,
  "nbformat_minor": 5
}