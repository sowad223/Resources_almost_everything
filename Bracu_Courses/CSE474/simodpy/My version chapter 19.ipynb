{
  "cells": [
    {
      "cell_type": "code",
      "execution_count": 12,
      "id": "formal-context",
      "metadata": {
        "tags": [],
        "id": "formal-context"
      },
      "outputs": [],
      "source": [
        "# download modsim.py if necessary\n",
        "\n",
        "from os.path import basename, exists\n",
        "\n",
        "def download(url):\n",
        "    filename = basename(url)\n",
        "    if not exists(filename):\n",
        "        from urllib.request import urlretrieve\n",
        "        local, _ = urlretrieve(url, filename)\n",
        "        print('Downloaded ' + local)\n",
        "\n",
        "download('https://github.com/AllenDowney/ModSimPy/raw/master/modsim.py')"
      ]
    },
    {
      "cell_type": "code",
      "source": [
        "import numpy as np\n",
        "import matplotlib.pyplot as plt\n",
        "import pandas as pd\n",
        "from scipy.interpolate import interp1d"
      ],
      "metadata": {
        "id": "NHxjIpakhyp0"
      },
      "id": "NHxjIpakhyp0",
      "execution_count": 13,
      "outputs": []
    },
    {
      "cell_type": "code",
      "source": [
        "np.random.seed(42)\n",
        "\n",
        "time_points = np.arange(0, 240, 15)\n",
        "\n",
        "solute_concentration = 10 * np.exp(-0.01 * time_points) + np.random.normal(0, 0.5, len(time_points))"
      ],
      "metadata": {
        "id": "0qXBS36Xhyma"
      },
      "id": "0qXBS36Xhyma",
      "execution_count": 14,
      "outputs": []
    },
    {
      "cell_type": "code",
      "source": [
        "dialysis_data = pd.DataFrame({'time': time_points, 'solute': solute_concentration})\n"
      ],
      "metadata": {
        "id": "tTVoeEazhyj0"
      },
      "id": "tTVoeEazhyj0",
      "execution_count": 15,
      "outputs": []
    },
    {
      "cell_type": "code",
      "source": [
        "plt.plot(dialysis_data['time'], dialysis_data['solute'], 'o', label='Original Data')\n",
        "plt.xlabel('Time (min)')\n",
        "plt.ylabel('Solute Concentration')\n",
        "plt.title('Original Dialysis Dataset')\n",
        "plt.legend()\n",
        "plt.show()\n"
      ],
      "metadata": {
        "colab": {
          "base_uri": "https://localhost:8080/",
          "height": 310
        },
        "id": "G3cMMR14hyhH",
        "outputId": "eb1b524b-a05a-4104-cfc5-55c02bbd8c58"
      },
      "id": "G3cMMR14hyhH",
      "execution_count": 16,
      "outputs": [
        {
          "output_type": "display_data",
          "data": {
            "text/plain": [
              "<Figure size 450x300 with 1 Axes>"
            ],
            "image/png": "[encoded data removed]"
          },
          "metadata": {}
        }
      ]
    },
    {
      "cell_type": "code",
      "source": [
        "initial_concentration = 15\n",
        "k_dialysis = 0.01"
      ],
      "metadata": {
        "id": "XcgNs8bsh7j5"
      },
      "id": "XcgNs8bsh7j5",
      "execution_count": 17,
      "outputs": []
    },
    {
      "cell_type": "code",
      "source": [
        "dialysis_system = System(init=State(concentration=initial_concentration), params=k_dialysis,\n",
        "                         t_0=t_0, t_end=t_end, dt=2)\n"
      ],
      "metadata": {
        "id": "n1DS8tn5h7gS"
      },
      "id": "n1DS8tn5h7gS",
      "execution_count": 18,
      "outputs": []
    },
    {
      "cell_type": "code",
      "source": [
        "def run_simulation(system, update_func):\n",
        "    t_array = np.arange(system.t_0, system.t_end, system.dt)\n",
        "    n = len(t_array)\n",
        "\n",
        "    frame = pd.DataFrame(index=t_array, columns=system.init.index)\n",
        "    frame.iloc[0] = system.init\n",
        "\n",
        "    for i in range(n-1):\n",
        "        t = t_array[i]\n",
        "        state = frame.iloc[i]\n",
        "        frame.iloc[i+1] = update_func(t, state, system)\n",
        "\n",
        "    return frame"
      ],
      "metadata": {
        "id": "OEWQpyo4h7ds"
      },
      "id": "OEWQpyo4h7ds",
      "execution_count": 19,
      "outputs": []
    },
    {
      "cell_type": "code",
      "source": [
        "def dialysis_update_func(t, state, system):\n",
        "    concentration, = state\n",
        "    k_dialysis = system.params\n",
        "    dt = system.dt\n",
        "\n",
        "    dcdt = -k_dialysis * concentration\n",
        "    concentration += dcdt * dt\n",
        "\n",
        "    return State(concentration=concentration)"
      ],
      "metadata": {
        "id": "Xd1WkGx2iOuj"
      },
      "id": "Xd1WkGx2iOuj",
      "execution_count": 20,
      "outputs": []
    },
    {
      "cell_type": "code",
      "source": [
        "dialysis_results = run_simulation(dialysis_system, dialysis_update_func)\n"
      ],
      "metadata": {
        "id": "BJeTm6yIiOq-"
      },
      "id": "BJeTm6yIiOq-",
      "execution_count": 21,
      "outputs": []
    },
    {
      "cell_type": "code",
      "source": [
        "def dialysis_slope_func(t, state, system):\n",
        "    concentration, = state\n",
        "    k_dialysis = system.params\n",
        "\n",
        "    dcdt = -k_dialysis * concentration\n",
        "\n",
        "    return dcdt"
      ],
      "metadata": {
        "id": "V_ZHzGM8iOoX"
      },
      "id": "V_ZHzGM8iOoX",
      "execution_count": 22,
      "outputs": []
    },
    {
      "cell_type": "code",
      "source": [
        "dialysis_results_solve_ivp, _ = run_solve_ivp(dialysis_system, dialysis_slope_func,\n",
        "                                             t_eval=dialysis_results.index)"
      ],
      "metadata": {
        "id": "HMAiisaeiYHZ"
      },
      "id": "HMAiisaeiYHZ",
      "execution_count": 23,
      "outputs": []
    },
    {
      "cell_type": "code",
      "source": [
        "plt.plot(dialysis_data['time'], dialysis_data['solute'], 'o', label='Measured Data')\n",
        "plt.plot(dialysis_results.index, dialysis_results['concentration'], label='run_simulation')\n",
        "plt.plot(dialysis_results_solve_ivp.index, dialysis_results_solve_ivp['concentration'], label='run_solve_ivp')\n",
        "plt.xlabel('Time (min)')\n",
        "plt.ylabel('Solute Concentration')\n",
        "plt.title('Dialysis Simulation')\n",
        "plt.legend()\n",
        "plt.show()"
      ],
      "metadata": {
        "colab": {
          "base_uri": "https://localhost:8080/",
          "height": 310
        },
        "id": "Za1R3nNmiYD6",
        "outputId": "79964299-37ad-4027-b5f3-f5dfe2046f0c"
      },
      "id": "Za1R3nNmiYD6",
      "execution_count": 24,
      "outputs": [
        {
          "output_type": "display_data",
          "data": {
            "text/plain": [
              "<Figure size 450x300 with 1 Axes>"
            ],
            "image/png": "[encoded data removed]"
          },
          "metadata": {}
        }
      ]
    },
    {
      "cell_type": "code",
      "source": [],
      "metadata": {
        "id": "f1iY14qSiYBv"
      },
      "id": "f1iY14qSiYBv",
      "execution_count": 24,
      "outputs": []
    }
  ],
  "metadata": {
    "celltoolbar": "Tags",
    "kernelspec": {
      "display_name": "Python 3 (ipykernel)",
      "language": "python",
      "name": "python3"
    },
    "language_info": {
      "codemirror_mode": {
        "name": "ipython",
        "version": 3
      },
      "file_extension": ".py",
      "mimetype": "text/x-python",
      "name": "python",
      "nbconvert_exporter": "python",
      "pygments_lexer": "ipython3",
      "version": "3.8.16"
    },
    "colab": {
      "provenance": []
    }
  },
  "nbformat": 4,
  "nbformat_minor": 5
}