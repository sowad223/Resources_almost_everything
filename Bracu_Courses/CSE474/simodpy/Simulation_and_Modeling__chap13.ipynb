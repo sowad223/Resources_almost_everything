{
  "cells": [
    {
      "cell_type": "code",
      "execution_count": 1,
      "id": "complicated-retreat",
      "metadata": {
        "tags": [],
        "id": "complicated-retreat",
        "colab": {
          "base_uri": "https://localhost:8080/"
        },
        "outputId": "a71a2463-682b-4c8a-9b2a-f8919aa90fa0"
      },
      "outputs": [
        {
          "output_type": "stream",
          "name": "stdout",
          "text": [
            "Collecting pint\n",
            "  Downloading Pint-0.22-py3-none-any.whl (294 kB)\n",
            "\u001b[2K     \u001b[90m━━━━━━━━━━━━━━━━━━━━━━━━━━━━━━━━━━━━━━━━\u001b[0m \u001b[32m294.0/294.0 kB\u001b[0m \u001b[31m5.0 MB/s\u001b[0m eta \u001b[36m0:00:00\u001b[0m\n",
            "\u001b[?25hRequirement already satisfied: typing-extensions in /usr/local/lib/python3.10/dist-packages (from pint) (4.5.0)\n",
            "Installing collected packages: pint\n",
            "Successfully installed pint-0.22\n"
          ]
        }
      ],
      "source": [
        "# install Pint if necessary\n",
        "\n",
        "try:\n",
        "    import pint\n",
        "except ImportError:\n",
        "    !pip install pint"
      ]
    },
    {
      "cell_type": "code",
      "execution_count": 2,
      "id": "selected-there",
      "metadata": {
        "tags": [],
        "id": "selected-there",
        "colab": {
          "base_uri": "https://localhost:8080/"
        },
        "outputId": "bfe75ada-c55a-43fc-a42e-fc2e30ba4489"
      },
      "outputs": [
        {
          "output_type": "stream",
          "name": "stdout",
          "text": [
            "Downloaded modsim.py\n"
          ]
        }
      ],
      "source": [
        "# download modsim.py if necessary\n",
        "\n",
        "from os.path import basename, exists\n",
        "\n",
        "def download(url):\n",
        "    filename = basename(url)\n",
        "    if not exists(filename):\n",
        "        from urllib.request import urlretrieve\n",
        "        local, _ = urlretrieve(url, filename)\n",
        "        print('Downloaded ' + local)\n",
        "\n",
        "download('https://raw.githubusercontent.com/AllenDowney/' +\n",
        "         'ModSimPy/master/modsim.py')"
      ]
    },
    {
      "cell_type": "code",
      "execution_count": 3,
      "id": "prepared-apparatus",
      "metadata": {
        "tags": [],
        "id": "prepared-apparatus"
      },
      "outputs": [],
      "source": [
        "# import functions from modsim\n",
        "\n",
        "from modsim import *"
      ]
    },
    {
      "cell_type": "code",
      "execution_count": 4,
      "id": "awful-martial",
      "metadata": {
        "tags": [],
        "id": "awful-martial",
        "colab": {
          "base_uri": "https://localhost:8080/"
        },
        "outputId": "d2d32ea3-6428-4f28-fb38-911180f33074"
      },
      "outputs": [
        {
          "output_type": "stream",
          "name": "stdout",
          "text": [
            "Downloaded chap11.py\n"
          ]
        }
      ],
      "source": [
        "download('https://github.com/AllenDowney/ModSimPy/raw/master/chap11.py')"
      ]
    },
    {
      "cell_type": "code",
      "execution_count": 5,
      "id": "changing-burner",
      "metadata": {
        "tags": [],
        "id": "changing-burner",
        "colab": {
          "base_uri": "https://localhost:8080/"
        },
        "outputId": "932fcaaf-fe8a-493b-fdf4-47a3216e9870"
      },
      "outputs": [
        {
          "output_type": "stream",
          "name": "stdout",
          "text": [
            "Downloaded chap12.py\n"
          ]
        }
      ],
      "source": [
        "download('https://github.com/AllenDowney/ModSimPy/raw/master/chap12.py')"
      ]
    },
    {
      "cell_type": "code",
      "execution_count": 6,
      "id": "defensive-automation",
      "metadata": {
        "tags": [],
        "id": "defensive-automation"
      },
      "outputs": [],
      "source": [
        "# import code from previous notebooks\n",
        "\n",
        "from chap11 import make_system\n",
        "from chap11 import update_func\n",
        "from chap11 import run_simulation\n",
        "from chap11 import plot_results\n",
        "\n",
        "from chap12 import calc_total_infected"
      ]
    },
    {
      "cell_type": "code",
      "execution_count": 7,
      "id": "forward-responsibility",
      "metadata": {
        "id": "forward-responsibility"
      },
      "outputs": [],
      "source": [
        "beta_array = linspace(0.1, 1.1, 11)\n",
        "gamma = 0.25"
      ]
    },
    {
      "cell_type": "code",
      "execution_count": 8,
      "id": "dutch-chemistry",
      "metadata": {
        "tags": [],
        "id": "dutch-chemistry"
      },
      "outputs": [],
      "source": [
        "def sweep_beta(beta_array, gamma):\n",
        "    sweep = SweepSeries()\n",
        "    for beta in beta_array:\n",
        "        system = make_system(beta, gamma)\n",
        "        results = run_simulation(system, update_func)\n",
        "        sweep[beta] = calc_total_infected(results, system)\n",
        "    return sweep"
      ]
    },
    {
      "cell_type": "code",
      "execution_count": 9,
      "id": "christian-singer",
      "metadata": {
        "id": "christian-singer"
      },
      "outputs": [],
      "source": [
        "infected_sweep = sweep_beta(beta_array, gamma)"
      ]
    },
    {
      "cell_type": "code",
      "execution_count": 10,
      "id": "proprietary-credit",
      "metadata": {
        "id": "proprietary-credit",
        "colab": {
          "base_uri": "https://localhost:8080/",
          "height": 35
        },
        "outputId": "412f3f7b-b30f-4648-faba-46ece97e2ee5"
      },
      "outputs": [
        {
          "output_type": "execute_result",
          "data": {
            "text/plain": [
              "'gamma = 0.25'"
            ],
            "application/vnd.google.colaboratory.intrinsic+json": {
              "type": "string"
            }
          },
          "metadata": {},
          "execution_count": 10
        }
      ],
      "source": [
        "label = f'gamma = {gamma}'\n",
        "label"
      ]
    },
    {
      "cell_type": "code",
      "execution_count": 11,
      "id": "developmental-video",
      "metadata": {
        "id": "developmental-video",
        "colab": {
          "base_uri": "https://localhost:8080/",
          "height": 309
        },
        "outputId": "de8ed583-89ca-447c-cf49-50651322a58b"
      },
      "outputs": [
        {
          "output_type": "display_data",
          "data": {
            "text/plain": [
              "<Figure size 450x300 with 1 Axes>"
            ],
            "image/png": "[encoded data removed]"
          },
          "metadata": {}
        }
      ],
      "source": [
        "infected_sweep.plot(label=label, color='C1')\n",
        "\n",
        "decorate(xlabel='Contact rate (beta)',\n",
        "         ylabel='Fraction infected')"
      ]
    },
    {
      "cell_type": "code",
      "execution_count": 12,
      "id": "chief-greece",
      "metadata": {
        "id": "chief-greece",
        "colab": {
          "base_uri": "https://localhost:8080/"
        },
        "outputId": "7dfb2422-8303-4671-f66e-6ecdb271c549"
      },
      "outputs": [
        {
          "output_type": "execute_result",
          "data": {
            "text/plain": [
              "array([0.1, 0.3, 0.5, 0.7])"
            ]
          },
          "metadata": {},
          "execution_count": 12
        }
      ],
      "source": [
        "gamma_array = linspace(0.1, 0.7, 4)\n",
        "gamma_array"
      ]
    },
    {
      "cell_type": "code",
      "execution_count": 13,
      "id": "thermal-pulse",
      "metadata": {
        "id": "thermal-pulse",
        "colab": {
          "base_uri": "https://localhost:8080/",
          "height": 309
        },
        "outputId": "5f2ece98-4c31-45cf-b90e-5fbcf9d7d7e3"
      },
      "outputs": [
        {
          "output_type": "display_data",
          "data": {
            "text/plain": [
              "<Figure size 450x300 with 1 Axes>"
            ],
            "image/png": "[encoded data removed]"
          },
          "metadata": {}
        }
      ],
      "source": [
        "for gamma in gamma_array:\n",
        "    infected_sweep = sweep_beta(beta_array, gamma)\n",
        "    label = f'gamma = {gamma}'\n",
        "    infected_sweep.plot(label=label)\n",
        "\n",
        "decorate(xlabel='Contact rate (beta)',\n",
        "         ylabel='Fraction infected')"
      ]
    },
    {
      "cell_type": "code",
      "execution_count": 14,
      "id": "scientific-dealer",
      "metadata": {
        "tags": [],
        "id": "scientific-dealer"
      },
      "outputs": [],
      "source": [
        "def sweep_parameters(beta_array, gamma_array):\n",
        "    frame = SweepFrame(columns=gamma_array)\n",
        "    for gamma in gamma_array:\n",
        "        frame[gamma] = sweep_beta(beta_array, gamma)\n",
        "    return frame"
      ]
    },
    {
      "cell_type": "code",
      "execution_count": null,
      "id": "engaging-philosophy",
      "metadata": {
        "id": "engaging-philosophy"
      },
      "outputs": [],
      "source": [
        "frame = sweep_parameters(beta_array, gamma_array)"
      ]
    },
    {
      "cell_type": "markdown",
      "id": "realistic-hughes",
      "metadata": {
        "id": "realistic-hughes"
      },
      "source": [
        "With the results in a `SweepFrame`, we can plot each column like this:"
      ]
    },
    {
      "cell_type": "code",
      "execution_count": null,
      "id": "false-forestry",
      "metadata": {
        "id": "false-forestry"
      },
      "outputs": [],
      "source": [
        "for gamma in gamma_array:\n",
        "    label = f'gamma = {gamma}'\n",
        "    frame[gamma].plot(label=label)\n",
        "\n",
        "decorate(xlabel='Contact rate (beta)',\n",
        "         ylabel='Fraction infected',\n",
        "         title='Sweep beta, multiple values of gamma')"
      ]
    },
    {
      "cell_type": "markdown",
      "id": "armed-spending",
      "metadata": {
        "id": "armed-spending"
      },
      "source": [
        "Alternatively, we can plot each row like this:"
      ]
    },
    {
      "cell_type": "code",
      "execution_count": null,
      "id": "silent-advantage",
      "metadata": {
        "id": "silent-advantage"
      },
      "outputs": [],
      "source": [
        "for beta in [0.2, 0.5, 0.8, 1.1]:\n",
        "    label = f'beta = {beta}'\n",
        "    frame.loc[beta].plot(label=label)\n",
        "\n",
        "decorate(xlabel='Recovery rate (gamma)',\n",
        "         ylabel='Fraction infected',\n",
        "         title='Sweep gamma, multiple values of beta')"
      ]
    },
    {
      "cell_type": "code",
      "execution_count": null,
      "id": "veterinary-cheese",
      "metadata": {
        "id": "veterinary-cheese"
      },
      "outputs": [],
      "source": [
        "contour(frame)\n",
        "\n",
        "decorate(xlabel='Recovery rate (gamma)',\n",
        "         ylabel='Contact rate (beta)',\n",
        "         title='Contour plot, fraction infected')"
      ]
    },
    {
      "cell_type": "markdown",
      "id": "conscious-blues",
      "metadata": {
        "id": "conscious-blues"
      },
      "source": [
        "### Exercise 1\n",
        "\n",
        ""
      ]
    },
    {
      "cell_type": "code",
      "execution_count": null,
      "id": "democratic-driving",
      "metadata": {
        "id": "democratic-driving"
      },
      "outputs": [],
      "source": [
        "def sweep_beta_max(beta_array, gamma):\n",
        "    sweep = SweepSeries()\n",
        "    for beta in beta_array:\n",
        "        system = make_system(beta, gamma)\n",
        "        results = run_simulation(system, update_func)\n",
        "        sweep[beta] = results.i.max()\n",
        "    return sweep"
      ]
    },
    {
      "cell_type": "code",
      "execution_count": null,
      "id": "stretch-israel",
      "metadata": {
        "id": "stretch-israel"
      },
      "outputs": [],
      "source": [
        "def sweep_parameters_max(beta_array, gamma_array):\n",
        "    frame = SweepFrame(columns=gamma_array)\n",
        "    for gamma in gamma_array:\n",
        "        frame[gamma] = sweep_beta_max(beta_array, gamma)\n",
        "    return frame"
      ]
    },
    {
      "cell_type": "code",
      "execution_count": null,
      "id": "controlling-strand",
      "metadata": {
        "id": "controlling-strand"
      },
      "outputs": [],
      "source": [
        "frame_max = sweep_parameters_max(beta_array, gamma_array)\n"
      ]
    },
    {
      "cell_type": "code",
      "execution_count": null,
      "id": "instructional-hayes",
      "metadata": {
        "id": "instructional-hayes"
      },
      "outputs": [],
      "source": [
        "contour(frame_max)\n",
        "\n",
        "decorate(xlabel='Recovery rate (gamma)',\n",
        "         ylabel='Contact rate (beta)',\n",
        "         title='Contour plot, maximum I')"
      ]
    },
    {
      "cell_type": "code",
      "source": [
        "system = make_system(0.8, 0.2)\n",
        "results = run_simulation(system, update_func)\n",
        "plot_results(results.s, results.i, results.r)"
      ],
      "metadata": {
        "id": "4NhcG9HHqMMo"
      },
      "id": "4NhcG9HHqMMo",
      "execution_count": null,
      "outputs": []
    },
    {
      "cell_type": "code",
      "source": [
        "from matplotlib.pyplot import plot\n",
        "\n",
        "def plot_sweep_frame(frame):\n",
        "    for gamma in frame.columns:\n",
        "        series = frame[gamma]\n",
        "        for beta in series.index:\n",
        "            metric = series[beta]\n",
        "            plot(beta/gamma, metric, '.', color='C1')"
      ],
      "metadata": {
        "id": "VeK96HfqqMPY"
      },
      "id": "VeK96HfqqMPY",
      "execution_count": null,
      "outputs": []
    },
    {
      "cell_type": "code",
      "source": [
        "plot_sweep_frame(frame_max)\n"
      ],
      "metadata": {
        "id": "isD6vFgjqMSI"
      },
      "id": "isD6vFgjqMSI",
      "execution_count": null,
      "outputs": []
    },
    {
      "cell_type": "code",
      "source": [
        "frac_infected_series = make_series(c_array, frac_infected)\n"
      ],
      "metadata": {
        "id": "KycLrg1dqUlD"
      },
      "id": "KycLrg1dqUlD",
      "execution_count": null,
      "outputs": []
    },
    {
      "cell_type": "code",
      "source": [
        "\n",
        "from pandas import Series\n",
        "\n",
        "frac_infected_series = Series(frac_infected, c_array)"
      ],
      "metadata": {
        "id": "64Wm9f2kqUhr"
      },
      "id": "64Wm9f2kqUhr",
      "execution_count": null,
      "outputs": []
    },
    {
      "cell_type": "code",
      "source": [],
      "metadata": {
        "id": "Imbo7iiKqUfN"
      },
      "id": "Imbo7iiKqUfN",
      "execution_count": null,
      "outputs": []
    },
    {
      "cell_type": "code",
      "source": [],
      "metadata": {
        "id": "aFF_aZ7kqMUo"
      },
      "id": "aFF_aZ7kqMUo",
      "execution_count": null,
      "outputs": []
    }
  ],
  "metadata": {
    "celltoolbar": "Tags",
    "kernelspec": {
      "display_name": "Python 3 (ipykernel)",
      "language": "python",
      "name": "python3"
    },
    "language_info": {
      "codemirror_mode": {
        "name": "ipython",
        "version": 3
      },
      "file_extension": ".py",
      "mimetype": "text/x-python",
      "name": "python",
      "nbconvert_exporter": "python",
      "pygments_lexer": "ipython3",
      "version": "3.7.12"
    },
    "colab": {
      "provenance": []
    }
  },
  "nbformat": 4,
  "nbformat_minor": 5
}