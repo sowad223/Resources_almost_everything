{
  "cells": [
    {
      "cell_type": "code",
      "execution_count": 128,
      "id": "dependent-monitoring",
      "metadata": {
        "tags": [],
        "id": "dependent-monitoring"
      },
      "outputs": [],
      "source": [
        "# download modsim.py if necessary\n",
        "\n",
        "from os.path import basename, exists\n",
        "\n",
        "def download(url):\n",
        "    filename = basename(url)\n",
        "    if not exists(filename):\n",
        "        from urllib.request import urlretrieve\n",
        "        local, _ = urlretrieve(url, filename)\n",
        "        print('Downloaded ' + local)\n",
        "\n",
        "download('https://github.com/AllenDowney/ModSimPy/raw/master/' +\n",
        "         'modsim.py')"
      ]
    },
    {
      "cell_type": "code",
      "execution_count": 129,
      "id": "continental-decrease",
      "metadata": {
        "tags": [],
        "id": "continental-decrease"
      },
      "outputs": [],
      "source": [
        "# import functions from modsim\n",
        "\n",
        "from modsim import *"
      ]
    },
    {
      "cell_type": "code",
      "source": [
        "from modsim import State, System, TimeSeries, linrange, linspace, SweepSeries\n"
      ],
      "metadata": {
        "id": "i1KXAvvG6CIi"
      },
      "id": "i1KXAvvG6CIi",
      "execution_count": 130,
      "outputs": []
    },
    {
      "cell_type": "code",
      "source": [
        "def make_tea_system(T_init, volume, r, t_end):\n",
        "    return System(T_init=T_init,\n",
        "                  T_final=T_init,\n",
        "                  volume=volume,\n",
        "                  r=r,\n",
        "                  t_end=t_end,\n",
        "                  T_env=22,  # Ambient temperature\n",
        "                  t_0=0,\n",
        "                  dt=1)"
      ],
      "metadata": {
        "id": "0oADT8Ki6CFF"
      },
      "id": "0oADT8Ki6CFF",
      "execution_count": 131,
      "outputs": []
    },
    {
      "cell_type": "code",
      "source": [
        "def run_tea_simulation(system, change_func):\n",
        "    t_array = linrange(system.t_0, system.t_end, system.dt)\n",
        "    n = len(t_array)\n",
        "\n",
        "    series = TimeSeries(index=t_array)\n",
        "    series.iloc[0] = system.T_init\n",
        "\n",
        "    for i in range(n - 1):\n",
        "        t = t_array[i]\n",
        "        T = series.iloc[i]\n",
        "        series.iloc[i + 1] = T + change_func(t, T, system)\n",
        "\n",
        "    system.T_final = series.iloc[-1]\n",
        "    return series"
      ],
      "metadata": {
        "id": "ayV8ljik6CCI"
      },
      "id": "ayV8ljik6CCI",
      "execution_count": 132,
      "outputs": []
    },
    {
      "cell_type": "code",
      "source": [
        "def tea_change_func(t, T, system):\n",
        "    r, T_env, dt = system.r, system.T_env, system.dt\n",
        "    return -r * (T - T_env) * dt"
      ],
      "metadata": {
        "id": "AaLJc3Gw6B_r"
      },
      "id": "AaLJc3Gw6B_r",
      "execution_count": 133,
      "outputs": []
    },
    {
      "cell_type": "code",
      "source": [
        "def mix_tea(system1, system2):\n",
        "    V1, V2 = system1.volume, system2.volume\n",
        "    T1, T2 = system1.T_final, system2.T_final\n",
        "\n",
        "    V_mix = V1 + V2\n",
        "    T_mix = (V1 * T1 + V2 * T2) / V_mix\n",
        "\n",
        "    return make_tea_system(T_init=T_mix,\n",
        "                           volume=V_mix,\n",
        "                           r=system1.r,\n",
        "                           t_end=30)\n"
      ],
      "metadata": {
        "id": "blYj3ABt6B2o"
      },
      "id": "blYj3ABt6B2o",
      "execution_count": 134,
      "outputs": []
    },
    {
      "cell_type": "code",
      "source": [
        "def sweep_mixing_time(system1, system2):\n",
        "    sweep = SweepSeries()\n",
        "\n",
        "    for t_add in linspace(0, 30, 11):\n",
        "        mixture = mix_tea(system1, system2)\n",
        "        mixture.t_end = 30 - t_add\n",
        "        run_tea_simulation(mixture, tea_change_func)\n",
        "        sweep[t_add] = mixture.T_final\n",
        "\n",
        "    return sweep"
      ],
      "metadata": {
        "id": "dglgfiZs6Ibc"
      },
      "id": "dglgfiZs6Ibc",
      "execution_count": 135,
      "outputs": []
    },
    {
      "cell_type": "code",
      "source": [
        "r_tea = 0.0115\n",
        "tea = make_tea_system(T_init=90, volume=300, r=r_tea, t_end=30)\n",
        "results_tea = run_tea_simulation(tea, tea_change_func)"
      ],
      "metadata": {
        "id": "ykG1xxuM6IX3"
      },
      "id": "ykG1xxuM6IX3",
      "execution_count": 136,
      "outputs": []
    },
    {
      "cell_type": "code",
      "source": [
        "r_milk = 0.133  # Replace with the appropriate value\n",
        "milk = make_tea_system(T_init=5, volume=50, r=r_milk, t_end=15)\n",
        "results_milk = run_tea_simulation(milk, tea_change_func)"
      ],
      "metadata": {
        "id": "DceKTfmR6Otw"
      },
      "id": "DceKTfmR6Otw",
      "execution_count": 137,
      "outputs": []
    },
    {
      "cell_type": "code",
      "source": [
        "mix_first_tea = mix_tea(tea, milk)\n",
        "run_tea_simulation(mix_first_tea, tea_change_func)\n",
        "print(\"Temperature after mixing at the beginning:\", mix_first_tea.T_final)"
      ],
      "metadata": {
        "colab": {
          "base_uri": "https://localhost:8080/"
        },
        "id": "uGx8hLtt6OqO",
        "outputId": "f9340eef-9e5c-4473-fcd7-7258b8b8252a"
      },
      "id": "uGx8hLtt6OqO",
      "execution_count": 138,
      "outputs": [
        {
          "output_type": "stream",
          "name": "stdout",
          "text": [
            "Temperature after mixing at the beginning: 50.916259454305184\n"
          ]
        }
      ]
    },
    {
      "cell_type": "code",
      "source": [
        "sweep_results = sweep_mixing_time(tea, milk)\n",
        "\n",
        "# Plotting the results\n",
        "sweep_results.plot(label='mixture', color='C2')\n",
        "decorate(xlabel='Time until mixing (min)',\n",
        "         ylabel='Final temperature (C)')"
      ],
      "metadata": {
        "colab": {
          "base_uri": "https://localhost:8080/",
          "height": 309
        },
        "id": "zLa097qT6On8",
        "outputId": "2509e103-49ed-43e5-999f-a61ebbfc64d7"
      },
      "id": "zLa097qT6On8",
      "execution_count": 139,
      "outputs": [
        {
          "output_type": "display_data",
          "data": {
            "text/plain": [
              "<Figure size 450x300 with 1 Axes>"
            ],
            "image/png": "[encoded data removed]"
          },
          "metadata": {}
        }
      ]
    }
  ],
  "metadata": {
    "celltoolbar": "Tags",
    "kernelspec": {
      "display_name": "Python 3 (ipykernel)",
      "language": "python",
      "name": "python3"
    },
    "language_info": {
      "codemirror_mode": {
        "name": "ipython",
        "version": 3
      },
      "file_extension": ".py",
      "mimetype": "text/x-python",
      "name": "python",
      "nbconvert_exporter": "python",
      "pygments_lexer": "ipython3",
      "version": "3.10.6"
    },
    "colab": {
      "provenance": []
    }
  },
  "nbformat": 4,
  "nbformat_minor": 5
}