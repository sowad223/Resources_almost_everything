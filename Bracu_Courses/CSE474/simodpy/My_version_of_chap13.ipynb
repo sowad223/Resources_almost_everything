{
  "cells": [
    {
      "cell_type": "code",
      "execution_count": 33,
      "metadata": {
        "id": "selected-there"
      },
      "outputs": [],
      "source": [
        "# download modsim.py if necessary\n",
        "\n",
        "from os.path import basename, exists\n",
        "\n",
        "def download(url):\n",
        "    filename = basename(url)\n",
        "    if not exists(filename):\n",
        "        from urllib.request import urlretrieve\n",
        "        local, _ = urlretrieve(url, filename)\n",
        "        print('Downloaded ' + local)\n",
        "\n",
        "download('https://raw.githubusercontent.com/AllenDowney/' +\n",
        "         'ModSimPy/master/modsim.py')"
      ],
      "id": "selected-there"
    },
    {
      "cell_type": "code",
      "execution_count": 34,
      "metadata": {
        "id": "prepared-apparatus"
      },
      "outputs": [],
      "source": [
        "# import functions from modsim\n",
        "\n",
        "from modsim import *"
      ],
      "id": "prepared-apparatus"
    },
    {
      "cell_type": "code",
      "execution_count": 35,
      "metadata": {
        "id": "awful-martial"
      },
      "outputs": [],
      "source": [
        "download('https://github.com/AllenDowney/ModSimPy/raw/master/chap11.py')"
      ],
      "id": "awful-martial"
    },
    {
      "cell_type": "code",
      "execution_count": 36,
      "metadata": {
        "id": "changing-burner"
      },
      "outputs": [],
      "source": [
        "download('https://github.com/AllenDowney/ModSimPy/raw/master/chap12.py')"
      ],
      "id": "changing-burner"
    },
    {
      "cell_type": "code",
      "execution_count": 37,
      "metadata": {
        "id": "defensive-automation"
      },
      "outputs": [],
      "source": [
        "# import code from previous notebooks\n",
        "\n",
        "from chap11 import make_system\n",
        "from chap11 import update_func\n",
        "from chap11 import run_simulation\n",
        "from chap11 import plot_results\n",
        "\n",
        "from chap12 import calc_total_infected"
      ],
      "id": "defensive-automation"
    },
    {
      "cell_type": "code",
      "execution_count": 38,
      "metadata": {
        "id": "aFF_aZ7kqMUo"
      },
      "outputs": [],
      "source": [
        "from modsim import System, State, linspace, SweepSeries, SweepFrame\n",
        "import matplotlib.pyplot as plt\n",
        "\n"
      ],
      "id": "aFF_aZ7kqMUo"
    },
    {
      "cell_type": "code",
      "source": [
        "beta_array_covid = linspace(0.1, 1.1, 11)\n",
        "gamma_array_covid = linspace(0.1, 0.7, 4)\n",
        "days_covid = 100"
      ],
      "metadata": {
        "id": "C2zOo6O2BC6x"
      },
      "id": "C2zOo6O2BC6x",
      "execution_count": 39,
      "outputs": []
    },
    {
      "cell_type": "code",
      "source": [
        "def update_covid_func(state, t, system):\n",
        "    s, i, r = state\n",
        "    infected = system.beta * i * s\n",
        "    recovered = system.gamma * i\n",
        "    ds = -infected\n",
        "    di = infected - recovered\n",
        "    dr = recovered\n",
        "    return State(s=s + ds, i=i + di, r=r + dr)"
      ],
      "metadata": {
        "id": "eduuNMakBFTk"
      },
      "id": "eduuNMakBFTk",
      "execution_count": 40,
      "outputs": []
    },
    {
      "cell_type": "code",
      "source": [
        "def run_simulation_covid(system, update_func):\n",
        "    state = State(s=system.init_s, i=system.init_i, r=system.init_r)\n",
        "    results = TimeSeries()\n",
        "\n",
        "    for t in linrange(0, system.t_end):\n",
        "        results[t] = state\n",
        "        state = update_func(state, t, system)\n",
        "\n",
        "    return results"
      ],
      "metadata": {
        "id": "gWqo2TylBFP-"
      },
      "id": "gWqo2TylBFP-",
      "execution_count": 41,
      "outputs": []
    },
    {
      "cell_type": "code",
      "source": [
        "def sweep_beta_covid(beta_array, gamma):\n",
        "    sweep = SweepSeries()\n",
        "    for beta in beta_array:\n",
        "        system = System(beta=beta, gamma=gamma, init_s=0.99, init_i=0.01, init_r=0, t_end=days_covid)\n",
        "        results = run_simulation_covid(system, update_covid_func)\n",
        "        sweep[beta] = results[days_covid]['i']  # Store the fraction infected at the end of simulation\n",
        "    return sweep"
      ],
      "metadata": {
        "id": "Uy25pkb_BFN7"
      },
      "id": "Uy25pkb_BFN7",
      "execution_count": 42,
      "outputs": []
    },
    {
      "cell_type": "code",
      "source": [
        "def sweep_parameters_covid(beta_array, gamma_array, days):\n",
        "    frame = SweepFrame(columns=gamma_array)\n",
        "    for gamma in gamma_array:\n",
        "        frame[gamma] = sweep_beta_covid(beta_array, gamma)\n",
        "    return frame"
      ],
      "metadata": {
        "id": "vkxOvbjKBJwe"
      },
      "id": "vkxOvbjKBJwe",
      "execution_count": 43,
      "outputs": []
    },
    {
      "cell_type": "code",
      "source": [
        "frame_covid = sweep_parameters_covid(beta_array_covid, gamma_array_covid, days_covid)\n"
      ],
      "metadata": {
        "id": "AeSo41UQBJtG"
      },
      "id": "AeSo41UQBJtG",
      "execution_count": 44,
      "outputs": []
    },
    {
      "cell_type": "code",
      "source": [
        "for gamma in gamma_array_covid:\n",
        "    label = f'gamma = {gamma}'\n",
        "    frame_covid[gamma].plot(label=label)\n",
        "\n",
        "# Decorate the plot\n",
        "plt.xlabel('Contact rate (beta)')\n",
        "plt.ylabel('Fraction infected')\n",
        "plt.title('Sweep beta, multiple values of gamma')\n",
        "plt.legend(loc='upper right')\n",
        "plt.show()"
      ],
      "metadata": {
        "colab": {
          "base_uri": "https://localhost:8080/",
          "height": 310
        },
        "id": "Kcw48hsbBJqz",
        "outputId": "359e5dda-b3a1-48fe-f893-51c78aefc264"
      },
      "id": "Kcw48hsbBJqz",
      "execution_count": 48,
      "outputs": [
        {
          "output_type": "display_data",
          "data": {
            "text/plain": [
              "<Figure size 450x300 with 1 Axes>"
            ],
            "image/png": "[encoded data removed]"
          },
          "metadata": {}
        }
      ]
    },
    {
      "cell_type": "code",
      "source": [],
      "metadata": {
        "id": "m-lt-nu5BPte"
      },
      "id": "m-lt-nu5BPte",
      "execution_count": null,
      "outputs": []
    },
    {
      "cell_type": "code",
      "source": [],
      "metadata": {
        "id": "rbeZAK5hBPqE"
      },
      "id": "rbeZAK5hBPqE",
      "execution_count": 46,
      "outputs": []
    }
  ],
  "metadata": {
    "celltoolbar": "Tags",
    "colab": {
      "provenance": []
    },
    "kernelspec": {
      "display_name": "Python 3 (ipykernel)",
      "language": "python",
      "name": "python3"
    },
    "language_info": {
      "codemirror_mode": {
        "name": "ipython",
        "version": 3
      },
      "file_extension": ".py",
      "mimetype": "text/x-python",
      "name": "python",
      "nbconvert_exporter": "python",
      "pygments_lexer": "ipython3",
      "version": "3.7.12"
    }
  },
  "nbformat": 4,
  "nbformat_minor": 5
}