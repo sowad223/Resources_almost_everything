{
  "cells": [
    {
      "cell_type": "code",
      "execution_count": 75,
      "id": "dependent-monitoring",
      "metadata": {
        "tags": [],
        "id": "dependent-monitoring"
      },
      "outputs": [],
      "source": [
        "# download modsim.py if necessary\n",
        "\n",
        "from os.path import basename, exists\n",
        "\n",
        "def download(url):\n",
        "    filename = basename(url)\n",
        "    if not exists(filename):\n",
        "        from urllib.request import urlretrieve\n",
        "        local, _ = urlretrieve(url, filename)\n",
        "        print('Downloaded ' + local)\n",
        "\n",
        "download('https://github.com/AllenDowney/ModSimPy/raw/master/' +\n",
        "         'modsim.py')"
      ]
    },
    {
      "cell_type": "code",
      "execution_count": 76,
      "id": "continental-decrease",
      "metadata": {
        "tags": [],
        "id": "continental-decrease"
      },
      "outputs": [],
      "source": [
        "# import functions from modsim\n",
        "\n",
        "from modsim import *"
      ]
    },
    {
      "cell_type": "code",
      "source": [
        "import numpy as np\n",
        "from modsim import State, System, TimeSeries, linrange,  root_scalar, decorate"
      ],
      "metadata": {
        "id": "bAzAtNVnyaQZ"
      },
      "id": "bAzAtNVnyaQZ",
      "execution_count": 77,
      "outputs": []
    },
    {
      "cell_type": "code",
      "source": [
        "# Define the change function based on Newton's law of cooling\n",
        "def change_func(t, T, system):\n",
        "    r, T_env, dt = system.r, system.T_env, system.dt\n",
        "    return -r * (T - T_env) * dt"
      ],
      "metadata": {
        "id": "AWKhmdZVyaK0"
      },
      "id": "AWKhmdZVyaK0",
      "execution_count": 78,
      "outputs": []
    },
    {
      "cell_type": "code",
      "source": [
        "def make_system(T_init, volume, r, t_end):\n",
        "    return System(T_init=T_init,\n",
        "                  T_final=T_init,\n",
        "                  volume=volume,\n",
        "                  r=r,\n",
        "                  t_end=t_end,\n",
        "                  T_env=22,\n",
        "                  t_0=0,\n",
        "                  dt=1)"
      ],
      "metadata": {
        "id": "HI8GoW-5ydUT"
      },
      "id": "HI8GoW-5ydUT",
      "execution_count": 79,
      "outputs": []
    },
    {
      "cell_type": "code",
      "source": [
        "def run_simulation(system, change_func):\n",
        "    t_array = linrange(system.t_0, system.t_end, system.dt)\n",
        "    n = len(t_array)\n",
        "\n",
        "    series = TimeSeries(index=t_array)\n",
        "    series.iloc[0] = system.T_init\n",
        "\n",
        "    for i in range(n-1):\n",
        "        t = t_array[i]\n",
        "        T = series.iloc[i]\n",
        "        series.iloc[i+1] = T + change_func(t, T, system)\n",
        "\n",
        "    system.T_final = series.iloc[-1]\n",
        "    return series"
      ],
      "metadata": {
        "id": "sAbDVeLOyh0F"
      },
      "id": "sAbDVeLOyh0F",
      "execution_count": 80,
      "outputs": []
    },
    {
      "cell_type": "code",
      "source": [
        "def error_func(r, system):\n",
        "    system.r = r\n",
        "    results = run_simulation(system, change_func)\n",
        "    return system.T_final - 70"
      ],
      "metadata": {
        "id": "bIh8Hy4Uym2Z"
      },
      "id": "bIh8Hy4Uym2Z",
      "execution_count": 81,
      "outputs": []
    },
    {
      "cell_type": "code",
      "source": [
        "def error_func_milk(r, system):\n",
        "    system.r = r\n",
        "    results = run_simulation(system, change_func)\n",
        "    return system.T_final - 20"
      ],
      "metadata": {
        "id": "VA3ibV0-ymnz"
      },
      "id": "VA3ibV0-ymnz",
      "execution_count": 82,
      "outputs": []
    },
    {
      "cell_type": "code",
      "source": [
        "coffee = make_system(T_init=90, volume=300, r=0.01, t_end=30)\n"
      ],
      "metadata": {
        "id": "dWrKTTZWypms"
      },
      "id": "dWrKTTZWypms",
      "execution_count": 83,
      "outputs": []
    },
    {
      "cell_type": "code",
      "source": [
        "results_coffee = run_simulation(coffee, change_func)\n"
      ],
      "metadata": {
        "id": "dhOymMG-ypga"
      },
      "id": "dhOymMG-ypga",
      "execution_count": 84,
      "outputs": []
    },
    {
      "cell_type": "code",
      "source": [
        "res_coffee = root_scalar(error_func, coffee, bracket=[0.01, 0.02])\n",
        "r_coffee = res_coffee.root"
      ],
      "metadata": {
        "id": "DVRy3MH1yyoD"
      },
      "id": "DVRy3MH1yyoD",
      "execution_count": 85,
      "outputs": []
    },
    {
      "cell_type": "code",
      "source": [
        "coffee.r = r_coffee\n",
        "results_coffee = run_simulation(coffee, change_func)\n"
      ],
      "metadata": {
        "id": "Q6GnRvKwyyks"
      },
      "id": "Q6GnRvKwyyks",
      "execution_count": 86,
      "outputs": []
    },
    {
      "cell_type": "code",
      "source": [
        "milk = make_system(T_init=5, volume=50, r=0.1, t_end=15)\n"
      ],
      "metadata": {
        "id": "WC4BBYpZy6Bq"
      },
      "id": "WC4BBYpZy6Bq",
      "execution_count": 87,
      "outputs": []
    },
    {
      "cell_type": "code",
      "source": [
        "results_milk = run_simulation(milk, change_func)\n"
      ],
      "metadata": {
        "id": "H_MzBtsWy5-I"
      },
      "id": "H_MzBtsWy5-I",
      "execution_count": 88,
      "outputs": []
    },
    {
      "cell_type": "code",
      "source": [
        "res_milk = root_scalar(error_func_milk, milk, bracket=[0.1, 0.2])\n",
        "r_milk = res_milk.root"
      ],
      "metadata": {
        "id": "mYRM01Ujy56-"
      },
      "id": "mYRM01Ujy56-",
      "execution_count": 89,
      "outputs": []
    },
    {
      "cell_type": "code",
      "source": [
        "milk.r = r_milk\n",
        "results_milk = run_simulation(milk, change_func)"
      ],
      "metadata": {
        "id": "RCgls0loy_rD"
      },
      "id": "RCgls0loy_rD",
      "execution_count": 90,
      "outputs": []
    },
    {
      "cell_type": "code",
      "source": [
        "soup = make_system(T_init=85, volume=500, r=0.02, t_end=20)\n"
      ],
      "metadata": {
        "id": "8cA5lz8fy_nl"
      },
      "id": "8cA5lz8fy_nl",
      "execution_count": 91,
      "outputs": []
    },
    {
      "cell_type": "code",
      "source": [
        "results_soup = run_simulation(soup, change_func)\n"
      ],
      "metadata": {
        "id": "HTiy1lgvy_h8"
      },
      "id": "HTiy1lgvy_h8",
      "execution_count": 92,
      "outputs": []
    },
    {
      "cell_type": "code",
      "source": [
        "res_milk = root_scalar(error_func_milk, milk, bracket=[0.1, 0.2])\n",
        "r_milk = res_milk.root"
      ],
      "metadata": {
        "id": "sCR3NNL_zZlZ"
      },
      "id": "sCR3NNL_zZlZ",
      "execution_count": 93,
      "outputs": []
    },
    {
      "cell_type": "code",
      "source": [
        "milk.r = r_milk\n",
        "results_milk = run_simulation(milk, change_func)"
      ],
      "metadata": {
        "id": "isb_tUrCzZh0"
      },
      "id": "isb_tUrCzZh0",
      "execution_count": 94,
      "outputs": []
    },
    {
      "cell_type": "code",
      "source": [
        "soup = make_system(T_init=85, volume=500, r=0.02, t_end=20)"
      ],
      "metadata": {
        "id": "GLpKWxBQzZeu"
      },
      "id": "GLpKWxBQzZeu",
      "execution_count": 95,
      "outputs": []
    },
    {
      "cell_type": "code",
      "source": [
        "results_soup = run_simulation(soup, change_func)\n"
      ],
      "metadata": {
        "id": "LTIEF_KwzZbu"
      },
      "id": "LTIEF_KwzZbu",
      "execution_count": 96,
      "outputs": []
    },
    {
      "cell_type": "code",
      "source": [
        "results_coffee.plot(label='coffee')\n",
        "results_milk.plot(color='C1', label='milk')\n",
        "results_soup.plot(color='C2', label='soup')\n",
        "\n",
        "# Decorate the plot\n",
        "decorate(xlabel='Time (min)',\n",
        "         ylabel='Temperature (C)',\n",
        "         title='Cooling of Coffee, Milk, and Soup')\n"
      ],
      "metadata": {
        "colab": {
          "base_uri": "https://localhost:8080/",
          "height": 309
        },
        "id": "ytojZcZ-zZZi",
        "outputId": "bf9b1e51-22ea-41b3-deb6-3ed4b904c10b"
      },
      "id": "ytojZcZ-zZZi",
      "execution_count": 97,
      "outputs": [
        {
          "output_type": "display_data",
          "data": {
            "text/plain": [
              "<Figure size 450x300 with 1 Axes>"
            ],
            "image/png": "[encoded data removed]"
          },
          "metadata": {}
        }
      ]
    },
    {
      "cell_type": "code",
      "source": [],
      "metadata": {
        "id": "LzFU_AtRzpL4"
      },
      "id": "LzFU_AtRzpL4",
      "execution_count": 97,
      "outputs": []
    }
  ],
  "metadata": {
    "celltoolbar": "Tags",
    "kernelspec": {
      "display_name": "Python 3 (ipykernel)",
      "language": "python",
      "name": "python3"
    },
    "language_info": {
      "codemirror_mode": {
        "name": "ipython",
        "version": 3
      },
      "file_extension": ".py",
      "mimetype": "text/x-python",
      "name": "python",
      "nbconvert_exporter": "python",
      "pygments_lexer": "ipython3",
      "version": "3.10.6"
    },
    "colab": {
      "provenance": []
    }
  },
  "nbformat": 4,
  "nbformat_minor": 5
}