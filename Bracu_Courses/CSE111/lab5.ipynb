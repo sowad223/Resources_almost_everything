{
  "nbformat": 4,
  "nbformat_minor": 0,
  "metadata": {
    "colab": {
      "provenance": []
    },
    "kernelspec": {
      "name": "python3",
      "display_name": "Python 3"
    },
    "language_info": {
      "name": "python"
    }
  },
  "cells": [
    {
      "cell_type": "code",
      "execution_count": null,
      "metadata": {
        "colab": {
          "base_uri": "https://localhost:8080/"
        },
        "id": "_GtlJrboV20R",
        "outputId": "6e040ef4-1caa-452b-eca9-f44978875c2e"
      },
      "outputs": [
        {
          "output_type": "stream",
          "name": "stdout",
          "text": [
            "Quiz 1 (out of 10): 10\n",
            "Quiz 2 (out of 10): 10\n",
            "Lab (out of 30): 30\n",
            "Mid (out of 20): 20\n",
            "Final (out of 30): 30\n",
            "Total marks: 100\n"
          ]
        }
      ],
      "source": [
        "class Exam:\n",
        "  def __init__(self,mark):\n",
        "    self.mark=mark\n",
        "  def __add__(self,obj1):\n",
        "    obj=self.mark+obj1.mark\n",
        "    return Exam(obj)\n",
        "Q1 = Exam(int(input(\"Quiz 1 (out of 10): \")))\n",
        "Q2 = Exam(int(input(\"Quiz 2 (out of 10): \")))\n",
        "Lab = Exam(int(input(\"Lab (out of 30): \")))\n",
        "Mid = Exam(int(input(\"Mid (out of 20): \")))\n",
        "Final = Exam(int(input(\"Final (out of 30): \")))\n",
        "total = Q1 + Q2 + Lab + Mid + Final\n",
        "print(\"Total marks: {}\".format(total.mark))"
      ]
    },
    {
      "cell_type": "code",
      "source": [
        "class Course:\n",
        "  def __init__(self,c_name):\n",
        "    self.c_name=c_name\n",
        "\n",
        "\n",
        "class Teacher:\n",
        "  def __init__(self,name,title):\n",
        "    self.__name=name\n",
        "    self.__title=title\n",
        "    self.__course=[]\n",
        "\n",
        "  def addCourse(self,obj1):\n",
        "    return  self.__course.append(obj1.c_name)\n",
        "  def printDetail(self):\n",
        "    print(\"====================================\")\n",
        "    print(f\"Name:  {self.__name}\")\n",
        "    print(f\"Department:  {self.__title}\")\n",
        "    print(\"List of courses\")\n",
        "    print(\"====================================\")\n",
        "    for i in self.__course:\n",
        "      print(i)\n",
        "    print(\"====================================\")\n",
        "t1 = Teacher(\"Saad Abdullah\", \"CSE\")\n",
        "t2 = Teacher(\"Mumit Khan\", \"CSE\")\n",
        "t3 = Teacher(\"Sadia Kazi\", \"CSE\")                          \n",
        "c1 = Course(\"CSE 110 Programming Language I\")                           \n",
        "c2 = Course(\"CSE 111 Programming Language-II\")                           \n",
        "c3 = Course(\"CSE 220 Data Structures\")                           \n",
        "c4 = Course(\"CSE 221 Algorithms\")                           \n",
        "c5 = Course(\"CCSE 230 Discrete Mathematics\")                           \n",
        "c6 = Course(\"CSE 310 Object Oriented Programming\")                           \n",
        "c7 = Course(\"CSE 320 Data Communications\")                          \n",
        "c8 = Course(\"CSE 340 Computer Architecture\") \n",
        "t1.addCourse(c1)\n",
        "t1.addCourse(c2)\n",
        "t2.addCourse(c3)\n",
        "t2.addCourse(c4)\n",
        "t2.addCourse(c5)\n",
        "t3.addCourse(c6)\n",
        "t3.addCourse(c7)\n",
        "t3.addCourse(c8)\n",
        "t1.printDetail()\n",
        "t2.printDetail()\n",
        "t3.printDetail()\n"
      ],
      "metadata": {
        "colab": {
          "base_uri": "https://localhost:8080/"
        },
        "id": "2ZSOurgKX0Ul",
        "outputId": "43315caa-7392-4c6c-941c-aa1420ab06d7"
      },
      "execution_count": null,
      "outputs": [
        {
          "output_type": "stream",
          "name": "stdout",
          "text": [
            "====================================\n",
            "Name:  Saad Abdullah\n",
            "Department:  CSE\n",
            "List of courses\n",
            "====================================\n",
            "CSE 110 Programming Language I\n",
            "CSE 111 Programming Language-II\n",
            "====================================\n",
            "====================================\n",
            "Name:  Mumit Khan\n",
            "Department:  CSE\n",
            "List of courses\n",
            "====================================\n",
            "CSE 220 Data Structures\n",
            "CSE 221 Algorithms\n",
            "CCSE 230 Discrete Mathematics\n",
            "====================================\n",
            "====================================\n",
            "Name:  Sadia Kazi\n",
            "Department:  CSE\n",
            "List of courses\n",
            "====================================\n",
            "CSE 310 Object Oriented Programming\n",
            "CSE 320 Data Communications\n",
            "CSE 340 Computer Architecture\n",
            "====================================\n"
          ]
        }
      ]
    },
    {
      "cell_type": "code",
      "source": [
        "class Team:\n",
        "    def __init__(self, name=None):\n",
        "        self.name = name\n",
        "        self.lis = []\n",
        "\n",
        "    def setName(self, name):\n",
        "        if self.name == None:\n",
        "            self.name = name\n",
        "            \n",
        "    def addPlayer(self, name):\n",
        "        self.lis.append(name.player)\n",
        "\n",
        "    def printDetail(self):\n",
        "        print(\"=====================\")\n",
        "        print(\"Team: \", self.name)\n",
        "        print(\"List of players: \")\n",
        "        print(self.lis)\n",
        "        print(\"=====================\")\n",
        "\n",
        "\n",
        "class Player:\n",
        "    def __init__(self, player):\n",
        "        self.player = player\n",
        "\n",
        "b = Team()\n",
        "b.setName('Bangladesh')\n",
        "mashrafi = Player(\"Mashrafi\")\n",
        "b.addPlayer(mashrafi)\n",
        "tamim = Player(\"Tamim\")\n",
        "b.addPlayer(tamim)\n",
        "b.printDetail()\n",
        "a = Team(\"Australia\")\n",
        "ponting = Player(\"Ponting\")\n",
        "a.addPlayer(ponting)\n",
        "lee = Player(\"Lee\")\n",
        "a.addPlayer(lee)\n",
        "a.printDetail()"
      ],
      "metadata": {
        "id": "qda6l6iYa3uL",
        "colab": {
          "base_uri": "https://localhost:8080/"
        },
        "outputId": "eb83ae01-7b61-4021-a1fb-624230ce884c"
      },
      "execution_count": null,
      "outputs": [
        {
          "output_type": "stream",
          "name": "stdout",
          "text": [
            "=====================\n",
            "Team:  Bangladesh\n",
            "List of players: \n",
            "['Mashrafi', 'Tamim']\n",
            "=====================\n",
            "=====================\n",
            "Team:  Australia\n",
            "List of players: \n",
            "['Ponting', 'Lee']\n",
            "=====================\n"
          ]
        }
      ]
    },
    {
      "cell_type": "code",
      "source": [
        "class Color:\n",
        "  def __init__(self,clr):\n",
        "    self.clr=clr\n",
        "\n",
        "  def __add__(self,obj1):\n",
        "    if self.clr==\"red\":\n",
        "      if obj1.clr==\"yellow\":\n",
        "        form=f\"Orange\"\n",
        "      elif obj1.clr==\"blue\":\n",
        "        form=f\"Violet\"\n",
        "    \n",
        "    elif self.clr==\"yellow\":\n",
        "      if obj1.clr==\"red\":\n",
        "        form=f\"Orange\"\n",
        "      elif obj1.clr==\"blue\":\n",
        "        form=f\"Green\"\n",
        "    else: \n",
        "      if obj1.clr==\"red\":\n",
        "        form=f\"Violet\"\n",
        "      elif obj1.clr==\"yellow\":\n",
        "        form=f\"Green\"\n",
        "    return Color(form)\n",
        "\n",
        "\n",
        "\n",
        "\n",
        "C1 = Color(input(\"First Color: \").lower())\n",
        "C2 = Color(input(\"Second Color: \").lower())\n",
        "C3 = C1 + C2\n",
        "print(\"Color formed:\", C3.clr)\n"
      ],
      "metadata": {
        "colab": {
          "base_uri": "https://localhost:8080/"
        },
        "id": "G31hEtAm-sPj",
        "outputId": "135a0c7a-6df1-4c02-d902-dd563a44fd1f"
      },
      "execution_count": null,
      "outputs": [
        {
          "output_type": "stream",
          "name": "stdout",
          "text": [
            "First Color: red\n",
            "Second Color: yellow\n",
            "Color formed: Orange\n"
          ]
        }
      ]
    },
    {
      "cell_type": "code",
      "source": [
        "import math\n",
        "class Circle:\n",
        "  def __init__(self,radius):\n",
        "    self.__radius=radius\n",
        "  def getRadius(self):\n",
        "    return self.__radius\n",
        "  def area(self):\n",
        "    return  math.pi*(self.__radius)**2\n",
        "  def __add__(self,obj1):\n",
        "     summ=self.__radius+obj1.__radius\n",
        "     return Circle(summ)\n",
        "\n",
        "\n",
        "\n",
        "\n",
        "\n",
        "c1 = Circle(4)\n",
        "print(\"First circle radius:\" , c1.getRadius())\n",
        "print(\"First circle area:\" ,c1.area())\n",
        " \n",
        "c2 = Circle(5)\n",
        "print(\"Second circle radius:\" ,c2.getRadius())\n",
        "print(\"Second circle area:\" ,c2.area())\n",
        " \n",
        "c3 = c1 + c2 \n",
        "print(\"Third circle radius:\" ,c3.getRadius())\n",
        "print(\"Third circle area:\" ,c3.area())\n"
      ],
      "metadata": {
        "colab": {
          "base_uri": "https://localhost:8080/"
        },
        "id": "6iD4ffzbIWjD",
        "outputId": "d37103bd-b4cf-48d7-f4e7-3f112f74e173"
      },
      "execution_count": null,
      "outputs": [
        {
          "output_type": "stream",
          "name": "stdout",
          "text": [
            "First circle radius: 4\n",
            "First circle area: 50.26548245743669\n",
            "Second circle radius: 5\n",
            "Second circle area: 78.53981633974483\n",
            "Third circle radius: 9\n",
            "Third circle area: 254.46900494077323\n"
          ]
        }
      ]
    },
    {
      "cell_type": "code",
      "source": [
        "class Triangle:\n",
        "  def __init__(self,base,height):\n",
        "    self.__base=base\n",
        "    self.__height=height\n",
        "  def getBase(self):\n",
        "    return self.__base\n",
        "  def getHeight(self):\n",
        "    return self.__height\n",
        "  def __sub__(self,obj1):\n",
        "    newbase=self.__base-obj1.__base\n",
        "    newheight=self.__height-obj1.__height\n",
        "    return Triangle(newbase,newheight)\n",
        "  def area(self):\n",
        "    return 0.5*self.__base*self.__height\n",
        "\n",
        "\n",
        "\n",
        "\n",
        "t1 = Triangle(10, 5)\n",
        "print(\"First Triangle Base:\" , t1.getBase())\n",
        "print(\"First Triangle Height:\" , t1.getHeight())\n",
        "print(\"First Triangle area:\" ,t1.area())\n",
        " \n",
        "t2 = Triangle(5, 3)\n",
        "print(\"Second Triangle Base:\" , t2.getBase())\n",
        "print(\"Second Triangle Height:\" , t2.getHeight())\n",
        "print(\"Second Triangle area:\" ,t2.area())\n",
        " \n",
        "t3 = t1 - t2 \n",
        "print(\"Third Triangle Base:\" , t3.getBase())\n",
        "print(\"Third Triangle Height:\" , t3.getHeight())\n",
        "print(\"Third Triangle area:\" ,t3.area())\n"
      ],
      "metadata": {
        "colab": {
          "base_uri": "https://localhost:8080/"
        },
        "id": "xWwQxFCVLRkl",
        "outputId": "52474fc4-4bc4-478e-8f2a-9c8530f7fb15"
      },
      "execution_count": null,
      "outputs": [
        {
          "output_type": "stream",
          "name": "stdout",
          "text": [
            "First Triangle Base: 10\n",
            "First Triangle Height: 5\n",
            "First Triangle area: 25.0\n",
            "Second Triangle Base: 5\n",
            "Second Triangle Height: 3\n",
            "Second Triangle area: 7.5\n",
            "Third Triangle Base: 5\n",
            "Third Triangle Height: 2\n",
            "Third Triangle area: 5.0\n"
          ]
        }
      ]
    },
    {
      "cell_type": "code",
      "source": [
        "class Dolls:\n",
        "    def __init__(self, name, price):\n",
        "        self.name = name\n",
        "        self.price = price\n",
        "\n",
        "    def detail(self):\n",
        "        lst = self.name.split()\n",
        "\n",
        "        if len(lst) <= 2:\n",
        "            return f\"Doll: {self.name} \\nTotal price: {str(self.price)} taka\"\n",
        "        else:\n",
        "            return f\"Dolls: {self.name} \\nTotal price: {str(self.price)} taka\"\n",
        "\n",
        "    def __gt__(self, other):\n",
        "        if self.price > other.price:\n",
        "            return True\n",
        "        else:\n",
        "            return False\n",
        "\n",
        "    def __add__(self, other):\n",
        "        var1 = self.price + other.price\n",
        "        var2 = self.name + \" \" + other.name\n",
        "        return Dolls(var2, var1)\n",
        "\n",
        "obj_1 = Dolls(\"Tweety\", 2500)\n",
        "print(obj_1.detail())\n",
        "if obj_1 > obj_1:\n",
        "    print(\"Congratulations! You get the Tweety as a gift!\")\n",
        "else:\n",
        "    print(\"Thank you!\")\n",
        "\n",
        "print(\"=========================\")\n",
        "obj_2 = Dolls(\"Daffy Duck\", 1800)\n",
        "print(obj_2.detail())\n",
        "if obj_2 > obj_1:\n",
        "    print(\"Congratulations! You get the Tweety as a gift!\")\n",
        "else:\n",
        "    print(\"Thank you!\")\n",
        "\n",
        "print(\"=========================\")\n",
        "obj_3 = Dolls(\"Bugs Bunny\", 3000)\n",
        "print(obj_3.detail())\n",
        "if obj_3 > obj_1:\n",
        "    print(\"Congratulations! You get the Tweety as a gift!\")\n",
        "else:\n",
        "    print(\"Thank you!\")\n",
        "\n",
        "print(\"=========================\")\n",
        "obj_4 = Dolls(\"Porky Pig\", 1500)\n",
        "print(obj_4.detail())\n",
        "if obj_4 > obj_1:\n",
        "    print(\"Congratulations! You get the Tweety as a gift!\")\n",
        "else:\n",
        "    print(\"Thank you!\")\n",
        "\n",
        "print(\"=========================\")\n",
        "obj_5 = obj_2 + obj_3\n",
        "print(obj_5.detail())\n",
        "if obj_5 > obj_1:\n",
        "    print(\"Congratulations! You get the Tweety as a gift!\")\n",
        "else:\n",
        "    print(\"Thank you!\")"
      ],
      "metadata": {
        "colab": {
          "base_uri": "https://localhost:8080/"
        },
        "id": "jQIZUFF4Nimc",
        "outputId": "459b8430-bf0b-4529-8e5f-ae12d4f0fc79"
      },
      "execution_count": null,
      "outputs": [
        {
          "output_type": "stream",
          "name": "stdout",
          "text": [
            "Doll: Tweety \n",
            "Total price: 2500 taka\n",
            "Thank you!\n",
            "=========================\n",
            "Doll: Daffy Duck \n",
            "Total price: 1800 taka\n",
            "Thank you!\n",
            "=========================\n",
            "Doll: Bugs Bunny \n",
            "Total price: 3000 taka\n",
            "Congratulations! You get the Tweety as a gift!\n",
            "=========================\n",
            "Doll: Porky Pig \n",
            "Total price: 1500 taka\n",
            "Thank you!\n",
            "=========================\n",
            "Dolls: Daffy Duck Bugs Bunny \n",
            "Total price: 4800 taka\n",
            "Congratulations! You get the Tweety as a gift!\n"
          ]
        }
      ]
    },
    {
      "cell_type": "code",
      "source": [
        "class  Coordinates:\n",
        "  def __init__(self,a,b):\n",
        "    self.a=a\n",
        "    self.b=b\n",
        "  def __sub__(self,obj1):\n",
        "    c=self.a-obj1.a\n",
        "    d=self.b-obj1.b\n",
        "    return Coordinates(c,d)\n",
        "  def __mul__(self,obj1):\n",
        "    e=self.a*obj1.a\n",
        "    f=self.b*obj1.b\n",
        "    return Coordinates(e,f)\n",
        "  def __eq__(self,obj):\n",
        "    if self.a==obj.a and self.b==obj.b:\n",
        "      return f\"The calculated coordinates are the same.\"\n",
        "    else:\n",
        "      return f\"The calculated coordinates are NOT the same.\"\n",
        "  def detail(self):\n",
        "    return f\"({self.a},{self.b})\"\n",
        "\n",
        "p1 = Coordinates(int(input()),int(input()))\n",
        "p2 = Coordinates(int(input()),int(input()))\n",
        "\n",
        "p4 = p1 - p2 \n",
        "print(p4.detail())\n",
        "\n",
        "p5 = p1 * p2\n",
        "print(p5.detail())\n",
        "\n",
        "point_check = (p4 == p5)\n",
        "print(point_check)\n"
      ],
      "metadata": {
        "colab": {
          "base_uri": "https://localhost:8080/"
        },
        "id": "QpQkVlBpRR9P",
        "outputId": "7c031818-3f2f-49e1-e23e-ec08dd3eef5a"
      },
      "execution_count": null,
      "outputs": [
        {
          "output_type": "stream",
          "name": "stdout",
          "text": [
            "1\n",
            "2\n",
            "3\n",
            "4\n",
            "(-2,-2)\n",
            "(3,8)\n",
            "The calculated coordinates are NOT the same.\n"
          ]
        }
      ]
    }
  ]
}